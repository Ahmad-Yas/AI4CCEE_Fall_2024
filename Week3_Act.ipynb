{
  "nbformat": 4,
  "nbformat_minor": 0,
  "metadata": {
    "colab": {
      "provenance": [],
      "authorship_tag": "ABX9TyNADL+ALvRYcSt7sJca9wUt",
      "include_colab_link": true
    },
    "kernelspec": {
      "name": "python3",
      "display_name": "Python 3"
    },
    "language_info": {
      "name": "python"
    }
  },
  "cells": [
    {
      "cell_type": "markdown",
      "metadata": {
        "id": "view-in-github",
        "colab_type": "text"
      },
      "source": [
        "<a href=\"https://colab.research.google.com/github/inusah4/AI4CCEE_Adnan44/blob/main/Week3_Act.ipynb\" target=\"_parent\"><img src=\"https://colab.research.google.com/assets/colab-badge.svg\" alt=\"Open In Colab\"/></a>"
      ]
    },
    {
      "cell_type": "code",
      "execution_count": 1,
      "metadata": {
        "id": "_d3aMddSQ-Hc"
      },
      "outputs": [],
      "source": [
        "!mkdir act_2"
      ]
    },
    {
      "cell_type": "code",
      "source": [
        "!pwd"
      ],
      "metadata": {
        "colab": {
          "base_uri": "https://localhost:8080/"
        },
        "id": "sYaPnmgzSVUy",
        "outputId": "84643773-d110-4b95-da2f-bafcc030eb88"
      },
      "execution_count": 2,
      "outputs": [
        {
          "output_type": "stream",
          "name": "stdout",
          "text": [
            "/content\n"
          ]
        }
      ]
    },
    {
      "cell_type": "code",
      "source": [
        "%cd act_2"
      ],
      "metadata": {
        "colab": {
          "base_uri": "https://localhost:8080/"
        },
        "id": "oIXGtc-NRnkt",
        "outputId": "f0ac5e91-f408-4f4e-89ec-d8ce758b31eb"
      },
      "execution_count": 5,
      "outputs": [
        {
          "output_type": "stream",
          "name": "stdout",
          "text": [
            "/content/act_2\n"
          ]
        }
      ]
    },
    {
      "cell_type": "code",
      "source": [
        "!pwd"
      ],
      "metadata": {
        "colab": {
          "base_uri": "https://localhost:8080/"
        },
        "id": "Yoq5DH7MSbvw",
        "outputId": "d5596265-79be-433b-9803-1d3296e473b0"
      },
      "execution_count": 6,
      "outputs": [
        {
          "output_type": "stream",
          "name": "stdout",
          "text": [
            "/content/act_2\n"
          ]
        }
      ]
    },
    {
      "cell_type": "code",
      "source": [
        "!echo \"Hello, World! My name is Thanos. I have five infinity stones. I made half the world disappear.\" > example.txt"
      ],
      "metadata": {
        "id": "_reYQNjXS7E8"
      },
      "execution_count": 8,
      "outputs": []
    },
    {
      "cell_type": "code",
      "source": [
        "!ls"
      ],
      "metadata": {
        "colab": {
          "base_uri": "https://localhost:8080/"
        },
        "id": "BXPYQeVdSpnA",
        "outputId": "5a86a581-750b-47bb-aeb9-c851880864e2"
      },
      "execution_count": 9,
      "outputs": [
        {
          "output_type": "stream",
          "name": "stdout",
          "text": [
            "example.txt\n"
          ]
        }
      ]
    },
    {
      "cell_type": "code",
      "source": [
        "name = 'Adnan'\n",
        "age = 33"
      ],
      "metadata": {
        "id": "5ab3F6jfWKKZ"
      },
      "execution_count": 18,
      "outputs": []
    },
    {
      "cell_type": "code",
      "source": [
        "print ('My name is {} and I am {} years old.'.format(name, age))"
      ],
      "metadata": {
        "colab": {
          "base_uri": "https://localhost:8080/"
        },
        "id": "t02ei4NRWOmw",
        "outputId": "994e086a-64b2-4130-e2e7-179491865376"
      },
      "execution_count": 21,
      "outputs": [
        {
          "output_type": "stream",
          "name": "stdout",
          "text": [
            "My name is Adnan and I am 33 years old.\n"
          ]
        }
      ]
    },
    {
      "cell_type": "code",
      "source": [
        "print (f'My name is {name} and I am {age} years old.')"
      ],
      "metadata": {
        "colab": {
          "base_uri": "https://localhost:8080/"
        },
        "id": "GMfZtwCmWxM0",
        "outputId": "1f5ade49-1eb6-4d9f-ce9a-fd0de26db183"
      },
      "execution_count": 23,
      "outputs": [
        {
          "output_type": "stream",
          "name": "stdout",
          "text": [
            "My name is Adnan and I am 33 years old.\n"
          ]
        }
      ]
    },
    {
      "cell_type": "code",
      "source": [
        "sentence = (f'My name is {name} and I am {age} years old.')"
      ],
      "metadata": {
        "id": "yDtS06K6Xrmb"
      },
      "execution_count": 34,
      "outputs": []
    },
    {
      "cell_type": "code",
      "source": [
        "print(sentence.upper())"
      ],
      "metadata": {
        "colab": {
          "base_uri": "https://localhost:8080/"
        },
        "id": "do33MjdmX2Yz",
        "outputId": "800109a7-bd5b-452c-9c6b-a6d374efdc8e"
      },
      "execution_count": 25,
      "outputs": [
        {
          "output_type": "stream",
          "name": "stdout",
          "text": [
            "MY NAME IS ADNAN AND I AM 33 YEARS OLD.\n"
          ]
        }
      ]
    },
    {
      "cell_type": "code",
      "source": [
        "print(sentence.lower())"
      ],
      "metadata": {
        "colab": {
          "base_uri": "https://localhost:8080/"
        },
        "id": "AHCEmBPuYEyL",
        "outputId": "9f2f0eaa-b66f-4d5a-e813-516844b46e56"
      },
      "execution_count": 26,
      "outputs": [
        {
          "output_type": "stream",
          "name": "stdout",
          "text": [
            "my name is adnan and i am 33 years old.\n"
          ]
        }
      ]
    },
    {
      "cell_type": "code",
      "source": [
        "hobby = 'programming'"
      ],
      "metadata": {
        "id": "O40fwGfMYKOp"
      },
      "execution_count": 27,
      "outputs": []
    },
    {
      "cell_type": "code",
      "source": [
        "new_sentence = sentence.replace(f'I am {age} years old', f'I love {hobby}')"
      ],
      "metadata": {
        "id": "cp9k5HQbbyTk"
      },
      "execution_count": 50,
      "outputs": []
    },
    {
      "cell_type": "code",
      "source": [
        "print(new_sentence)"
      ],
      "metadata": {
        "colab": {
          "base_uri": "https://localhost:8080/"
        },
        "id": "nTvXuTPLbygt",
        "outputId": "a4f0dcf1-4168-4123-dac6-9e7b40fe2eac"
      },
      "execution_count": 53,
      "outputs": [
        {
          "output_type": "stream",
          "name": "stdout",
          "text": [
            "My name is Adnan and I love programming.\n"
          ]
        }
      ]
    },
    {
      "cell_type": "code",
      "source": [
        "asphalt_unit_cost = 0\n",
        "asphalt_quantity = 0\n",
        "concrete_unit_cost = 0\n",
        "concrete_quantity = 0\n",
        "labor_unit_cost = 0\n",
        "labor_hours = 0"
      ],
      "metadata": {
        "id": "-6n5pyCaewtO"
      },
      "execution_count": 63,
      "outputs": []
    },
    {
      "cell_type": "code",
      "source": [
        "asphalt_unit_cost = int(input(\"What is the unit cost of asphalt? \"))\n",
        "asphalt_quantity = int(input(\"What is the volume of asphalt in cm3? \"))\n",
        "concrete_unit_cost = int(input(\"What is the unit cost of concrete? \"))\n",
        "concrete_quantity = int(input(\"What is the volume of concrete in cm3? \"))\n",
        "labor_unit_cost = int(input(\"What is the unit cost of labor? \"))\n",
        "labor_hours = int(input(\"What is the total labor hours? \"))\n"
      ],
      "metadata": {
        "colab": {
          "base_uri": "https://localhost:8080/"
        },
        "id": "TnYLc7bAcVyI",
        "outputId": "def6761e-436f-40ea-ebc7-a5789df1ff7d"
      },
      "execution_count": 64,
      "outputs": [
        {
          "name": "stdout",
          "output_type": "stream",
          "text": [
            "What is the unit cost of asphalt? 25\n",
            "What is the volume of asphalt in cm3? 100\n",
            "What is the unit cost of concrete? 35\n",
            "What is the volume of concrete in cm3? 200\n",
            "What is the unit cost of labor? 40\n",
            "What is the total labor hours? 40\n"
          ]
        }
      ]
    },
    {
      "cell_type": "code",
      "source": [
        "asphalt_total_cost = asphalt_unit_cost * asphalt_quantity\n",
        "concrete_total_cost = concrete_unit_cost * concrete_quantity\n",
        "labor_total_cost = labor_unit_cost * labor_hours\n",
        "total_cost = asphalt_total_cost + concrete_total_cost + labor_total_cost"
      ],
      "metadata": {
        "id": "nujS3FB-fwYj"
      },
      "execution_count": 66,
      "outputs": []
    },
    {
      "cell_type": "code",
      "source": [
        "print(asphalt_total_cost)\n",
        "print(concrete_total_cost)\n",
        "print(labor_total_cost)\n",
        "print(total_cost)"
      ],
      "metadata": {
        "colab": {
          "base_uri": "https://localhost:8080/"
        },
        "id": "iJ4JrWGCf_i8",
        "outputId": "a2da58d5-39ed-4ebc-96e0-56b36ebad282"
      },
      "execution_count": 67,
      "outputs": [
        {
          "output_type": "stream",
          "name": "stdout",
          "text": [
            "2500\n",
            "7000\n",
            "1600\n",
            "11100\n"
          ]
        }
      ]
    },
    {
      "cell_type": "code",
      "source": [
        "budget = 50000"
      ],
      "metadata": {
        "id": "_kvDogf6gOCG"
      },
      "execution_count": 70,
      "outputs": []
    },
    {
      "cell_type": "code",
      "source": [
        "if total_cost <= budget:\n",
        "  print(\"Project is within budget.\")\n",
        "else:\n",
        "  print(\"Project is over budget.\")"
      ],
      "metadata": {
        "colab": {
          "base_uri": "https://localhost:8080/"
        },
        "id": "RWpb5LYvgSJ6",
        "outputId": "f4d35f93-650e-4026-b1a4-bed888cc7e95"
      },
      "execution_count": 71,
      "outputs": [
        {
          "output_type": "stream",
          "name": "stdout",
          "text": [
            "Project is within budget.\n"
          ]
        }
      ]
    },
    {
      "cell_type": "code",
      "source": [
        "def check_budget(total_cost, budget):\n",
        "  if total_cost <= budget:\n",
        "    print(\"Project is within budget.\")\n",
        "  else:\n",
        "    print(\"Project is over budget.\")"
      ],
      "metadata": {
        "id": "GohovFahksCl"
      },
      "execution_count": 72,
      "outputs": []
    },
    {
      "cell_type": "code",
      "source": [
        "check_budget(total_cost, budget)"
      ],
      "metadata": {
        "colab": {
          "base_uri": "https://localhost:8080/"
        },
        "id": "EpPlm2cukvZu",
        "outputId": "91fdd360-f9d2-4e22-d2e6-7dd8f164259a"
      },
      "execution_count": 73,
      "outputs": [
        {
          "output_type": "stream",
          "name": "stdout",
          "text": [
            "Project is within budget.\n"
          ]
        }
      ]
    },
    {
      "cell_type": "code",
      "source": [
        "import pandas as pd"
      ],
      "metadata": {
        "id": "IWMIB0pxnG50"
      },
      "execution_count": 75,
      "outputs": []
    },
    {
      "cell_type": "code",
      "source": [
        "df = pd.read_csv('example.csv')"
      ],
      "metadata": {
        "id": "7G6b9caEnDRI"
      },
      "execution_count": 76,
      "outputs": []
    },
    {
      "cell_type": "code",
      "source": [
        "print(df.head())"
      ],
      "metadata": {
        "colab": {
          "base_uri": "https://localhost:8080/"
        },
        "id": "G_JsfEbMnr17",
        "outputId": "85e8054c-d67d-4c51-faac-c52d4a1346d9"
      },
      "execution_count": 83,
      "outputs": [
        {
          "output_type": "stream",
          "name": "stdout",
          "text": [
            "    Name  Age         City  Gender\n",
            "0   John   26     New York    Male\n",
            "1   Jane   31  Los Angeles  Female\n",
            "2  Alice   22      Chicago  Female\n",
            "3    Bob   45      Houston    Male\n",
            "4  Carol   37      Phoenix  Female\n"
          ]
        }
      ]
    },
    {
      "cell_type": "code",
      "source": [
        "print(df.describe())"
      ],
      "metadata": {
        "colab": {
          "base_uri": "https://localhost:8080/"
        },
        "id": "4UfVHpp2oCEi",
        "outputId": "6ccf8d5a-fd02-4ea5-b527-c3bfa8ca353b"
      },
      "execution_count": 84,
      "outputs": [
        {
          "output_type": "stream",
          "name": "stdout",
          "text": [
            "             Age\n",
            "count  55.000000\n",
            "mean   31.127273\n",
            "std     6.675146\n",
            "min    21.000000\n",
            "25%    26.000000\n",
            "50%    29.000000\n",
            "75%    35.500000\n",
            "max    46.000000\n"
          ]
        }
      ]
    },
    {
      "cell_type": "code",
      "source": [
        "print(df.info())"
      ],
      "metadata": {
        "colab": {
          "base_uri": "https://localhost:8080/"
        },
        "id": "I2JFuomCoYvS",
        "outputId": "cd8dd397-45b9-4656-f7ad-453c53e714b5"
      },
      "execution_count": 85,
      "outputs": [
        {
          "output_type": "stream",
          "name": "stdout",
          "text": [
            "<class 'pandas.core.frame.DataFrame'>\n",
            "RangeIndex: 55 entries, 0 to 54\n",
            "Data columns (total 4 columns):\n",
            " #   Column  Non-Null Count  Dtype \n",
            "---  ------  --------------  ----- \n",
            " 0   Name    55 non-null     object\n",
            " 1   Age     55 non-null     int64 \n",
            " 2   City    55 non-null     object\n",
            " 3   Gender  55 non-null     object\n",
            "dtypes: int64(1), object(3)\n",
            "memory usage: 1.8+ KB\n",
            "None\n"
          ]
        }
      ]
    },
    {
      "cell_type": "code",
      "source": [
        "# Selecting a single column\n",
        "ages = df['Age']\n",
        "\n",
        "# Selecting multiple columns\n",
        "subset = df[['Name', 'City']]\n",
        "\n",
        "# Filtering based on a condition\n",
        "young_people = df[df['Age'] < 30]\n"
      ],
      "metadata": {
        "id": "S4fGLj2ape2B"
      },
      "execution_count": 86,
      "outputs": []
    },
    {
      "cell_type": "code",
      "source": [
        "print(young_people.head())"
      ],
      "metadata": {
        "colab": {
          "base_uri": "https://localhost:8080/"
        },
        "id": "4N43xXCBppk7",
        "outputId": "2026e6f8-ed2b-4186-8619-79a365ca30b1"
      },
      "execution_count": 88,
      "outputs": [
        {
          "output_type": "stream",
          "name": "stdout",
          "text": [
            "    Name  Age         City  Gender\n",
            "0   John   26     New York    Male\n",
            "2  Alice   22      Chicago  Female\n",
            "5   John   26     New York  Female\n",
            "6   Jane   29  Los Angeles  Female\n",
            "7  Alice   24      Chicago    Male\n"
          ]
        }
      ]
    },
    {
      "cell_type": "code",
      "source": [
        "traffic_data = pd.read_csv('235-Nov.csv')"
      ],
      "metadata": {
        "id": "Pd11rsFtq5Ep"
      },
      "execution_count": 89,
      "outputs": []
    },
    {
      "cell_type": "code",
      "source": [
        "print(traffic_data.head())"
      ],
      "metadata": {
        "colab": {
          "base_uri": "https://localhost:8080/"
        },
        "id": "z4Vox0W4rW1o",
        "outputId": "140d8dc0-13c4-491d-8a4e-843e2f3137bb"
      },
      "execution_count": 92,
      "outputs": [
        {
          "output_type": "stream",
          "name": "stdout",
          "text": [
            "  owner-id network-id      date   time  utc-offset  start-ime  end-time  \\\n",
            "0   Q-Free     Q-Free  20211110  80900           0      80800     80900   \n",
            "1   Q-Free     Q-Free  20211110  80900           0      80800     80900   \n",
            "2   Q-Free     Q-Free  20211110  80900           0      80800     80900   \n",
            "3   Q-Free     Q-Free  20211110  80900           0      80800     80900   \n",
            "4   Q-Free     Q-Free  20211110  80900           0      80800     80900   \n",
            "\n",
            "     detector-id status  lane-id  ...  small-class-count  medium-class-count  \\\n",
            "0   DMDS20-WB EN     OK        1  ...                  0                   0   \n",
            "1   DMDS20-WB RL     OK        4  ...                  0                   1   \n",
            "2  DMDS20-WB RCL     OK        3  ...                  0                   0   \n",
            "3  DMDS20-WB LCL     OK        2  ...                  0                   0   \n",
            "4   DMDS20-WB LL     OK        1  ...                  0                   0   \n",
            "\n",
            "   large-class-count                device-id  link-direction  detector-type  \\\n",
            "0                  0  OpenTMS-Detector46573-0               w        unknown   \n",
            "1                  0  OpenTMS-Detector46573-1               w        unknown   \n",
            "2                  0  OpenTMS-Detector46573-2               w        unknown   \n",
            "3                  0  OpenTMS-Detector46573-3               w        unknown   \n",
            "4                  0  OpenTMS-Detector46573-4               w        unknown   \n",
            "\n",
            "  sample-period device-description month  day  \n",
            "0            60            ON_RAMP    11   10  \n",
            "1            60             NORMAL    11   10  \n",
            "2            60             NORMAL    11   10  \n",
            "3            60             NORMAL    11   10  \n",
            "4            60             NORMAL    11   10  \n",
            "\n",
            "[5 rows x 23 columns]\n"
          ]
        }
      ]
    },
    {
      "cell_type": "code",
      "source": [
        "print(traffic_data.info())"
      ],
      "metadata": {
        "colab": {
          "base_uri": "https://localhost:8080/"
        },
        "id": "Ad2Sn2YfrdFB",
        "outputId": "d130e1ca-5760-4ca5-811f-a7e90364838b"
      },
      "execution_count": 93,
      "outputs": [
        {
          "output_type": "stream",
          "name": "stdout",
          "text": [
            "<class 'pandas.core.frame.DataFrame'>\n",
            "RangeIndex: 128780 entries, 0 to 128779\n",
            "Data columns (total 23 columns):\n",
            " #   Column              Non-Null Count   Dtype \n",
            "---  ------              --------------   ----- \n",
            " 0   owner-id            128780 non-null  object\n",
            " 1   network-id          128780 non-null  object\n",
            " 2   date                128780 non-null  int64 \n",
            " 3   time                128780 non-null  int64 \n",
            " 4   utc-offset          128780 non-null  int64 \n",
            " 5   start-ime           128780 non-null  int64 \n",
            " 6   end-time            128780 non-null  int64 \n",
            " 7   detector-id         128780 non-null  object\n",
            " 8   status              128780 non-null  object\n",
            " 9   lane-id             128780 non-null  int64 \n",
            " 10  lane-count          128780 non-null  int64 \n",
            " 11  lane-occupancy      128780 non-null  int64 \n",
            " 12  lane-speed          128780 non-null  int64 \n",
            " 13  small-class-count   128780 non-null  int64 \n",
            " 14  medium-class-count  128780 non-null  int64 \n",
            " 15  large-class-count   128780 non-null  int64 \n",
            " 16  device-id           128780 non-null  object\n",
            " 17  link-direction      128780 non-null  object\n",
            " 18  detector-type       128780 non-null  object\n",
            " 19  sample-period       128780 non-null  int64 \n",
            " 20  device-description  128780 non-null  object\n",
            " 21  month               128780 non-null  int64 \n",
            " 22  day                 128780 non-null  int64 \n",
            "dtypes: int64(15), object(8)\n",
            "memory usage: 22.6+ MB\n",
            "None\n"
          ]
        }
      ]
    },
    {
      "cell_type": "code",
      "source": [
        "print(traffic_data.describe())"
      ],
      "metadata": {
        "id": "GpLFvSfur4zA"
      },
      "execution_count": null,
      "outputs": []
    },
    {
      "cell_type": "code",
      "source": [
        "print(traffic_data.isnull().sum())"
      ],
      "metadata": {
        "colab": {
          "base_uri": "https://localhost:8080/"
        },
        "id": "55rvfwfzrll2",
        "outputId": "3dfe80c2-4bf9-4c14-c9ea-617accb19067"
      },
      "execution_count": 95,
      "outputs": [
        {
          "output_type": "stream",
          "name": "stdout",
          "text": [
            "owner-id              0\n",
            "network-id            0\n",
            "date                  0\n",
            "time                  0\n",
            "utc-offset            0\n",
            "start-ime             0\n",
            "end-time              0\n",
            "detector-id           0\n",
            "status                0\n",
            "lane-id               0\n",
            "lane-count            0\n",
            "lane-occupancy        0\n",
            "lane-speed            0\n",
            "small-class-count     0\n",
            "medium-class-count    0\n",
            "large-class-count     0\n",
            "device-id             0\n",
            "link-direction        0\n",
            "detector-type         0\n",
            "sample-period         0\n",
            "device-description    0\n",
            "month                 0\n",
            "day                   0\n",
            "dtype: int64\n"
          ]
        }
      ]
    },
    {
      "cell_type": "code",
      "source": [
        "traffic_data['hours'] = traffic_data['time'].str[:2].astype(int) + \\\n",
        "                        traffic_data['time'].str[2:4].astype(int) / 60 + \\\n",
        "                        traffic_data['time'].str[4:].astype(int) / 3600"
      ],
      "metadata": {
        "colab": {
          "base_uri": "https://localhost:8080/",
          "height": 356
        },
        "id": "nWDNb_vAr2WT",
        "outputId": "9b1ee655-92b8-4983-dcba-62d814cbd36b"
      },
      "execution_count": 98,
      "outputs": [
        {
          "output_type": "error",
          "ename": "AttributeError",
          "evalue": "Can only use .str accessor with string values!",
          "traceback": [
            "\u001b[0;31m---------------------------------------------------------------------------\u001b[0m",
            "\u001b[0;31mAttributeError\u001b[0m                            Traceback (most recent call last)",
            "\u001b[0;32m<ipython-input-98-0dee565dbf8a>\u001b[0m in \u001b[0;36m<cell line: 1>\u001b[0;34m()\u001b[0m\n\u001b[0;32m----> 1\u001b[0;31m \u001b[0mtraffic_data\u001b[0m\u001b[0;34m[\u001b[0m\u001b[0;34m'hours'\u001b[0m\u001b[0;34m]\u001b[0m \u001b[0;34m=\u001b[0m \u001b[0mtraffic_data\u001b[0m\u001b[0;34m[\u001b[0m\u001b[0;34m'time'\u001b[0m\u001b[0;34m]\u001b[0m\u001b[0;34m.\u001b[0m\u001b[0mstr\u001b[0m\u001b[0;34m[\u001b[0m\u001b[0;34m:\u001b[0m\u001b[0;36m2\u001b[0m\u001b[0;34m]\u001b[0m\u001b[0;34m.\u001b[0m\u001b[0mastype\u001b[0m\u001b[0;34m(\u001b[0m\u001b[0mint\u001b[0m\u001b[0;34m)\u001b[0m \u001b[0;34m+\u001b[0m\u001b[0;31m \u001b[0m\u001b[0;31m\\\u001b[0m\u001b[0;34m\u001b[0m\u001b[0;34m\u001b[0m\u001b[0m\n\u001b[0m\u001b[1;32m      2\u001b[0m                         \u001b[0mtraffic_data\u001b[0m\u001b[0;34m[\u001b[0m\u001b[0;34m'time'\u001b[0m\u001b[0;34m]\u001b[0m\u001b[0;34m.\u001b[0m\u001b[0mstr\u001b[0m\u001b[0;34m[\u001b[0m\u001b[0;36m2\u001b[0m\u001b[0;34m:\u001b[0m\u001b[0;36m4\u001b[0m\u001b[0;34m]\u001b[0m\u001b[0;34m.\u001b[0m\u001b[0mastype\u001b[0m\u001b[0;34m(\u001b[0m\u001b[0mint\u001b[0m\u001b[0;34m)\u001b[0m \u001b[0;34m/\u001b[0m \u001b[0;36m60\u001b[0m \u001b[0;34m+\u001b[0m\u001b[0;31m \u001b[0m\u001b[0;31m\\\u001b[0m\u001b[0;34m\u001b[0m\u001b[0;34m\u001b[0m\u001b[0m\n\u001b[1;32m      3\u001b[0m                         \u001b[0mtraffic_data\u001b[0m\u001b[0;34m[\u001b[0m\u001b[0;34m'time'\u001b[0m\u001b[0;34m]\u001b[0m\u001b[0;34m.\u001b[0m\u001b[0mstr\u001b[0m\u001b[0;34m[\u001b[0m\u001b[0;36m4\u001b[0m\u001b[0;34m:\u001b[0m\u001b[0;34m]\u001b[0m\u001b[0;34m.\u001b[0m\u001b[0mastype\u001b[0m\u001b[0;34m(\u001b[0m\u001b[0mint\u001b[0m\u001b[0;34m)\u001b[0m \u001b[0;34m/\u001b[0m \u001b[0;36m3600\u001b[0m\u001b[0;34m\u001b[0m\u001b[0;34m\u001b[0m\u001b[0m\n",
            "\u001b[0;32m/usr/local/lib/python3.10/dist-packages/pandas/core/generic.py\u001b[0m in \u001b[0;36m__getattr__\u001b[0;34m(self, name)\u001b[0m\n\u001b[1;32m   6202\u001b[0m         ):\n\u001b[1;32m   6203\u001b[0m             \u001b[0;32mreturn\u001b[0m \u001b[0mself\u001b[0m\u001b[0;34m[\u001b[0m\u001b[0mname\u001b[0m\u001b[0;34m]\u001b[0m\u001b[0;34m\u001b[0m\u001b[0;34m\u001b[0m\u001b[0m\n\u001b[0;32m-> 6204\u001b[0;31m         \u001b[0;32mreturn\u001b[0m \u001b[0mobject\u001b[0m\u001b[0;34m.\u001b[0m\u001b[0m__getattribute__\u001b[0m\u001b[0;34m(\u001b[0m\u001b[0mself\u001b[0m\u001b[0;34m,\u001b[0m \u001b[0mname\u001b[0m\u001b[0;34m)\u001b[0m\u001b[0;34m\u001b[0m\u001b[0;34m\u001b[0m\u001b[0m\n\u001b[0m\u001b[1;32m   6205\u001b[0m \u001b[0;34m\u001b[0m\u001b[0m\n\u001b[1;32m   6206\u001b[0m     \u001b[0;34m@\u001b[0m\u001b[0mfinal\u001b[0m\u001b[0;34m\u001b[0m\u001b[0;34m\u001b[0m\u001b[0m\n",
            "\u001b[0;32m/usr/local/lib/python3.10/dist-packages/pandas/core/accessor.py\u001b[0m in \u001b[0;36m__get__\u001b[0;34m(self, obj, cls)\u001b[0m\n\u001b[1;32m    222\u001b[0m             \u001b[0;31m# we're accessing the attribute of the class, i.e., Dataset.geo\u001b[0m\u001b[0;34m\u001b[0m\u001b[0;34m\u001b[0m\u001b[0m\n\u001b[1;32m    223\u001b[0m             \u001b[0;32mreturn\u001b[0m \u001b[0mself\u001b[0m\u001b[0;34m.\u001b[0m\u001b[0m_accessor\u001b[0m\u001b[0;34m\u001b[0m\u001b[0;34m\u001b[0m\u001b[0m\n\u001b[0;32m--> 224\u001b[0;31m         \u001b[0maccessor_obj\u001b[0m \u001b[0;34m=\u001b[0m \u001b[0mself\u001b[0m\u001b[0;34m.\u001b[0m\u001b[0m_accessor\u001b[0m\u001b[0;34m(\u001b[0m\u001b[0mobj\u001b[0m\u001b[0;34m)\u001b[0m\u001b[0;34m\u001b[0m\u001b[0;34m\u001b[0m\u001b[0m\n\u001b[0m\u001b[1;32m    225\u001b[0m         \u001b[0;31m# Replace the property with the accessor object. Inspired by:\u001b[0m\u001b[0;34m\u001b[0m\u001b[0;34m\u001b[0m\u001b[0m\n\u001b[1;32m    226\u001b[0m         \u001b[0;31m# https://www.pydanny.com/cached-property.html\u001b[0m\u001b[0;34m\u001b[0m\u001b[0;34m\u001b[0m\u001b[0m\n",
            "\u001b[0;32m/usr/local/lib/python3.10/dist-packages/pandas/core/strings/accessor.py\u001b[0m in \u001b[0;36m__init__\u001b[0;34m(self, data)\u001b[0m\n\u001b[1;32m    188\u001b[0m         \u001b[0;32mfrom\u001b[0m \u001b[0mpandas\u001b[0m\u001b[0;34m.\u001b[0m\u001b[0mcore\u001b[0m\u001b[0;34m.\u001b[0m\u001b[0marrays\u001b[0m\u001b[0;34m.\u001b[0m\u001b[0mstring_\u001b[0m \u001b[0;32mimport\u001b[0m \u001b[0mStringDtype\u001b[0m\u001b[0;34m\u001b[0m\u001b[0;34m\u001b[0m\u001b[0m\n\u001b[1;32m    189\u001b[0m \u001b[0;34m\u001b[0m\u001b[0m\n\u001b[0;32m--> 190\u001b[0;31m         \u001b[0mself\u001b[0m\u001b[0;34m.\u001b[0m\u001b[0m_inferred_dtype\u001b[0m \u001b[0;34m=\u001b[0m \u001b[0mself\u001b[0m\u001b[0;34m.\u001b[0m\u001b[0m_validate\u001b[0m\u001b[0;34m(\u001b[0m\u001b[0mdata\u001b[0m\u001b[0;34m)\u001b[0m\u001b[0;34m\u001b[0m\u001b[0;34m\u001b[0m\u001b[0m\n\u001b[0m\u001b[1;32m    191\u001b[0m         \u001b[0mself\u001b[0m\u001b[0;34m.\u001b[0m\u001b[0m_is_categorical\u001b[0m \u001b[0;34m=\u001b[0m \u001b[0misinstance\u001b[0m\u001b[0;34m(\u001b[0m\u001b[0mdata\u001b[0m\u001b[0;34m.\u001b[0m\u001b[0mdtype\u001b[0m\u001b[0;34m,\u001b[0m \u001b[0mCategoricalDtype\u001b[0m\u001b[0;34m)\u001b[0m\u001b[0;34m\u001b[0m\u001b[0;34m\u001b[0m\u001b[0m\n\u001b[1;32m    192\u001b[0m         \u001b[0mself\u001b[0m\u001b[0;34m.\u001b[0m\u001b[0m_is_string\u001b[0m \u001b[0;34m=\u001b[0m \u001b[0misinstance\u001b[0m\u001b[0;34m(\u001b[0m\u001b[0mdata\u001b[0m\u001b[0;34m.\u001b[0m\u001b[0mdtype\u001b[0m\u001b[0;34m,\u001b[0m \u001b[0mStringDtype\u001b[0m\u001b[0;34m)\u001b[0m\u001b[0;34m\u001b[0m\u001b[0;34m\u001b[0m\u001b[0m\n",
            "\u001b[0;32m/usr/local/lib/python3.10/dist-packages/pandas/core/strings/accessor.py\u001b[0m in \u001b[0;36m_validate\u001b[0;34m(data)\u001b[0m\n\u001b[1;32m    242\u001b[0m \u001b[0;34m\u001b[0m\u001b[0m\n\u001b[1;32m    243\u001b[0m         \u001b[0;32mif\u001b[0m \u001b[0minferred_dtype\u001b[0m \u001b[0;32mnot\u001b[0m \u001b[0;32min\u001b[0m \u001b[0mallowed_types\u001b[0m\u001b[0;34m:\u001b[0m\u001b[0;34m\u001b[0m\u001b[0;34m\u001b[0m\u001b[0m\n\u001b[0;32m--> 244\u001b[0;31m             \u001b[0;32mraise\u001b[0m \u001b[0mAttributeError\u001b[0m\u001b[0;34m(\u001b[0m\u001b[0;34m\"Can only use .str accessor with string values!\"\u001b[0m\u001b[0;34m)\u001b[0m\u001b[0;34m\u001b[0m\u001b[0;34m\u001b[0m\u001b[0m\n\u001b[0m\u001b[1;32m    245\u001b[0m         \u001b[0;32mreturn\u001b[0m \u001b[0minferred_dtype\u001b[0m\u001b[0;34m\u001b[0m\u001b[0;34m\u001b[0m\u001b[0m\n\u001b[1;32m    246\u001b[0m \u001b[0;34m\u001b[0m\u001b[0m\n",
            "\u001b[0;31mAttributeError\u001b[0m: Can only use .str accessor with string values!"
          ]
        }
      ]
    }
  ]
}