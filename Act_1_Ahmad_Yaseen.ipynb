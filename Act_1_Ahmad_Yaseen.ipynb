{
  "nbformat": 4,
  "nbformat_minor": 0,
  "metadata": {
    "colab": {
      "provenance": [],
      "authorship_tag": "ABX9TyOw9cbfO1/Bb1b/qpmChR8F",
      "include_colab_link": true
    },
    "kernelspec": {
      "name": "python3",
      "display_name": "Python 3"
    },
    "language_info": {
      "name": "python"
    }
  },
  "cells": [
    {
      "cell_type": "markdown",
      "metadata": {
        "id": "view-in-github",
        "colab_type": "text"
      },
      "source": [
        "<a href=\"https://colab.research.google.com/github/Ahmad-Yas/AI4CCEE_Fall_2024/blob/main/Act_1_Ahmad_Yaseen.ipynb\" target=\"_parent\"><img src=\"https://colab.research.google.com/assets/colab-badge.svg\" alt=\"Open In Colab\"/></a>"
      ]
    },
    {
      "cell_type": "code",
      "execution_count": null,
      "metadata": {
        "id": "GMwhWFh6RPaL"
      },
      "outputs": [],
      "source": [
        "!mkdir act_2"
      ]
    },
    {
      "cell_type": "code",
      "source": [
        "%cd act_2"
      ],
      "metadata": {
        "colab": {
          "base_uri": "https://localhost:8080/"
        },
        "id": "d4UPehdCSTPY",
        "outputId": "fdf1aede-9413-4f45-a7c8-9a5390adb7b0"
      },
      "execution_count": null,
      "outputs": [
        {
          "output_type": "stream",
          "name": "stdout",
          "text": [
            "/content/act_2\n"
          ]
        }
      ]
    },
    {
      "cell_type": "code",
      "source": [
        "!pwd\n",
        "!touch myfile.txt"
      ],
      "metadata": {
        "colab": {
          "base_uri": "https://localhost:8080/"
        },
        "id": "IO2gpxlaSXqb",
        "outputId": "5444cdb7-be80-4dd1-d790-1ca596136a7d"
      },
      "execution_count": null,
      "outputs": [
        {
          "output_type": "stream",
          "name": "stdout",
          "text": [
            "/content/act_2\n"
          ]
        }
      ]
    },
    {
      "cell_type": "code",
      "source": [
        "!echo -e '#!/bin/bash\\n echo \"Hello, this is a test message!\"\\n ls' > script.sh\n",
        "!chmod +x script.sh"
      ],
      "metadata": {
        "id": "_y8snY88SbFp"
      },
      "execution_count": 1,
      "outputs": []
    },
    {
      "cell_type": "code",
      "source": [
        "!./script.sh"
      ],
      "metadata": {
        "colab": {
          "base_uri": "https://localhost:8080/"
        },
        "id": "wZL_c4iNSiEZ",
        "outputId": "e3d39384-532f-4a77-caac-68f71dadfb73"
      },
      "execution_count": 2,
      "outputs": [
        {
          "output_type": "stream",
          "name": "stdout",
          "text": [
            "Hello, this is a test message!\n",
            "sample_data  script.sh\n"
          ]
        }
      ]
    }
  ]
}