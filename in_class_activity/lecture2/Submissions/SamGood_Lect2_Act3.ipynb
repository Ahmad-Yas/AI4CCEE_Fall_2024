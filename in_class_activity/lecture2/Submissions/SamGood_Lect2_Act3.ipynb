{
  "nbformat": 4,
  "nbformat_minor": 0,
  "metadata": {
    "colab": {
      "provenance": [],
      "mount_file_id": "1zOXVHYOwatRHLLQcHDTHS4b4KesmfiQI",
      "authorship_tag": "ABX9TyNyIEm2oKuuX07yejSRfVSR",
      "include_colab_link": true
    },
    "kernelspec": {
      "name": "python3",
      "display_name": "Python 3"
    },
    "language_info": {
      "name": "python"
    }
  },
  "cells": [
    {
      "cell_type": "markdown",
      "metadata": {
        "id": "view-in-github",
        "colab_type": "text"
      },
      "source": [
        "<a href=\"https://colab.research.google.com/github/vegansam/AI4CCEE_Fall_2024/blob/main/in_class_activity/lecture2/Submissions/SamGood_Lect2_Act3.ipynb\" target=\"_parent\"><img src=\"https://colab.research.google.com/assets/colab-badge.svg\" alt=\"Open In Colab\"/></a>"
      ]
    },
    {
      "cell_type": "code",
      "execution_count": null,
      "metadata": {
        "colab": {
          "base_uri": "https://localhost:8080/"
        },
        "id": "JqZe4tVOMEa7",
        "outputId": "513becb0-1ee5-4c5b-b395-ecc602a10f2f"
      },
      "outputs": [
        {
          "output_type": "stream",
          "name": "stdout",
          "text": [
            "Hello Colab\n"
          ]
        }
      ],
      "source": [
        "print(\"Hello Colab\")"
      ]
    },
    {
      "cell_type": "markdown",
      "source": [
        "Printing \"Hello Colab\""
      ],
      "metadata": {
        "id": "FOIbZfpvNo4e"
      }
    }
  ]
}