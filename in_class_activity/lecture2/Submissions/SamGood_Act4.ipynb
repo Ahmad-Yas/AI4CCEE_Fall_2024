{
  "nbformat": 4,
  "nbformat_minor": 0,
  "metadata": {
    "colab": {
      "provenance": [],
      "authorship_tag": "ABX9TyMSoVcZhi6l2cdexaP2PsIq",
      "include_colab_link": true
    },
    "kernelspec": {
      "name": "python3",
      "display_name": "Python 3"
    },
    "language_info": {
      "name": "python"
    }
  },
  "cells": [
    {
      "cell_type": "markdown",
      "metadata": {
        "id": "view-in-github",
        "colab_type": "text"
      },
      "source": [
        "<a href=\"https://colab.research.google.com/github/vegansam/AI4CCEE_Fall_2024/blob/main/in_class_activity/lecture2/Submissions/SamGood_Act4.ipynb\" target=\"_parent\"><img src=\"https://colab.research.google.com/assets/colab-badge.svg\" alt=\"Open In Colab\"/></a>"
      ]
    },
    {
      "cell_type": "code",
      "execution_count": null,
      "metadata": {
        "colab": {
          "base_uri": "https://localhost:8080/"
        },
        "id": "5az_lAcBPy9G",
        "outputId": "4247cf4c-4daa-4ce0-c304-ab0a2d982944"
      },
      "outputs": [
        {
          "output_type": "stream",
          "name": "stdout",
          "text": [
            "/content/new_directory\n"
          ]
        }
      ],
      "source": [
        "!pwd"
      ]
    },
    {
      "cell_type": "code",
      "source": [
        "!ls"
      ],
      "metadata": {
        "colab": {
          "base_uri": "https://localhost:8080/"
        },
        "id": "w96upN9SQIj1",
        "outputId": "64eee999-e5f8-42d4-b4a9-10ceb0313d26"
      },
      "execution_count": null,
      "outputs": [
        {
          "output_type": "stream",
          "name": "stdout",
          "text": [
            "concatenated_file.txt  file_1.txt  file_2.txt  file_3.txt  file_4.txt  file_5.txt\n"
          ]
        }
      ]
    },
    {
      "cell_type": "code",
      "source": [
        "!mkdir new_directory"
      ],
      "metadata": {
        "id": "g_clq_AqQXTc"
      },
      "execution_count": null,
      "outputs": []
    },
    {
      "cell_type": "code",
      "source": [
        "%cd new_directory\n",
        "!ls"
      ],
      "metadata": {
        "colab": {
          "base_uri": "https://localhost:8080/"
        },
        "id": "OoeXrPLOQX_U",
        "outputId": "dc460f86-0399-47fa-9742-acb19ce02516"
      },
      "execution_count": null,
      "outputs": [
        {
          "output_type": "stream",
          "name": "stdout",
          "text": [
            "/content/new_directory/new_directory\n"
          ]
        }
      ]
    },
    {
      "cell_type": "code",
      "source": [
        "!echo \"Hello, Colab!\" > example.txt"
      ],
      "metadata": {
        "id": "HWloRWFLRbpT"
      },
      "execution_count": null,
      "outputs": []
    },
    {
      "cell_type": "code",
      "source": [
        "%%bash\n",
        "sentences=(\"This is the first sentence.\" \"Here is the second sentence.\" \"Third sentence comes here.\" \"This is the fourth one.\" \"Finally, the fifth sentence.\")\n",
        "\n",
        "for i in \"${!sentences[@]}\"; do\n",
        "    echo \"${sentences[i]}\" > \"file_$((i+1)).txt\"\n",
        "done"
      ],
      "metadata": {
        "id": "ZKSx08jgZ7bN"
      },
      "execution_count": null,
      "outputs": []
    },
    {
      "cell_type": "code",
      "source": [
        "\n",
        "!cat file_1.txt file_2.txt file_3.txt file_4.txt file_5.txt > concatenated_file.txt"
      ],
      "metadata": {
        "id": "q4s3X9LxSB1x"
      },
      "execution_count": null,
      "outputs": []
    },
    {
      "cell_type": "code",
      "source": [
        "with open('example.txt', 'r') as file:\n",
        "    content = file.read()\n",
        "\n",
        "print(content)"
      ],
      "metadata": {
        "colab": {
          "base_uri": "https://localhost:8080/"
        },
        "id": "_Qbb23A9RsFA",
        "outputId": "f5fb1836-2f76-489f-9ec8-29f027ae5117"
      },
      "execution_count": null,
      "outputs": [
        {
          "output_type": "stream",
          "name": "stdout",
          "text": [
            "Hello, Colab!\n"
          ]
        }
      ]
    },
    {
      "cell_type": "code",
      "source": [
        "!rm example.txt"
      ],
      "metadata": {
        "id": "0eWkIsleRoOj"
      },
      "execution_count": null,
      "outputs": []
    },
    {
      "cell_type": "code",
      "source": [
        "%cd /content/new_directory\n",
        "!rm -r new_directory"
      ],
      "metadata": {
        "colab": {
          "base_uri": "https://localhost:8080/"
        },
        "id": "PPqnyPuoSZl8",
        "outputId": "02e4a3e4-c7c9-4674-bde9-7382fd3609f4"
      },
      "execution_count": null,
      "outputs": [
        {
          "output_type": "stream",
          "name": "stdout",
          "text": [
            "/content/new_directory\n"
          ]
        }
      ]
    },
    {
      "cell_type": "code",
      "source": [
        "!ls"
      ],
      "metadata": {
        "colab": {
          "base_uri": "https://localhost:8080/"
        },
        "id": "JdHdJ1evSgqV",
        "outputId": "bbcee17a-781b-4931-ca85-190fc810e268"
      },
      "execution_count": null,
      "outputs": [
        {
          "output_type": "stream",
          "name": "stdout",
          "text": [
            "example.txt  file_1.txt  file_2.txt  file_3.txt  file_4.txt  file_5.txt\n"
          ]
        }
      ]
    }
  ]
}