{
  "nbformat": 4,
  "nbformat_minor": 0,
  "metadata": {
    "colab": {
      "provenance": []
    },
    "kernelspec": {
      "name": "python3",
      "display_name": "Python 3"
    },
    "language_info": {
      "name": "python"
    }
  },
  "cells": [
    {
      "cell_type": "code",
      "source": [
        "import pandas as pd\n",
        "cars_df = pd.read_csv('cars.csv')\n",
        "price_df = pd.read_csv('Price.csv')\n",
        "print(cars_df.head())\n",
        "print(price_df.head())"
      ],
      "metadata": {
        "colab": {
          "base_uri": "https://localhost:8080/"
        },
        "id": "Ky1BSnJyjZ6L",
        "outputId": "23072893-3370-42e5-d7fc-bd6b4ea20902"
      },
      "execution_count": null,
      "outputs": [
        {
          "output_type": "stream",
          "name": "stdout",
          "text": [
            "      id          brand                                              model  \\\n",
            "0  54273  Mercedes-Benz                                      E-Class E 350   \n",
            "1  54274          Lexus                                        RX 350 Base   \n",
            "2  54275  Mercedes-Benz                                      C-Class C 300   \n",
            "3  54276           Land  Rover Range Rover 5.0L Supercharged Autobiogra...   \n",
            "4  54277            BMW                                       X6 xDrive40i   \n",
            "\n",
            "   model_year  milage fuel_type  \\\n",
            "0        2014   73000  Gasoline   \n",
            "1        2015  128032  Gasoline   \n",
            "2        2015   51983  Gasoline   \n",
            "3        2018   29500  Gasoline   \n",
            "4        2020   90000  Gasoline   \n",
            "\n",
            "                                              engine  \\\n",
            "0      302.0HP 3.5L V6 Cylinder Engine Gasoline Fuel   \n",
            "1      275.0HP 3.5L V6 Cylinder Engine Gasoline Fuel   \n",
            "2       241.0HP 2.0L 4 Cylinder Engine Gasoline Fuel   \n",
            "3       518.0HP 5.0L 8 Cylinder Engine Gasoline Fuel   \n",
            "4  335.0HP 3.0L Straight 6 Cylinder Engine Gasoli...   \n",
            "\n",
            "                     transmission ext_col int_col  \\\n",
            "0                             A/T   White   Beige   \n",
            "1                     8-Speed A/T  Silver   Black   \n",
            "2                     7-Speed A/T    Blue   White   \n",
            "3  Transmission w/Dual Shift Mode   White   White   \n",
            "4                     8-Speed A/T   White   Black   \n",
            "\n",
            "                                 accident clean_title  \n",
            "0                           None reported         Yes  \n",
            "1                           None reported         Yes  \n",
            "2                           None reported         Yes  \n",
            "3  At least 1 accident or damage reported         Yes  \n",
            "4  At least 1 accident or damage reported         Yes  \n",
            "      id      price\n",
            "0  54273  39218.443\n",
            "1  54274  39218.443\n",
            "2  54275  39218.443\n",
            "3  54276  39218.443\n",
            "4  54277  39218.443\n"
          ]
        }
      ]
    },
    {
      "cell_type": "code",
      "source": [
        "merged_df = pd.merge(cars_df, price_df, on='id', how='inner')\n",
        "print(merged_df.head())"
      ],
      "metadata": {
        "colab": {
          "base_uri": "https://localhost:8080/"
        },
        "id": "ca4JkkuLjd3y",
        "outputId": "a9e6de9b-e7f3-4c5a-8aa8-f36474fed34e"
      },
      "execution_count": null,
      "outputs": [
        {
          "output_type": "stream",
          "name": "stdout",
          "text": [
            "      id          brand                                              model  \\\n",
            "0  54273  Mercedes-Benz                                      E-Class E 350   \n",
            "1  54274          Lexus                                        RX 350 Base   \n",
            "2  54275  Mercedes-Benz                                      C-Class C 300   \n",
            "3  54276           Land  Rover Range Rover 5.0L Supercharged Autobiogra...   \n",
            "4  54277            BMW                                       X6 xDrive40i   \n",
            "\n",
            "   model_year  milage fuel_type  \\\n",
            "0        2014   73000  Gasoline   \n",
            "1        2015  128032  Gasoline   \n",
            "2        2015   51983  Gasoline   \n",
            "3        2018   29500  Gasoline   \n",
            "4        2020   90000  Gasoline   \n",
            "\n",
            "                                              engine  \\\n",
            "0      302.0HP 3.5L V6 Cylinder Engine Gasoline Fuel   \n",
            "1      275.0HP 3.5L V6 Cylinder Engine Gasoline Fuel   \n",
            "2       241.0HP 2.0L 4 Cylinder Engine Gasoline Fuel   \n",
            "3       518.0HP 5.0L 8 Cylinder Engine Gasoline Fuel   \n",
            "4  335.0HP 3.0L Straight 6 Cylinder Engine Gasoli...   \n",
            "\n",
            "                     transmission ext_col int_col  \\\n",
            "0                             A/T   White   Beige   \n",
            "1                     8-Speed A/T  Silver   Black   \n",
            "2                     7-Speed A/T    Blue   White   \n",
            "3  Transmission w/Dual Shift Mode   White   White   \n",
            "4                     8-Speed A/T   White   Black   \n",
            "\n",
            "                                 accident clean_title      price  \n",
            "0                           None reported         Yes  39218.443  \n",
            "1                           None reported         Yes  39218.443  \n",
            "2                           None reported         Yes  39218.443  \n",
            "3  At least 1 accident or damage reported         Yes  39218.443  \n",
            "4  At least 1 accident or damage reported         Yes  39218.443  \n"
          ]
        }
      ]
    },
    {
      "cell_type": "code",
      "source": [
        "merged_df.to_csv('merged_cars_price.csv', index=False)\n",
        "\n",
        "from google.colab import files\n",
        "files.download('merged_cars_price.csv')"
      ],
      "metadata": {
        "colab": {
          "base_uri": "https://localhost:8080/",
          "height": 17
        },
        "id": "0_2jrT_Fjfdp",
        "outputId": "418341a7-b209-498b-c9af-e9e64d97e7ad"
      },
      "execution_count": null,
      "outputs": [
        {
          "output_type": "display_data",
          "data": {
            "text/plain": [
              "<IPython.core.display.Javascript object>"
            ],
            "application/javascript": [
              "\n",
              "    async function download(id, filename, size) {\n",
              "      if (!google.colab.kernel.accessAllowed) {\n",
              "        return;\n",
              "      }\n",
              "      const div = document.createElement('div');\n",
              "      const label = document.createElement('label');\n",
              "      label.textContent = `Downloading \"${filename}\": `;\n",
              "      div.appendChild(label);\n",
              "      const progress = document.createElement('progress');\n",
              "      progress.max = size;\n",
              "      div.appendChild(progress);\n",
              "      document.body.appendChild(div);\n",
              "\n",
              "      const buffers = [];\n",
              "      let downloaded = 0;\n",
              "\n",
              "      const channel = await google.colab.kernel.comms.open(id);\n",
              "      // Send a message to notify the kernel that we're ready.\n",
              "      channel.send({})\n",
              "\n",
              "      for await (const message of channel.messages) {\n",
              "        // Send a message to notify the kernel that we're ready.\n",
              "        channel.send({})\n",
              "        if (message.buffers) {\n",
              "          for (const buffer of message.buffers) {\n",
              "            buffers.push(buffer);\n",
              "            downloaded += buffer.byteLength;\n",
              "            progress.value = downloaded;\n",
              "          }\n",
              "        }\n",
              "      }\n",
              "      const blob = new Blob(buffers, {type: 'application/binary'});\n",
              "      const a = document.createElement('a');\n",
              "      a.href = window.URL.createObjectURL(blob);\n",
              "      a.download = filename;\n",
              "      div.appendChild(a);\n",
              "      a.click();\n",
              "      div.remove();\n",
              "    }\n",
              "  "
            ]
          },
          "metadata": {}
        },
        {
          "output_type": "display_data",
          "data": {
            "text/plain": [
              "<IPython.core.display.Javascript object>"
            ],
            "application/javascript": [
              "download(\"download_0a1676f9-f32e-4b47-a5b7-895b5fc047e2\", \"merged_cars_price.csv\", 5553273)"
            ]
          },
          "metadata": {}
        }
      ]
    }
  ]
}