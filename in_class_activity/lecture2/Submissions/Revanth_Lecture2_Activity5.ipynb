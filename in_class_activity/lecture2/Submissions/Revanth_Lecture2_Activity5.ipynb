{
  "nbformat": 4,
  "nbformat_minor": 0,
  "metadata": {
    "colab": {
      "provenance": [],
      "authorship_tag": "ABX9TyOYJmi90rM0yRg6ueH4EJdv",
      "include_colab_link": true
    },
    "kernelspec": {
      "name": "python3",
      "display_name": "Python 3"
    },
    "language_info": {
      "name": "python"
    }
  },
  "cells": [
    {
      "cell_type": "markdown",
      "metadata": {
        "id": "view-in-github",
        "colab_type": "text"
      },
      "source": [
        "<a href=\"https://colab.research.google.com/github/Revanth810/AI4CCEE_Fall_2024/blob/main/in_class_activity/lecture2/Submissions/Revanth_Lecture2_Activity5.ipynb\" target=\"_parent\"><img src=\"https://colab.research.google.com/assets/colab-badge.svg\" alt=\"Open In Colab\"/></a>"
      ]
    },
    {
      "cell_type": "markdown",
      "source": [
        "Concantate two csv files."
      ],
      "metadata": {
        "id": "FpOuFQiy429D"
      }
    },
    {
      "cell_type": "code",
      "source": [
        "#Connect to google drive\n",
        "from google.colab import drive\n",
        "drive.mount('/content/drive')"
      ],
      "metadata": {
        "colab": {
          "base_uri": "https://localhost:8080/"
        },
        "id": "GQsB-Gvz47jD",
        "outputId": "0f3fdceb-2888-4714-9625-d512a94ef248"
      },
      "execution_count": 1,
      "outputs": [
        {
          "output_type": "stream",
          "name": "stdout",
          "text": [
            "Mounted at /content/drive\n"
          ]
        }
      ]
    },
    {
      "cell_type": "code",
      "source": [
        "#Import modules\n",
        "import pandas as pd\n",
        "import os\n",
        "\n",
        "# Specify the path to the folder containing the CSV files\n",
        "folder_path = \"/content/drive/MyDrive/AI4CCEE_Fall_2024/in_class_activity/lecture2\"\n",
        "\n",
        "# Load the two CSV files into dataframes\n",
        "cars_df = pd.read_csv(os.path.join(folder_path, \"cars.csv\"))\n",
        "price_df = pd.read_csv(os.path.join(folder_path, \"Price.csv\"))\n"
      ],
      "metadata": {
        "id": "k9kjeWhq5QQ8"
      },
      "execution_count": 3,
      "outputs": []
    },
    {
      "cell_type": "code",
      "source": [
        "# Merge the dataframes on 'id' column\n",
        "merged_df = pd.merge(cars_df, price_df, on=\"id\")\n",
        "\n",
        "# Display the first few rows of the merged dataframe\n",
        "print(merged_df.head())\n",
        "\n",
        "# Save the merged dataframe to Google Drive\n",
        "merged_df.to_csv(os.path.join(folder_path, \"./Submissions/Sample_Revanth.csv\"), index=False)\n",
        "\n",
        "print(\"Merged file saved successfully.\")\n"
      ],
      "metadata": {
        "colab": {
          "base_uri": "https://localhost:8080/"
        },
        "id": "ZO3dZgHg5dN7",
        "outputId": "5c1d0981-3451-4f2c-fc83-1727eeb34562"
      },
      "execution_count": 5,
      "outputs": [
        {
          "output_type": "stream",
          "name": "stdout",
          "text": [
            "      id          brand                                              model  \\\n",
            "0  54273  Mercedes-Benz                                      E-Class E 350   \n",
            "1  54274          Lexus                                        RX 350 Base   \n",
            "2  54275  Mercedes-Benz                                      C-Class C 300   \n",
            "3  54276           Land  Rover Range Rover 5.0L Supercharged Autobiogra...   \n",
            "4  54277            BMW                                       X6 xDrive40i   \n",
            "\n",
            "   model_year  milage fuel_type  \\\n",
            "0        2014   73000  Gasoline   \n",
            "1        2015  128032  Gasoline   \n",
            "2        2015   51983  Gasoline   \n",
            "3        2018   29500  Gasoline   \n",
            "4        2020   90000  Gasoline   \n",
            "\n",
            "                                              engine  \\\n",
            "0      302.0HP 3.5L V6 Cylinder Engine Gasoline Fuel   \n",
            "1      275.0HP 3.5L V6 Cylinder Engine Gasoline Fuel   \n",
            "2       241.0HP 2.0L 4 Cylinder Engine Gasoline Fuel   \n",
            "3       518.0HP 5.0L 8 Cylinder Engine Gasoline Fuel   \n",
            "4  335.0HP 3.0L Straight 6 Cylinder Engine Gasoli...   \n",
            "\n",
            "                     transmission ext_col int_col  \\\n",
            "0                             A/T   White   Beige   \n",
            "1                     8-Speed A/T  Silver   Black   \n",
            "2                     7-Speed A/T    Blue   White   \n",
            "3  Transmission w/Dual Shift Mode   White   White   \n",
            "4                     8-Speed A/T   White   Black   \n",
            "\n",
            "                                 accident clean_title      price  \n",
            "0                           None reported         Yes  39218.443  \n",
            "1                           None reported         Yes  39218.443  \n",
            "2                           None reported         Yes  39218.443  \n",
            "3  At least 1 accident or damage reported         Yes  39218.443  \n",
            "4  At least 1 accident or damage reported         Yes  39218.443  \n",
            "Merged file saved successfully.\n"
          ]
        }
      ]
    }
  ]
}