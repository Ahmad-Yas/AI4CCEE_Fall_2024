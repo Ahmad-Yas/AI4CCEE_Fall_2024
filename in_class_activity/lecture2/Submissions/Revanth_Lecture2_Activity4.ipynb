{
  "nbformat": 4,
  "nbformat_minor": 0,
  "metadata": {
    "colab": {
      "provenance": [],
      "authorship_tag": "ABX9TyNcHAlxT6Y6iX+Pyl2FCRaH",
      "include_colab_link": true
    },
    "kernelspec": {
      "name": "python3",
      "display_name": "Python 3"
    },
    "language_info": {
      "name": "python"
    }
  },
  "cells": [
    {
      "cell_type": "markdown",
      "metadata": {
        "id": "view-in-github",
        "colab_type": "text"
      },
      "source": [
        "<a href=\"https://colab.research.google.com/github/Revanth810/AI4CCEE_Fall_2024/blob/main/in_class_activity/lecture2/Submissions/Revanth_Lecture2_Activity4.ipynb\" target=\"_parent\"><img src=\"https://colab.research.google.com/assets/colab-badge.svg\" alt=\"Open In Colab\"/></a>"
      ]
    },
    {
      "cell_type": "markdown",
      "source": [
        " print the current working directory"
      ],
      "metadata": {
        "id": "BhSSuTK5tvfu"
      }
    },
    {
      "cell_type": "code",
      "execution_count": 28,
      "metadata": {
        "colab": {
          "base_uri": "https://localhost:8080/"
        },
        "id": "Ta7FbNIJq1CH",
        "outputId": "be6d234a-946f-410d-d9b1-4b8cd7849bfe"
      },
      "outputs": [
        {
          "output_type": "stream",
          "name": "stdout",
          "text": [
            "/content\n"
          ]
        }
      ],
      "source": [
        "import os\n",
        "print(os.getcwd())\n"
      ]
    },
    {
      "cell_type": "markdown",
      "source": [
        "List of contents of current directory."
      ],
      "metadata": {
        "id": "e3zo22pBtyBB"
      }
    },
    {
      "cell_type": "code",
      "source": [
        "!ls\n"
      ],
      "metadata": {
        "colab": {
          "base_uri": "https://localhost:8080/"
        },
        "id": "QBOAFb1NtaGF",
        "outputId": "ba946b4d-96a8-4b81-b0aa-5e67fae89c17"
      },
      "execution_count": 29,
      "outputs": [
        {
          "output_type": "stream",
          "name": "stdout",
          "text": [
            "Activity4  sample_data\n"
          ]
        }
      ]
    },
    {
      "cell_type": "markdown",
      "source": [
        "Create a new directory"
      ],
      "metadata": {
        "id": "g6PUdmvovOWU"
      }
    },
    {
      "cell_type": "code",
      "source": [
        "import os\n",
        "\n",
        "# Create a new directory named 'new_folder'\n",
        "os.makedirs('Activity4', exist_ok=True)\n",
        "\n",
        "# Verify the new folder is created by listing the contents\n",
        "print(\"Directory created successfully!\")\n",
        "!ls\n"
      ],
      "metadata": {
        "colab": {
          "base_uri": "https://localhost:8080/"
        },
        "id": "gXYcY3-8vRZM",
        "outputId": "7e8472b7-0886-4369-89da-621a0b887558"
      },
      "execution_count": 30,
      "outputs": [
        {
          "output_type": "stream",
          "name": "stdout",
          "text": [
            "Directory created successfully!\n",
            "Activity4  sample_data\n"
          ]
        }
      ]
    },
    {
      "cell_type": "markdown",
      "source": [
        "Navigate into the new directory"
      ],
      "metadata": {
        "id": "cgwV33EzzKZb"
      }
    },
    {
      "cell_type": "code",
      "source": [
        "import os\n",
        "\n",
        "# Create a new folder called 'new_folder' inside /content\n",
        "os.makedirs('Activity4', exist_ok=True)\n",
        "\n",
        "# Navigate into the new folder using '.'\n",
        "os.chdir('./Activity4')\n",
        "\n",
        "# Print the current working directory to confirm\n",
        "print(f\"Current working directory: {os.getcwd()}\")\n"
      ],
      "metadata": {
        "colab": {
          "base_uri": "https://localhost:8080/"
        },
        "id": "btohikb2y6q2",
        "outputId": "8968fecb-a22c-45b7-f7da-cca74adcbc0a"
      },
      "execution_count": 31,
      "outputs": [
        {
          "output_type": "stream",
          "name": "stdout",
          "text": [
            "Current working directory: /content/Activity4\n"
          ]
        }
      ]
    },
    {
      "cell_type": "markdown",
      "source": [
        "Create a new file inside the directory using !echo \"Hello, World!\" >\n",
        "lab_directory/example.txt"
      ],
      "metadata": {
        "id": "nLvZk8Q4z7Ra"
      }
    },
    {
      "cell_type": "code",
      "source": [
        "!echo \"Hello, World!\" > Activity4_1.txt"
      ],
      "metadata": {
        "id": "5OYe12Z0zRxG"
      },
      "execution_count": 32,
      "outputs": []
    },
    {
      "cell_type": "markdown",
      "source": [
        "reate 5 text files with one sentence each. Concatenate them all and create a sixth file."
      ],
      "metadata": {
        "id": "s0hCkrEdz8Sq"
      }
    },
    {
      "cell_type": "code",
      "source": [
        "# Create 5 text files with one sentence each\n",
        "!echo \"I am \" > file1.txt\n",
        "!echo \"Revanth Mamidala, \" > file2.txt\n",
        "!echo \"a 2nd year PhD student \" > file3.txt\n",
        "!echo \"in the deparment of \" > file4.txt\n",
        "!echo \"CCEE at ISU.\" > file5.txt\n",
        "\n",
        "# Concatenate all files into one\n",
        "!cat file1.txt file2.txt file3.txt file4.txt file5.txt > file6.txt"
      ],
      "metadata": {
        "id": "hkSGCkXj0Bcc"
      },
      "execution_count": 33,
      "outputs": []
    },
    {
      "cell_type": "code",
      "source": [
        "!ls"
      ],
      "metadata": {
        "colab": {
          "base_uri": "https://localhost:8080/"
        },
        "id": "jVkXXihE0giD",
        "outputId": "f4dd1563-dcd3-4aa5-9c18-40e6a55f8169"
      },
      "execution_count": 34,
      "outputs": [
        {
          "output_type": "stream",
          "name": "stdout",
          "text": [
            "Activity4_1.txt  file1.txt  file2.txt  file3.txt  file4.txt  file5.txt\tfile6.txt\n"
          ]
        }
      ]
    },
    {
      "cell_type": "markdown",
      "source": [
        "Display the file's content with !cat lab_directory/example.txt"
      ],
      "metadata": {
        "id": "hs1ZgrS-0_OE"
      }
    },
    {
      "cell_type": "code",
      "source": [
        "# Print the contents using the 'cat' command\n",
        "!cat file6.txt\n"
      ],
      "metadata": {
        "colab": {
          "base_uri": "https://localhost:8080/"
        },
        "id": "mS_O34vu05Cs",
        "outputId": "1fbb9cec-9eca-4a80-b131-582a2772f89f"
      },
      "execution_count": 35,
      "outputs": [
        {
          "output_type": "stream",
          "name": "stdout",
          "text": [
            "I am \n",
            "Revanth Mamidala, \n",
            "a 2nd year PhD student \n",
            "in the deparment of \n",
            "CCEE at ISU.\n"
          ]
        }
      ]
    },
    {
      "cell_type": "markdown",
      "source": [
        "Delete the file using !rm lab_directory/example.txt"
      ],
      "metadata": {
        "id": "sh6a1S9c1HTD"
      }
    },
    {
      "cell_type": "code",
      "source": [
        "!rm file6.txt"
      ],
      "metadata": {
        "id": "CgonPNXS1LJU"
      },
      "execution_count": 36,
      "outputs": []
    },
    {
      "cell_type": "code",
      "source": [
        "!ls"
      ],
      "metadata": {
        "colab": {
          "base_uri": "https://localhost:8080/"
        },
        "id": "uHjKbFg-1Vvj",
        "outputId": "89890d16-f0bb-42fa-c3fc-f59ef71978a3"
      },
      "execution_count": 37,
      "outputs": [
        {
          "output_type": "stream",
          "name": "stdout",
          "text": [
            "Activity4_1.txt  file1.txt  file2.txt  file3.txt  file4.txt  file5.txt\n"
          ]
        }
      ]
    },
    {
      "cell_type": "markdown",
      "source": [
        "Remove the directory with !rmdir lab_directory"
      ],
      "metadata": {
        "id": "BvFfLO7Z1Y-L"
      }
    },
    {
      "cell_type": "code",
      "source": [
        "# Changing the working directory to /content\n",
        "os.chdir('/content')\n",
        "\n",
        "# Print the current working directory to confirm\n",
        "print(f\"Current working directory: {os.getcwd()}\")\n",
        "\n",
        "print(f\"Contents in CWD = \")\n",
        "!ls"
      ],
      "metadata": {
        "colab": {
          "base_uri": "https://localhost:8080/"
        },
        "id": "iVaYi37_1qmj",
        "outputId": "3740f5e7-b12e-4429-8caf-8baa0ac02268"
      },
      "execution_count": 38,
      "outputs": [
        {
          "output_type": "stream",
          "name": "stdout",
          "text": [
            "Current working directory: /content\n",
            "Contents in CWD = \n",
            "Activity4  sample_data\n"
          ]
        }
      ]
    },
    {
      "cell_type": "code",
      "source": [
        "!rmdir Activity4\n",
        "\n",
        "print(f\"Contents in CWD = \")\n",
        "!ls"
      ],
      "metadata": {
        "colab": {
          "base_uri": "https://localhost:8080/"
        },
        "id": "YR04O5rB1bh7",
        "outputId": "2c4af2e9-67c6-4efb-fc3f-c988efc15ac1"
      },
      "execution_count": 39,
      "outputs": [
        {
          "output_type": "stream",
          "name": "stdout",
          "text": [
            "rmdir: failed to remove 'Activity4': Directory not empty\n",
            "Contents in CWD = \n",
            "Activity4  sample_data\n"
          ]
        }
      ]
    },
    {
      "cell_type": "markdown",
      "source": [
        "Forcefully deleting the directory"
      ],
      "metadata": {
        "id": "j7G1UFen2211"
      }
    },
    {
      "cell_type": "code",
      "source": [
        "# Forcefully remove the non-empty directory 'Activity4'\n",
        "!rm -r Activity4\n",
        "\n",
        "# Verify the contents in the current working directory (CWD)\n",
        "print(f\"Contents in CWD = \")\n",
        "!ls\n"
      ],
      "metadata": {
        "colab": {
          "base_uri": "https://localhost:8080/"
        },
        "id": "1OYpLJ5w3AhL",
        "outputId": "de5f18eb-2ee5-4642-ed8e-c83634f73687"
      },
      "execution_count": 40,
      "outputs": [
        {
          "output_type": "stream",
          "name": "stdout",
          "text": [
            "Contents in CWD = \n",
            "sample_data\n"
          ]
        }
      ]
    }
  ]
}