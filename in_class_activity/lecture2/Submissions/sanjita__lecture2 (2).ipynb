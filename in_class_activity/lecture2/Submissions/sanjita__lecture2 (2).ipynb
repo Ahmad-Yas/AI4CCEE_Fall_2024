{
  "nbformat": 4,
  "nbformat_minor": 0,
  "metadata": {
    "colab": {
      "provenance": [],
      "authorship_tag": "ABX9TyMecxV5kZB4G0qIQzcH6RQo",
      "include_colab_link": true
    },
    "kernelspec": {
      "name": "python3",
      "display_name": "Python 3"
    },
    "language_info": {
      "name": "python"
    }
  },
  "cells": [
    {
      "cell_type": "markdown",
      "metadata": {
        "id": "view-in-github",
        "colab_type": "text"
      },
      "source": [
        "<a href=\"https://colab.research.google.com/github/SanjitaPrajapati/AI4CCEE_Fall_2024/blob/main/sanjita__lecture2.ipynb\" target=\"_parent\"><img src=\"https://colab.research.google.com/assets/colab-badge.svg\" alt=\"Open In Colab\"/></a>"
      ]
    },
    {
      "cell_type": "markdown",
      "source": [
        "# Activity 4\n",
        "Linux based activity"
      ],
      "metadata": {
        "id": "8zlftYpEXFCp"
      }
    },
    {
      "cell_type": "code",
      "execution_count": null,
      "metadata": {
        "colab": {
          "base_uri": "https://localhost:8080/"
        },
        "id": "NIiu-XfcSPxx",
        "outputId": "a62bf8e7-0c8d-4a4a-db89-f2113c59b0ff"
      },
      "outputs": [
        {
          "output_type": "stream",
          "name": "stdout",
          "text": [
            "Mounted at /content/drive\n"
          ]
        }
      ],
      "source": [
        "# Connecting to the goolge drive\n",
        "from google.colab import drive\n",
        "drive.mount('/content/drive')"
      ]
    },
    {
      "cell_type": "code",
      "source": [
        "# Print the current working directory\n",
        "!pwd"
      ],
      "metadata": {
        "colab": {
          "base_uri": "https://localhost:8080/"
        },
        "id": "CHpNoPzqSW2P",
        "outputId": "24671c7b-f2dc-4414-9bf5-b0aad8601c39"
      },
      "execution_count": null,
      "outputs": [
        {
          "output_type": "stream",
          "name": "stdout",
          "text": [
            "/content\n"
          ]
        }
      ]
    },
    {
      "cell_type": "code",
      "source": [
        "# List the contents of the current directory\n",
        "!ls"
      ],
      "metadata": {
        "colab": {
          "base_uri": "https://localhost:8080/"
        },
        "id": "WdNzfAO7Sohm",
        "outputId": "43f5d108-3746-4ef8-b2d2-ab1f44c586a9"
      },
      "execution_count": null,
      "outputs": [
        {
          "output_type": "stream",
          "name": "stdout",
          "text": [
            "drive  sample_data\n"
          ]
        }
      ]
    },
    {
      "cell_type": "code",
      "source": [
        "# Make New directory\n",
        "!mkdir project1"
      ],
      "metadata": {
        "id": "gLKl5UbTSqWU"
      },
      "execution_count": null,
      "outputs": []
    },
    {
      "cell_type": "code",
      "source": [
        "# Change directory\n",
        "%cd /content/project1/"
      ],
      "metadata": {
        "colab": {
          "base_uri": "https://localhost:8080/"
        },
        "id": "PvDgs2I-SsYl",
        "outputId": "7f4d1599-a21d-41b8-bc7d-b8bfcb110105"
      },
      "execution_count": null,
      "outputs": [
        {
          "output_type": "stream",
          "name": "stdout",
          "text": [
            "/content/project1\n"
          ]
        }
      ]
    },
    {
      "cell_type": "code",
      "source": [
        "!pwd"
      ],
      "metadata": {
        "colab": {
          "base_uri": "https://localhost:8080/"
        },
        "id": "oHtAyGvdSxCf",
        "outputId": "e642f347-1a04-4b3d-b8e6-4cbbd89bb653"
      },
      "execution_count": null,
      "outputs": [
        {
          "output_type": "stream",
          "name": "stdout",
          "text": [
            "/content/project1\n"
          ]
        }
      ]
    },
    {
      "cell_type": "code",
      "source": [
        "#create a file and then create 5 files\n",
        "!echo \"hello, world from prompt 1!\"> example1.txt"
      ],
      "metadata": {
        "id": "DNAl-RbCSyqT"
      },
      "execution_count": null,
      "outputs": []
    },
    {
      "cell_type": "code",
      "source": [
        "!echo \"hello, world! from prompt 2\"> example2.txt"
      ],
      "metadata": {
        "id": "qk3P0IMVThM-"
      },
      "execution_count": null,
      "outputs": []
    },
    {
      "cell_type": "code",
      "source": [
        "!echo \"hello, world! from prompt 3\"> example3.txt"
      ],
      "metadata": {
        "id": "qDVEztGDUAQ_"
      },
      "execution_count": null,
      "outputs": []
    },
    {
      "cell_type": "code",
      "source": [
        "!echo \"hello, world! from prompt 4\"> example4.txt"
      ],
      "metadata": {
        "id": "RpdtYSPmUC9B"
      },
      "execution_count": null,
      "outputs": []
    },
    {
      "cell_type": "code",
      "source": [
        "!echo \"hello, world! from prompt 5\"> example5.txt"
      ],
      "metadata": {
        "id": "3HlrLzxoUF3-"
      },
      "execution_count": null,
      "outputs": []
    },
    {
      "cell_type": "code",
      "source": [
        "#Concatenate the 5 files into a single one\n",
        "!cat example1.txt example2.txt example3.txt example4.txt example5.txt > exp6.txt\n"
      ],
      "metadata": {
        "id": "UUtYeA1rUIir"
      },
      "execution_count": null,
      "outputs": []
    },
    {
      "cell_type": "code",
      "source": [
        "# More optimized command\n",
        "!cat example*.txt > exp6.txt"
      ],
      "metadata": {
        "id": "_g99X2vcamaS"
      },
      "execution_count": null,
      "outputs": []
    },
    {
      "cell_type": "code",
      "source": [
        "# Remove the example file\n",
        "!rm example1.txt"
      ],
      "metadata": {
        "id": "Opisc66zUibP"
      },
      "execution_count": null,
      "outputs": []
    },
    {
      "cell_type": "code",
      "source": [
        "# Remove all the files inside it\n",
        "!rm example1.txt example2.txt example3.txt example4.txt example5.txt exp6.txt"
      ],
      "metadata": {
        "id": "wTGOjbo9Us2-"
      },
      "execution_count": null,
      "outputs": []
    },
    {
      "cell_type": "code",
      "source": [
        "# Change directory to delet the directory\n",
        "%cd .."
      ],
      "metadata": {
        "colab": {
          "base_uri": "https://localhost:8080/"
        },
        "id": "ZPKa9XHkU3Ah",
        "outputId": "ff377408-3764-4e83-d86d-05ac319ec271"
      },
      "execution_count": null,
      "outputs": [
        {
          "output_type": "stream",
          "name": "stdout",
          "text": [
            "/content\n"
          ]
        }
      ]
    },
    {
      "cell_type": "code",
      "source": [
        "!ls"
      ],
      "metadata": {
        "colab": {
          "base_uri": "https://localhost:8080/"
        },
        "id": "XLLYc8oDU5TK",
        "outputId": "59c6d02f-7a5d-4d21-f2e6-b9a78f1dd179"
      },
      "execution_count": null,
      "outputs": [
        {
          "output_type": "stream",
          "name": "stdout",
          "text": [
            "drive  project1  sample_data\n"
          ]
        }
      ]
    },
    {
      "cell_type": "code",
      "source": [
        "# Delete the directory, we can use rmdir if the directory is empty. But collab\n",
        "# was showing error that the directory is not empty, so I used -rf (Recursively\n",
        "# Forced to delet the directory)\n",
        "!rm -rf project1"
      ],
      "metadata": {
        "id": "la3MDdseU8WT"
      },
      "execution_count": null,
      "outputs": []
    },
    {
      "cell_type": "code",
      "source": [],
      "metadata": {
        "id": "iNX_YcHtVRKQ"
      },
      "execution_count": null,
      "outputs": []
    }
  ]
}