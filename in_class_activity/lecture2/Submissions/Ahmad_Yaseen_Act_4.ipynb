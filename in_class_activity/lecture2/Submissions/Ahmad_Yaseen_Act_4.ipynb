{
  "nbformat": 4,
  "nbformat_minor": 0,
  "metadata": {
    "colab": {
      "provenance": []
    },
    "kernelspec": {
      "name": "python3",
      "display_name": "Python 3"
    },
    "language_info": {
      "name": "python"
    }
  },
  "cells": [
    {
      "cell_type": "code",
      "execution_count": null,
      "metadata": {
        "colab": {
          "base_uri": "https://localhost:8080/"
        },
        "id": "V2eQ_FCZP2Tx",
        "outputId": "ea5ae7f3-3fb5-43f3-cf21-c229d2f8d9ab"
      },
      "outputs": [
        {
          "output_type": "stream",
          "name": "stdout",
          "text": [
            "/content/my_new_directory\n"
          ]
        }
      ],
      "source": [
        "!pwd\n"
      ]
    },
    {
      "cell_type": "code",
      "source": [
        "!ls"
      ],
      "metadata": {
        "id": "gXUD7Zs-Qme1"
      },
      "execution_count": null,
      "outputs": []
    },
    {
      "cell_type": "code",
      "source": [
        "!mkdir my_new_directory\n"
      ],
      "metadata": {
        "id": "57GWT73qQqBM"
      },
      "execution_count": null,
      "outputs": []
    },
    {
      "cell_type": "code",
      "source": [
        "%cd /content/my_new_directory/my_new_directory"
      ],
      "metadata": {
        "colab": {
          "base_uri": "https://localhost:8080/"
        },
        "id": "JJ7sawf4QuSq",
        "outputId": "dc66bb94-2e42-4416-974e-8b5ce9a649ea"
      },
      "execution_count": null,
      "outputs": [
        {
          "output_type": "stream",
          "name": "stdout",
          "text": [
            "/content/my_new_directory/my_new_directory\n"
          ]
        }
      ]
    },
    {
      "cell_type": "code",
      "source": [
        "!echo \"Hello, World!\" > /content/my_new_directory/my_new_directory/example.txt\n"
      ],
      "metadata": {
        "id": "XOwLJTfSRoXj"
      },
      "execution_count": null,
      "outputs": []
    },
    {
      "cell_type": "code",
      "source": [
        "!echo \"This is the first sentence.\" > /content/my_new_directory/my_new_directory/file1.txt\n",
        "!echo \"Here comes the second sentence.\" > /content/my_new_directory/my_new_directory/file2.txt\n",
        "!echo \"Third sentence in this file.\" > /content/my_new_directory/my_new_directory/file3.txt\n",
        "!echo \"Fourth sentence is written here.\" > /content/my_new_directory/my_new_directory/file4.txt\n",
        "!echo \"Finally, this is the fifth sentence.\" > /content/my_new_directory/my_new_directory/file5.txt"
      ],
      "metadata": {
        "id": "KIwULwslRp9j"
      },
      "execution_count": null,
      "outputs": []
    },
    {
      "cell_type": "code",
      "source": [
        "!cat my_new_directory/file1.txt /content/my_new_directory/my_new_directory/file2.txt/content/my_new_directory/my_new_directory/file3.txt my_new_directory/file4.txt m/content/my_new_directory/my_new_directory/file5.txt > /content/my_new_directory/my_new_directory/combined.txt\n"
      ],
      "metadata": {
        "colab": {
          "base_uri": "https://localhost:8080/"
        },
        "id": "j0-Z2sT0Ru1w",
        "outputId": "330ea51a-f4bf-4fc7-b1e0-eb69c2223fe1"
      },
      "execution_count": null,
      "outputs": [
        {
          "output_type": "stream",
          "name": "stdout",
          "text": [
            "cat: my_new_directory/file1.txt: No such file or directory\n",
            "cat: /content/my_new_directory/my_new_directory/file2.txt/content/my_new_directory/my_new_directory/file3.txt: Not a directory\n",
            "cat: my_new_directory/file4.txt: No such file or directory\n",
            "cat: m/content/my_new_directory/my_new_directory/file5.txt: No such file or directory\n"
          ]
        }
      ]
    },
    {
      "cell_type": "code",
      "source": [
        "!cat /content/my_new_directory/my_new_directory/example.txt\n"
      ],
      "metadata": {
        "colab": {
          "base_uri": "https://localhost:8080/"
        },
        "id": "sYd-pgkYRw8w",
        "outputId": "86a5e626-e9d5-4eae-f96d-8b455ca5ed79"
      },
      "execution_count": null,
      "outputs": [
        {
          "output_type": "stream",
          "name": "stdout",
          "text": [
            "Hello, World!\n"
          ]
        }
      ]
    },
    {
      "cell_type": "code",
      "source": [
        "!rm -r /content/my_new_directory/*"
      ],
      "metadata": {
        "id": "oVDqNm6_bkQS"
      },
      "execution_count": null,
      "outputs": []
    }
  ]
}