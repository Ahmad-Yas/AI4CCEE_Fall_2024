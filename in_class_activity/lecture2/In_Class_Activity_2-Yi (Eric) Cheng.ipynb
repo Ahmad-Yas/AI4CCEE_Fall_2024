{
  "nbformat": 4,
  "nbformat_minor": 0,
  "metadata": {
    "colab": {
      "provenance": [],
      "authorship_tag": "ABX9TyP23H6mvqc4ESi0q5zWw0dE",
      "include_colab_link": true
    },
    "kernelspec": {
      "name": "python3",
      "display_name": "Python 3"
    },
    "language_info": {
      "name": "python"
    }
  },
  "cells": [
    {
      "cell_type": "markdown",
      "metadata": {
        "id": "view-in-github",
        "colab_type": "text"
      },
      "source": [
        "<a href=\"https://colab.research.google.com/github/ericycheng8/AI4CCEE_Fall_2024/blob/main/in_class_activity/lecture2/In_Class_Activity_2-Yi%20(Eric)%20Cheng.ipynb\" target=\"_parent\"><img src=\"https://colab.research.google.com/assets/colab-badge.svg\" alt=\"Open In Colab\"/></a>"
      ]
    },
    {
      "cell_type": "code",
      "execution_count": null,
      "metadata": {
        "colab": {
          "base_uri": "https://localhost:8080/"
        },
        "id": "eJzW6pZJeYqV",
        "outputId": "33f5b3ad-5804-4ebc-8143-4f5c7ed6d9c8"
      },
      "outputs": [
        {
          "output_type": "stream",
          "name": "stdout",
          "text": [
            "HELLO, MY NAME IS ERIC AND I AM 22 YEARS OLD.\n",
            "hello, my name is eric and i am 22 years old.\n",
            "hello, my name is Eric and I love play video games.\n"
          ]
        }
      ],
      "source": [
        "Name = \"Eric\"\n",
        "Age = \"22\"\n",
        "string1 = \"hello, my name is \"+Name+\" and I am \"+Age+\" years old.\"\n",
        "print(string1.upper())\n",
        "print(string1.lower())\n",
        "\n",
        "Hobby = \"play video games\"\n",
        "string2 = \"hello, my name is \"+Name+\" and I love \"+Hobby+\".\"\n",
        "print(string2)"
      ]
    },
    {
      "cell_type": "code",
      "source": [
        "asphalt_unit_cost=0\n",
        "asphat_quantity=0\n",
        "concrete_unit_cost=0\n",
        "concrete_quantity=0\n",
        "labor_unit_cost=0\n",
        "labor_hours=0\n"
      ],
      "metadata": {
        "id": "N2j_epkgfYHb"
      },
      "execution_count": null,
      "outputs": []
    },
    {
      "cell_type": "code",
      "source": [
        "asphalt_unit_cost= input(\"Enter the cost of asphalt per unit:\")\n",
        "asphat_quantity= input(\"Enter the quantity of asphalt:\")\n",
        "concrete_unit_cost= input(\"Enter the cost of concrete per unit:\")\n",
        "concrete_quantity= input(\"Enter the quantity of concrete:\")\n",
        "labor_unit_cost= input(\"Enter the cost of labor per hour:\")\n",
        "labor_hours= input(\"Enter the quantity of labor hours:\")"
      ],
      "metadata": {
        "colab": {
          "base_uri": "https://localhost:8080/"
        },
        "id": "5MYyHFJqgS3_",
        "outputId": "e309209d-946e-461c-c436-6e975fb7e04f"
      },
      "execution_count": null,
      "outputs": [
        {
          "name": "stdout",
          "output_type": "stream",
          "text": [
            "Enter the cost of asphalt per unit:50\n",
            "Enter the quantity of asphalt:10\n",
            "Enter the cost of concrete per unit:50\n",
            "Enter the quantity of concrete:10\n",
            "Enter the cost of labor per hour:50\n",
            "Enter the quantity of labor hours:010\n"
          ]
        }
      ]
    },
    {
      "cell_type": "code",
      "source": [
        "asphalt_total_cost=int(asphalt_unit_cost)*int(asphat_quantity)\n",
        "concrete_total_cost=int(concrete_unit_cost)*int(concrete_quantity)\n",
        "labor_total_cost=int(labor_unit_cost)*int(labor_hours)\n",
        "total_cost=asphalt_total_cost+concrete_total_cost+labor_total_cost\n",
        "print(asphalt_total_cost)\n",
        "print(concrete_total_cost)\n",
        "print(labor_total_cost)\n",
        "print(total_cost)\n",
        "\n",
        "x= 50000\n",
        "if total_cost<50000:\n",
        "  print(\"Project is under budget\")\n",
        "else:\n",
        "  print(\"Project is over budget\")\n"
      ],
      "metadata": {
        "colab": {
          "base_uri": "https://localhost:8080/"
        },
        "id": "YZcD29fFg4_p",
        "outputId": "428d0075-5a9a-4aa4-af45-d77661a064e8"
      },
      "execution_count": null,
      "outputs": [
        {
          "output_type": "stream",
          "name": "stdout",
          "text": [
            "500\n",
            "500\n",
            "500\n",
            "1500\n",
            "Project is under budget\n"
          ]
        }
      ]
    },
    {
      "cell_type": "code",
      "source": [
        "df = pd.read_csv('/content/example.csv')"
      ],
      "metadata": {
        "colab": {
          "base_uri": "https://localhost:8080/",
          "height": 141
        },
        "id": "SUGfhjQRnJ4O",
        "outputId": "4371ac10-93c6-4b68-dd0f-6fa325182fa3"
      },
      "execution_count": null,
      "outputs": [
        {
          "output_type": "error",
          "ename": "NameError",
          "evalue": "name 'pd' is not defined",
          "traceback": [
            "\u001b[0;31m---------------------------------------------------------------------------\u001b[0m",
            "\u001b[0;31mNameError\u001b[0m                                 Traceback (most recent call last)",
            "\u001b[0;32m<ipython-input-10-5d95ddf04fbd>\u001b[0m in \u001b[0;36m<cell line: 1>\u001b[0;34m()\u001b[0m\n\u001b[0;32m----> 1\u001b[0;31m \u001b[0mdf\u001b[0m \u001b[0;34m=\u001b[0m \u001b[0mpd\u001b[0m\u001b[0;34m.\u001b[0m\u001b[0mread_csv\u001b[0m\u001b[0;34m(\u001b[0m\u001b[0;34m'/content/example.csv'\u001b[0m\u001b[0;34m)\u001b[0m\u001b[0;34m\u001b[0m\u001b[0;34m\u001b[0m\u001b[0m\n\u001b[0m",
            "\u001b[0;31mNameError\u001b[0m: name 'pd' is not defined"
          ]
        }
      ]
    },
    {
      "cell_type": "code",
      "source": [
        "# prompt: read csv\n",
        "\n",
        "import pandas as pd\n",
        "\n",
        "df = pd.read_csv('/content/example.csv')\n",
        "print(df)\n"
      ],
      "metadata": {
        "colab": {
          "base_uri": "https://localhost:8080/"
        },
        "id": "UFobVzkDnrwI",
        "outputId": "b400cda7-8dda-4364-ac09-810b6d387559"
      },
      "execution_count": null,
      "outputs": [
        {
          "output_type": "stream",
          "name": "stdout",
          "text": [
            "     Name  Age         City  Gender\n",
            "0    John   26     New York    Male\n",
            "1    Jane   31  Los Angeles  Female\n",
            "2   Alice   22      Chicago  Female\n",
            "3     Bob   45      Houston    Male\n",
            "4   Carol   37      Phoenix  Female\n",
            "5    John   26     New York  Female\n",
            "6    Jane   29  Los Angeles  Female\n",
            "7   Alice   24      Chicago    Male\n",
            "8     Bob   40      Houston  Female\n",
            "9   Carol   33      Phoenix    Male\n",
            "10   John   26     New York  Female\n",
            "11   Jane   28  Los Angeles    Male\n",
            "12  Alice   30      Chicago  Female\n",
            "13    Bob   39      Houston    Male\n",
            "14  Carol   26      Phoenix  Female\n",
            "15   John   26     New York  Female\n",
            "16   Jane   35  Los Angeles  Female\n",
            "17  Alice   25      Chicago    Male\n",
            "18    Bob   41      Houston  Female\n",
            "19  Carol   38      Phoenix  Female\n",
            "20   John   26     New York    Male\n",
            "21   Jane   27  Los Angeles  Female\n",
            "22  Alice   21      Chicago  Female\n",
            "23    Bob   44      Houston    Male\n",
            "24  Carol   32      Phoenix  Female\n",
            "25   John   26     New York  Female\n",
            "26   Jane   30  Los Angeles    Male\n",
            "27  Alice   23      Chicago  Female\n",
            "28    Bob   46      Houston  Female\n",
            "29  Carol   34      Phoenix    Male\n",
            "30   John   26     New York  Female\n",
            "31   Jane   32  Los Angeles  Female\n",
            "32  Alice   26      Chicago    Male\n",
            "33    Bob   43      Houston  Female\n",
            "34  Carol   30      Phoenix  Female\n",
            "35   John   26     New York    Male\n",
            "36   Jane   28  Los Angeles  Female\n",
            "37  Alice   27      Chicago  Female\n",
            "38    Bob   42      Houston    Male\n",
            "39  Carol   29      Phoenix  Female\n",
            "40   John   26     New York  Female\n",
            "41   Jane   34  Los Angeles    Male\n",
            "42  Alice   22      Chicago  Female\n",
            "43    Bob   40      Houston  Female\n",
            "44  Carol   35      Phoenix    Male\n",
            "45   John   26     New York  Female\n",
            "46   Jane   31  Los Angeles  Female\n",
            "47  Alice   24      Chicago    Male\n",
            "48    Bob   38      Houston  Female\n",
            "49  Carol   36      Phoenix  Female\n",
            "50   John   26     New York    Male\n",
            "51   Jane   29  Los Angeles  Female\n",
            "52  Alice   25      Chicago  Female\n",
            "53    Bob   42      Houston    Male\n",
            "54  Carol   33      Phoenix  Female\n"
          ]
        }
      ]
    },
    {
      "cell_type": "code",
      "source": [
        "print(df.head(5))"
      ],
      "metadata": {
        "colab": {
          "base_uri": "https://localhost:8080/"
        },
        "id": "OTc6r7JOoV4y",
        "outputId": "bf22d9a5-64b4-4a24-ba43-06bd06b003e3"
      },
      "execution_count": null,
      "outputs": [
        {
          "output_type": "stream",
          "name": "stdout",
          "text": [
            "    Name  Age         City  Gender\n",
            "0   John   26     New York    Male\n",
            "1   Jane   31  Los Angeles  Female\n",
            "2  Alice   22      Chicago  Female\n",
            "3    Bob   45      Houston    Male\n",
            "4  Carol   37      Phoenix  Female\n"
          ]
        }
      ]
    },
    {
      "cell_type": "code",
      "source": [
        "print(df.describe())"
      ],
      "metadata": {
        "colab": {
          "base_uri": "https://localhost:8080/"
        },
        "id": "201ocgmkohSW",
        "outputId": "07ba2568-c85a-439e-9474-6b258b18dc81"
      },
      "execution_count": null,
      "outputs": [
        {
          "output_type": "stream",
          "name": "stdout",
          "text": [
            "             Age\n",
            "count  55.000000\n",
            "mean   31.127273\n",
            "std     6.675146\n",
            "min    21.000000\n",
            "25%    26.000000\n",
            "50%    29.000000\n",
            "75%    35.500000\n",
            "max    46.000000\n"
          ]
        }
      ]
    },
    {
      "cell_type": "code",
      "source": [
        "ages=df['Age']"
      ],
      "metadata": {
        "id": "dOijMs30qDMH"
      },
      "execution_count": null,
      "outputs": []
    },
    {
      "cell_type": "code",
      "source": [
        "subset=df[['Name','Name']]"
      ],
      "metadata": {
        "id": "x5E2EbqOqKJn"
      },
      "execution_count": null,
      "outputs": []
    },
    {
      "cell_type": "code",
      "source": [
        "import pandas as pd\n",
        "df=pd.read_csv('/content/235-Nov.csv')\n",
        "print(df)"
      ],
      "metadata": {
        "colab": {
          "base_uri": "https://localhost:8080/"
        },
        "id": "M084tCk8qRlp",
        "outputId": "1ed1d4e0-b363-41dc-9fe1-2ce05f9bbfd7"
      },
      "execution_count": null,
      "outputs": [
        {
          "output_type": "stream",
          "name": "stdout",
          "text": [
            "       owner-id network-id      date   time  utc-offset  start-ime  end-time  \\\n",
            "0        Q-Free     Q-Free  20211110  80900           0      80800     80900   \n",
            "1        Q-Free     Q-Free  20211110  80900           0      80800     80900   \n",
            "2        Q-Free     Q-Free  20211110  80900           0      80800     80900   \n",
            "3        Q-Free     Q-Free  20211110  80900           0      80800     80900   \n",
            "4        Q-Free     Q-Free  20211110  80900           0      80800     80900   \n",
            "...         ...        ...       ...    ...         ...        ...       ...   \n",
            "128775   Q-Free     Q-Free  20211109  50500           0      50400     50500   \n",
            "128776   Q-Free     Q-Free  20211109  50500           0      50400     50500   \n",
            "128777   Q-Free     Q-Free  20211109  50500           0      50400     50500   \n",
            "128778   Q-Free     Q-Free  20211109  50500           0      50400     50500   \n",
            "128779   Q-Free     Q-Free  20211109  50500           0      50400     50500   \n",
            "\n",
            "          detector-id status  lane-id  ...  small-class-count  \\\n",
            "0        DMDS20-WB EN     OK        1  ...                  0   \n",
            "1        DMDS20-WB RL     OK        4  ...                  0   \n",
            "2       DMDS20-WB RCL     OK        3  ...                  0   \n",
            "3       DMDS20-WB LCL     OK        2  ...                  0   \n",
            "4        DMDS20-WB LL     OK        1  ...                  0   \n",
            "...               ...    ...      ...  ...                ...   \n",
            "128775   DMDS20-EB LL     OK        1  ...                  0   \n",
            "128776  DMDS20-EB LCL     OK        2  ...                  0   \n",
            "128777  DMDS20-EB RCL     OK        3  ...                  1   \n",
            "128778   DMDS20-EB RL     OK        4  ...                  0   \n",
            "128779   DMDS20-EB EX     OK        1  ...                  0   \n",
            "\n",
            "        medium-class-count  large-class-count                device-id  \\\n",
            "0                        0                  0  OpenTMS-Detector46573-0   \n",
            "1                        1                  0  OpenTMS-Detector46573-1   \n",
            "2                        0                  0  OpenTMS-Detector46573-2   \n",
            "3                        0                  0  OpenTMS-Detector46573-3   \n",
            "4                        0                  0  OpenTMS-Detector46573-4   \n",
            "...                    ...                ...                      ...   \n",
            "128775                   2                  0  OpenTMS-Detector46573-5   \n",
            "128776                   2                  0  OpenTMS-Detector46573-6   \n",
            "128777                   4                  1  OpenTMS-Detector46573-7   \n",
            "128778                   2                  0  OpenTMS-Detector46573-8   \n",
            "128779                   0                  0  OpenTMS-Detector46573-9   \n",
            "\n",
            "        link-direction  detector-type sample-period device-description month  \\\n",
            "0                    w        unknown            60            ON_RAMP    11   \n",
            "1                    w        unknown            60             NORMAL    11   \n",
            "2                    w        unknown            60             NORMAL    11   \n",
            "3                    w        unknown            60             NORMAL    11   \n",
            "4                    w        unknown            60             NORMAL    11   \n",
            "...                ...            ...           ...                ...   ...   \n",
            "128775               e        unknown            60             NORMAL    11   \n",
            "128776               e        unknown            60             NORMAL    11   \n",
            "128777               e        unknown            60             NORMAL    11   \n",
            "128778               e        unknown            60             NORMAL    11   \n",
            "128779               e        unknown            60           OFF_RAMP    11   \n",
            "\n",
            "        day  \n",
            "0        10  \n",
            "1        10  \n",
            "2        10  \n",
            "3        10  \n",
            "4        10  \n",
            "...     ...  \n",
            "128775    8  \n",
            "128776    8  \n",
            "128777    8  \n",
            "128778    8  \n",
            "128779    8  \n",
            "\n",
            "[128780 rows x 23 columns]\n"
          ]
        }
      ]
    },
    {
      "cell_type": "code",
      "source": [
        "print (df.head(5))"
      ],
      "metadata": {
        "colab": {
          "base_uri": "https://localhost:8080/"
        },
        "id": "AW5y-4KzrXjb",
        "outputId": "7e1c6ab7-527e-456a-aaa7-ebd039c2a758"
      },
      "execution_count": null,
      "outputs": [
        {
          "output_type": "stream",
          "name": "stdout",
          "text": [
            "  owner-id network-id      date   time  utc-offset  start-ime  end-time  \\\n",
            "0   Q-Free     Q-Free  20211110  80900           0      80800     80900   \n",
            "1   Q-Free     Q-Free  20211110  80900           0      80800     80900   \n",
            "2   Q-Free     Q-Free  20211110  80900           0      80800     80900   \n",
            "3   Q-Free     Q-Free  20211110  80900           0      80800     80900   \n",
            "4   Q-Free     Q-Free  20211110  80900           0      80800     80900   \n",
            "\n",
            "     detector-id status  lane-id  ...  small-class-count  medium-class-count  \\\n",
            "0   DMDS20-WB EN     OK        1  ...                  0                   0   \n",
            "1   DMDS20-WB RL     OK        4  ...                  0                   1   \n",
            "2  DMDS20-WB RCL     OK        3  ...                  0                   0   \n",
            "3  DMDS20-WB LCL     OK        2  ...                  0                   0   \n",
            "4   DMDS20-WB LL     OK        1  ...                  0                   0   \n",
            "\n",
            "   large-class-count                device-id  link-direction  detector-type  \\\n",
            "0                  0  OpenTMS-Detector46573-0               w        unknown   \n",
            "1                  0  OpenTMS-Detector46573-1               w        unknown   \n",
            "2                  0  OpenTMS-Detector46573-2               w        unknown   \n",
            "3                  0  OpenTMS-Detector46573-3               w        unknown   \n",
            "4                  0  OpenTMS-Detector46573-4               w        unknown   \n",
            "\n",
            "  sample-period device-description month  day  \n",
            "0            60            ON_RAMP    11   10  \n",
            "1            60             NORMAL    11   10  \n",
            "2            60             NORMAL    11   10  \n",
            "3            60             NORMAL    11   10  \n",
            "4            60             NORMAL    11   10  \n",
            "\n",
            "[5 rows x 23 columns]\n"
          ]
        }
      ]
    },
    {
      "cell_type": "code",
      "source": [
        "print(df.info())"
      ],
      "metadata": {
        "colab": {
          "base_uri": "https://localhost:8080/"
        },
        "id": "fnzBkaj6rduC",
        "outputId": "470f7f6f-a3b7-4270-f3c2-8ca66d48bf3c"
      },
      "execution_count": null,
      "outputs": [
        {
          "output_type": "stream",
          "name": "stdout",
          "text": [
            "<class 'pandas.core.frame.DataFrame'>\n",
            "RangeIndex: 128780 entries, 0 to 128779\n",
            "Data columns (total 23 columns):\n",
            " #   Column              Non-Null Count   Dtype \n",
            "---  ------              --------------   ----- \n",
            " 0   owner-id            128780 non-null  object\n",
            " 1   network-id          128780 non-null  object\n",
            " 2   date                128780 non-null  int64 \n",
            " 3   time                128780 non-null  int64 \n",
            " 4   utc-offset          128780 non-null  int64 \n",
            " 5   start-ime           128780 non-null  int64 \n",
            " 6   end-time            128780 non-null  int64 \n",
            " 7   detector-id         128780 non-null  object\n",
            " 8   status              128780 non-null  object\n",
            " 9   lane-id             128780 non-null  int64 \n",
            " 10  lane-count          128780 non-null  int64 \n",
            " 11  lane-occupancy      128780 non-null  int64 \n",
            " 12  lane-speed          128780 non-null  int64 \n",
            " 13  small-class-count   128780 non-null  int64 \n",
            " 14  medium-class-count  128780 non-null  int64 \n",
            " 15  large-class-count   128780 non-null  int64 \n",
            " 16  device-id           128780 non-null  object\n",
            " 17  link-direction      128780 non-null  object\n",
            " 18  detector-type       128780 non-null  object\n",
            " 19  sample-period       128780 non-null  int64 \n",
            " 20  device-description  128780 non-null  object\n",
            " 21  month               128780 non-null  int64 \n",
            " 22  day                 128780 non-null  int64 \n",
            "dtypes: int64(15), object(8)\n",
            "memory usage: 22.6+ MB\n",
            "None\n"
          ]
        }
      ]
    },
    {
      "cell_type": "code",
      "source": [
        "print(df.describe())"
      ],
      "metadata": {
        "colab": {
          "base_uri": "https://localhost:8080/"
        },
        "id": "TkXbHuASr-mJ",
        "outputId": "8a251f84-0d37-4699-8dd0-2bfc16183877"
      },
      "execution_count": null,
      "outputs": [
        {
          "output_type": "stream",
          "name": "stdout",
          "text": [
            "               date           time  utc-offset      start-ime       end-time  \\\n",
            "count  1.287800e+05  128780.000000    128780.0  128780.000000  128780.000000   \n",
            "mean   2.021111e+07  117912.004193         0.0  117932.395558  117912.004193   \n",
            "std    3.440028e+00   69021.866649         0.0   69021.150108   69021.866649   \n",
            "min    2.021110e+07       0.000000         0.0       0.000000       0.000000   \n",
            "25%    2.021110e+07   60100.000000         0.0   60100.000000   60100.000000   \n",
            "50%    2.021111e+07  120000.000000         0.0  120000.000000  120000.000000   \n",
            "75%    2.021111e+07  175700.000000         0.0  175800.000000  175700.000000   \n",
            "max    2.021111e+07  235900.000000         0.0  235900.000000  235900.000000   \n",
            "\n",
            "             lane-id     lane-count  lane-occupancy     lane-speed  \\\n",
            "count  128780.000000  128780.000000   128780.000000  128780.000000   \n",
            "mean        2.200000       9.634074        3.797197      61.164964   \n",
            "std         1.166195       8.714397        4.332574       6.787330   \n",
            "min         1.000000       0.000000        0.000000       0.000000   \n",
            "25%         1.000000       2.000000        0.000000      58.000000   \n",
            "50%         2.000000       7.000000        3.000000      61.000000   \n",
            "75%         3.000000      16.000000        6.000000      64.000000   \n",
            "max         4.000000      51.000000       99.000000     143.000000   \n",
            "\n",
            "       small-class-count  medium-class-count  large-class-count  \\\n",
            "count      128780.000000       128780.000000      128780.000000   \n",
            "mean            0.203960            7.616548           1.581472   \n",
            "std             0.648766            6.935575           2.237594   \n",
            "min             0.000000            0.000000           0.000000   \n",
            "25%             0.000000            2.000000           0.000000   \n",
            "50%             0.000000            6.000000           1.000000   \n",
            "75%             0.000000           13.000000           2.000000   \n",
            "max            17.000000           37.000000          23.000000   \n",
            "\n",
            "       sample-period     month            day  \n",
            "count       128780.0  128780.0  128780.000000  \n",
            "mean            60.0      11.0       6.665942  \n",
            "std              0.0       0.0       3.396851  \n",
            "min             60.0      11.0       2.000000  \n",
            "25%             60.0      11.0       2.000000  \n",
            "50%             60.0      11.0       8.000000  \n",
            "75%             60.0      11.0      10.000000  \n",
            "max             60.0      11.0      10.000000  \n"
          ]
        }
      ]
    },
    {
      "cell_type": "code",
      "source": [
        "import pandas as pd\n",
        "time_str=df['time']\n",
        "time_dt=pd.to_datetime(time_str, format='%H:%M:%S')\n",
        "hours=time_dt.dt.hour + time_dt.dt.minute/60 + time_dt.dt.second/3600\n",
        "print(hours)\n",
        "\n",
        "\n"
      ],
      "metadata": {
        "colab": {
          "base_uri": "https://localhost:8080/",
          "height": 564
        },
        "id": "u2vtgeZHsmvT",
        "outputId": "337e3101-4447-45f1-a877-89e128c39fe5"
      },
      "execution_count": null,
      "outputs": [
        {
          "output_type": "error",
          "ename": "ValueError",
          "evalue": "time data \"80900\" doesn't match format \"%H:%M:%S\", at position 0. You might want to try:\n    - passing `format` if your strings have a consistent format;\n    - passing `format='ISO8601'` if your strings are all ISO8601 but not necessarily in exactly the same format;\n    - passing `format='mixed'`, and the format will be inferred for each element individually. You might want to use `dayfirst` alongside this.",
          "traceback": [
            "\u001b[0;31m---------------------------------------------------------------------------\u001b[0m",
            "\u001b[0;31mValueError\u001b[0m                                Traceback (most recent call last)",
            "\u001b[0;32m<ipython-input-30-b2d84b59cac7>\u001b[0m in \u001b[0;36m<cell line: 3>\u001b[0;34m()\u001b[0m\n\u001b[1;32m      1\u001b[0m \u001b[0;32mimport\u001b[0m \u001b[0mpandas\u001b[0m \u001b[0;32mas\u001b[0m \u001b[0mpd\u001b[0m\u001b[0;34m\u001b[0m\u001b[0;34m\u001b[0m\u001b[0m\n\u001b[1;32m      2\u001b[0m \u001b[0mtime_str\u001b[0m\u001b[0;34m=\u001b[0m\u001b[0mdf\u001b[0m\u001b[0;34m[\u001b[0m\u001b[0;34m'time'\u001b[0m\u001b[0;34m]\u001b[0m\u001b[0;34m\u001b[0m\u001b[0;34m\u001b[0m\u001b[0m\n\u001b[0;32m----> 3\u001b[0;31m \u001b[0mtime_dt\u001b[0m\u001b[0;34m=\u001b[0m\u001b[0mpd\u001b[0m\u001b[0;34m.\u001b[0m\u001b[0mto_datetime\u001b[0m\u001b[0;34m(\u001b[0m\u001b[0mtime_str\u001b[0m\u001b[0;34m,\u001b[0m \u001b[0mformat\u001b[0m\u001b[0;34m=\u001b[0m\u001b[0;34m'%H:%M:%S'\u001b[0m\u001b[0;34m)\u001b[0m\u001b[0;34m\u001b[0m\u001b[0;34m\u001b[0m\u001b[0m\n\u001b[0m\u001b[1;32m      4\u001b[0m \u001b[0mhours\u001b[0m\u001b[0;34m=\u001b[0m\u001b[0mtime_dt\u001b[0m\u001b[0;34m.\u001b[0m\u001b[0mdt\u001b[0m\u001b[0;34m.\u001b[0m\u001b[0mhour\u001b[0m \u001b[0;34m+\u001b[0m \u001b[0mtime_dt\u001b[0m\u001b[0;34m.\u001b[0m\u001b[0mdt\u001b[0m\u001b[0;34m.\u001b[0m\u001b[0mminute\u001b[0m\u001b[0;34m/\u001b[0m\u001b[0;36m60\u001b[0m \u001b[0;34m+\u001b[0m \u001b[0mtime_dt\u001b[0m\u001b[0;34m.\u001b[0m\u001b[0mdt\u001b[0m\u001b[0;34m.\u001b[0m\u001b[0msecond\u001b[0m\u001b[0;34m/\u001b[0m\u001b[0;36m3600\u001b[0m\u001b[0;34m\u001b[0m\u001b[0;34m\u001b[0m\u001b[0m\n\u001b[1;32m      5\u001b[0m \u001b[0mprint\u001b[0m\u001b[0;34m(\u001b[0m\u001b[0mhours\u001b[0m\u001b[0;34m)\u001b[0m\u001b[0;34m\u001b[0m\u001b[0;34m\u001b[0m\u001b[0m\n",
            "\u001b[0;32m/usr/local/lib/python3.10/dist-packages/pandas/core/tools/datetimes.py\u001b[0m in \u001b[0;36mto_datetime\u001b[0;34m(arg, errors, dayfirst, yearfirst, utc, format, exact, unit, infer_datetime_format, origin, cache)\u001b[0m\n\u001b[1;32m   1106\u001b[0m                 \u001b[0mresult\u001b[0m \u001b[0;34m=\u001b[0m \u001b[0marg\u001b[0m\u001b[0;34m.\u001b[0m\u001b[0mtz_localize\u001b[0m\u001b[0;34m(\u001b[0m\u001b[0;34m\"utc\"\u001b[0m\u001b[0;34m)\u001b[0m\u001b[0;34m\u001b[0m\u001b[0;34m\u001b[0m\u001b[0m\n\u001b[1;32m   1107\u001b[0m     \u001b[0;32melif\u001b[0m \u001b[0misinstance\u001b[0m\u001b[0;34m(\u001b[0m\u001b[0marg\u001b[0m\u001b[0;34m,\u001b[0m \u001b[0mABCSeries\u001b[0m\u001b[0;34m)\u001b[0m\u001b[0;34m:\u001b[0m\u001b[0;34m\u001b[0m\u001b[0;34m\u001b[0m\u001b[0m\n\u001b[0;32m-> 1108\u001b[0;31m         \u001b[0mcache_array\u001b[0m \u001b[0;34m=\u001b[0m \u001b[0m_maybe_cache\u001b[0m\u001b[0;34m(\u001b[0m\u001b[0marg\u001b[0m\u001b[0;34m,\u001b[0m \u001b[0mformat\u001b[0m\u001b[0;34m,\u001b[0m \u001b[0mcache\u001b[0m\u001b[0;34m,\u001b[0m \u001b[0mconvert_listlike\u001b[0m\u001b[0;34m)\u001b[0m\u001b[0;34m\u001b[0m\u001b[0;34m\u001b[0m\u001b[0m\n\u001b[0m\u001b[1;32m   1109\u001b[0m         \u001b[0;32mif\u001b[0m \u001b[0;32mnot\u001b[0m \u001b[0mcache_array\u001b[0m\u001b[0;34m.\u001b[0m\u001b[0mempty\u001b[0m\u001b[0;34m:\u001b[0m\u001b[0;34m\u001b[0m\u001b[0;34m\u001b[0m\u001b[0m\n\u001b[1;32m   1110\u001b[0m             \u001b[0mresult\u001b[0m \u001b[0;34m=\u001b[0m \u001b[0marg\u001b[0m\u001b[0;34m.\u001b[0m\u001b[0mmap\u001b[0m\u001b[0;34m(\u001b[0m\u001b[0mcache_array\u001b[0m\u001b[0;34m)\u001b[0m\u001b[0;34m\u001b[0m\u001b[0;34m\u001b[0m\u001b[0m\n",
            "\u001b[0;32m/usr/local/lib/python3.10/dist-packages/pandas/core/tools/datetimes.py\u001b[0m in \u001b[0;36m_maybe_cache\u001b[0;34m(arg, format, cache, convert_listlike)\u001b[0m\n\u001b[1;32m    252\u001b[0m         \u001b[0munique_dates\u001b[0m \u001b[0;34m=\u001b[0m \u001b[0munique\u001b[0m\u001b[0;34m(\u001b[0m\u001b[0marg\u001b[0m\u001b[0;34m)\u001b[0m\u001b[0;34m\u001b[0m\u001b[0;34m\u001b[0m\u001b[0m\n\u001b[1;32m    253\u001b[0m         \u001b[0;32mif\u001b[0m \u001b[0mlen\u001b[0m\u001b[0;34m(\u001b[0m\u001b[0munique_dates\u001b[0m\u001b[0;34m)\u001b[0m \u001b[0;34m<\u001b[0m \u001b[0mlen\u001b[0m\u001b[0;34m(\u001b[0m\u001b[0marg\u001b[0m\u001b[0;34m)\u001b[0m\u001b[0;34m:\u001b[0m\u001b[0;34m\u001b[0m\u001b[0;34m\u001b[0m\u001b[0m\n\u001b[0;32m--> 254\u001b[0;31m             \u001b[0mcache_dates\u001b[0m \u001b[0;34m=\u001b[0m \u001b[0mconvert_listlike\u001b[0m\u001b[0;34m(\u001b[0m\u001b[0munique_dates\u001b[0m\u001b[0;34m,\u001b[0m \u001b[0mformat\u001b[0m\u001b[0;34m)\u001b[0m\u001b[0;34m\u001b[0m\u001b[0;34m\u001b[0m\u001b[0m\n\u001b[0m\u001b[1;32m    255\u001b[0m             \u001b[0;31m# GH#45319\u001b[0m\u001b[0;34m\u001b[0m\u001b[0;34m\u001b[0m\u001b[0m\n\u001b[1;32m    256\u001b[0m             \u001b[0;32mtry\u001b[0m\u001b[0;34m:\u001b[0m\u001b[0;34m\u001b[0m\u001b[0;34m\u001b[0m\u001b[0m\n",
            "\u001b[0;32m/usr/local/lib/python3.10/dist-packages/pandas/core/tools/datetimes.py\u001b[0m in \u001b[0;36m_convert_listlike_datetimes\u001b[0;34m(arg, format, name, utc, unit, errors, dayfirst, yearfirst, exact)\u001b[0m\n\u001b[1;32m    486\u001b[0m     \u001b[0;31m# `format` could be inferred, or user didn't ask for mixed-format parsing.\u001b[0m\u001b[0;34m\u001b[0m\u001b[0;34m\u001b[0m\u001b[0m\n\u001b[1;32m    487\u001b[0m     \u001b[0;32mif\u001b[0m \u001b[0mformat\u001b[0m \u001b[0;32mis\u001b[0m \u001b[0;32mnot\u001b[0m \u001b[0;32mNone\u001b[0m \u001b[0;32mand\u001b[0m \u001b[0mformat\u001b[0m \u001b[0;34m!=\u001b[0m \u001b[0;34m\"mixed\"\u001b[0m\u001b[0;34m:\u001b[0m\u001b[0;34m\u001b[0m\u001b[0;34m\u001b[0m\u001b[0m\n\u001b[0;32m--> 488\u001b[0;31m         \u001b[0;32mreturn\u001b[0m \u001b[0m_array_strptime_with_fallback\u001b[0m\u001b[0;34m(\u001b[0m\u001b[0marg\u001b[0m\u001b[0;34m,\u001b[0m \u001b[0mname\u001b[0m\u001b[0;34m,\u001b[0m \u001b[0mutc\u001b[0m\u001b[0;34m,\u001b[0m \u001b[0mformat\u001b[0m\u001b[0;34m,\u001b[0m \u001b[0mexact\u001b[0m\u001b[0;34m,\u001b[0m \u001b[0merrors\u001b[0m\u001b[0;34m)\u001b[0m\u001b[0;34m\u001b[0m\u001b[0;34m\u001b[0m\u001b[0m\n\u001b[0m\u001b[1;32m    489\u001b[0m \u001b[0;34m\u001b[0m\u001b[0m\n\u001b[1;32m    490\u001b[0m     result, tz_parsed = objects_to_datetime64ns(\n",
            "\u001b[0;32m/usr/local/lib/python3.10/dist-packages/pandas/core/tools/datetimes.py\u001b[0m in \u001b[0;36m_array_strptime_with_fallback\u001b[0;34m(arg, name, utc, fmt, exact, errors)\u001b[0m\n\u001b[1;32m    517\u001b[0m     \u001b[0mCall\u001b[0m \u001b[0marray_strptime\u001b[0m\u001b[0;34m,\u001b[0m \u001b[0;32mwith\u001b[0m \u001b[0mfallback\u001b[0m \u001b[0mbehavior\u001b[0m \u001b[0mdepending\u001b[0m \u001b[0mon\u001b[0m \u001b[0;34m'errors'\u001b[0m\u001b[0;34m.\u001b[0m\u001b[0;34m\u001b[0m\u001b[0;34m\u001b[0m\u001b[0m\n\u001b[1;32m    518\u001b[0m     \"\"\"\n\u001b[0;32m--> 519\u001b[0;31m     \u001b[0mresult\u001b[0m\u001b[0;34m,\u001b[0m \u001b[0mtimezones\u001b[0m \u001b[0;34m=\u001b[0m \u001b[0marray_strptime\u001b[0m\u001b[0;34m(\u001b[0m\u001b[0marg\u001b[0m\u001b[0;34m,\u001b[0m \u001b[0mfmt\u001b[0m\u001b[0;34m,\u001b[0m \u001b[0mexact\u001b[0m\u001b[0;34m=\u001b[0m\u001b[0mexact\u001b[0m\u001b[0;34m,\u001b[0m \u001b[0merrors\u001b[0m\u001b[0;34m=\u001b[0m\u001b[0merrors\u001b[0m\u001b[0;34m,\u001b[0m \u001b[0mutc\u001b[0m\u001b[0;34m=\u001b[0m\u001b[0mutc\u001b[0m\u001b[0;34m)\u001b[0m\u001b[0;34m\u001b[0m\u001b[0;34m\u001b[0m\u001b[0m\n\u001b[0m\u001b[1;32m    520\u001b[0m     \u001b[0;32mif\u001b[0m \u001b[0many\u001b[0m\u001b[0;34m(\u001b[0m\u001b[0mtz\u001b[0m \u001b[0;32mis\u001b[0m \u001b[0;32mnot\u001b[0m \u001b[0;32mNone\u001b[0m \u001b[0;32mfor\u001b[0m \u001b[0mtz\u001b[0m \u001b[0;32min\u001b[0m \u001b[0mtimezones\u001b[0m\u001b[0;34m)\u001b[0m\u001b[0;34m:\u001b[0m\u001b[0;34m\u001b[0m\u001b[0;34m\u001b[0m\u001b[0m\n\u001b[1;32m    521\u001b[0m         \u001b[0;32mreturn\u001b[0m \u001b[0m_return_parsed_timezone_results\u001b[0m\u001b[0;34m(\u001b[0m\u001b[0mresult\u001b[0m\u001b[0;34m,\u001b[0m \u001b[0mtimezones\u001b[0m\u001b[0;34m,\u001b[0m \u001b[0mutc\u001b[0m\u001b[0;34m,\u001b[0m \u001b[0mname\u001b[0m\u001b[0;34m)\u001b[0m\u001b[0;34m\u001b[0m\u001b[0;34m\u001b[0m\u001b[0m\n",
            "\u001b[0;32mstrptime.pyx\u001b[0m in \u001b[0;36mpandas._libs.tslibs.strptime.array_strptime\u001b[0;34m()\u001b[0m\n",
            "\u001b[0;32mstrptime.pyx\u001b[0m in \u001b[0;36mpandas._libs.tslibs.strptime.array_strptime\u001b[0;34m()\u001b[0m\n",
            "\u001b[0;31mValueError\u001b[0m: time data \"80900\" doesn't match format \"%H:%M:%S\", at position 0. You might want to try:\n    - passing `format` if your strings have a consistent format;\n    - passing `format='ISO8601'` if your strings are all ISO8601 but not necessarily in exactly the same format;\n    - passing `format='mixed'`, and the format will be inferred for each element individually. You might want to use `dayfirst` alongside this."
          ]
        }
      ]
    }
  ]
}