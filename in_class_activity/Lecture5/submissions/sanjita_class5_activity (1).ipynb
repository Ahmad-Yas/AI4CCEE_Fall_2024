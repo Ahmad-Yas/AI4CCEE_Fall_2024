{
  "nbformat": 4,
  "nbformat_minor": 0,
  "metadata": {
    "colab": {
      "provenance": [],
      "authorship_tag": "ABX9TyPfuN/5MnS92Ki5zCOoQqAc",
      "include_colab_link": true
    },
    "kernelspec": {
      "name": "python3",
      "display_name": "Python 3"
    },
    "language_info": {
      "name": "python"
    }
  },
  "cells": [
    {
      "cell_type": "markdown",
      "metadata": {
        "id": "view-in-github",
        "colab_type": "text"
      },
      "source": [
        "<a href=\"https://colab.research.google.com/github/SanjitaPrajapati/AI4CCEE_Fall_2024/blob/main/sanjita_class5_activity.ipynb\" target=\"_parent\"><img src=\"https://colab.research.google.com/assets/colab-badge.svg\" alt=\"Open In Colab\"/></a>"
      ]
    },
    {
      "cell_type": "code",
      "source": [
        "# prompt: how to print all the columns in pandas\n",
        "\n",
        "import pandas as pd\n",
        "\n",
        "# Assuming you have a DataFrame named 'df'\n",
        "print(df.columns)\n"
      ],
      "metadata": {
        "colab": {
          "base_uri": "https://localhost:8080/"
        },
        "id": "fekmitKRB0y5",
        "outputId": "69e58882-e9de-4094-9824-3c88c0a1f6ec"
      },
      "execution_count": null,
      "outputs": [
        {
          "output_type": "stream",
          "name": "stdout",
          "text": [
            "0    =HYPERLINK(\"https://www.example.com\", \"Example...\n",
            "1    =HYPERLINK(\"https://www.google.com\", \"Google L...\n",
            "Name: Hyperlink, dtype: object\n",
            "  Column1                                          Hyperlink\n",
            "0  Value1  =HYPERLINK(\"https://www.example.com\", \"Example...\n",
            "1  Value2  =HYPERLINK(\"https://www.google.com\", \"Google L...\n"
          ]
        }
      ]
    },
    {
      "cell_type": "code",
      "execution_count": null,
      "metadata": {
        "colab": {
          "base_uri": "https://localhost:8080/"
        },
        "id": "cYk9k-FGfXoo",
        "outputId": "532f467f-9d67-45c7-ba0a-b43167259246"
      },
      "outputs": [
        {
          "output_type": "stream",
          "name": "stdout",
          "text": [
            "Mounted at /content/drive\n"
          ]
        }
      ],
      "source": [
        "# prompt: connect with drive\n",
        "\n",
        "from google.colab import drive\n",
        "drive.mount('/content/drive')\n"
      ]
    },
    {
      "cell_type": "code",
      "source": [
        "import pandas as pd\n",
        "import numpy as np\n",
        "import matplotlib.pyplot as plt\n",
        "import seaborn as sns"
      ],
      "metadata": {
        "id": "7YiGcWfJfa_l"
      },
      "execution_count": null,
      "outputs": []
    },
    {
      "cell_type": "code",
      "source": [
        "# prompt: read car_speed into pandas dataframe\n",
        "\n",
        "import pandas as pd\n",
        "# Assuming the file is in your Google Drive, replace 'path/to/your/file.csv' with the actual path.\n",
        "df_car_speed = pd.read_csv('/content/Car_Speed.csv')\n",
        "\n",
        "# Print the first few rows of the DataFrame to check if it loaded correctly.\n",
        "print(df_car_speed.head())\n"
      ],
      "metadata": {
        "colab": {
          "base_uri": "https://localhost:8080/"
        },
        "id": "0eGqMSVofyAv",
        "outputId": "f24ddc27-a17b-4690-bd56-5e1b817ab9ba"
      },
      "execution_count": null,
      "outputs": [
        {
          "output_type": "stream",
          "name": "stdout",
          "text": [
            "   day                 Time  WAVE-NE-Count  WAVE-NE-Speed  WAVE-SW-Count  \\\n",
            "0    1  2022-07-10 00:00:00            NaN            NaN            3.0   \n",
            "1    1  2022-07-10 00:01:00           10.0           62.0            2.0   \n",
            "2    1  2022-07-10 00:02:00            5.0           63.6            4.0   \n",
            "3    1  2022-07-10 00:03:00           11.0           58.2            9.0   \n",
            "4    1  2022-07-10 00:04:00           19.0           60.2           17.0   \n",
            "\n",
            "   WAVE-SW-Speed  Month  Year  \n",
            "0           59.5     10  2021  \n",
            "1           59.0     10  2021  \n",
            "2           58.4     10  2021  \n",
            "3           60.0     10  2021  \n",
            "4           61.2     10  2021  \n"
          ]
        }
      ]
    },
    {
      "cell_type": "code",
      "source": [
        "# prompt: the column have Time have time stamp and I need to convert the timestamp into hours\n",
        "\n",
        "import pandas as pd\n",
        "# Assuming 'Time' column contains timestamp strings\n",
        "# Convert 'Time' column to datetime objects\n",
        "df_car_speed['Time'] = pd.to_datetime(df_car_speed['Time'])\n",
        "\n",
        "# Extract the hour from the datetime objects\n",
        "df_car_speed['Hour'] = df_car_speed['Time'].dt.hour\n",
        "\n",
        "# Print the DataFrame to verify the new 'Hour' column\n",
        "print(df_car_speed.head())\n"
      ],
      "metadata": {
        "colab": {
          "base_uri": "https://localhost:8080/"
        },
        "id": "856cP_onlHbm",
        "outputId": "b389225f-b8af-43a3-dd18-82f161ad0e42"
      },
      "execution_count": null,
      "outputs": [
        {
          "output_type": "stream",
          "name": "stdout",
          "text": [
            "   day                Time  WAVE-NE-Count  WAVE-NE-Speed  WAVE-SW-Count  \\\n",
            "0    1 2022-07-10 00:00:00            NaN            NaN            3.0   \n",
            "1    1 2022-07-10 00:01:00           10.0           62.0            2.0   \n",
            "2    1 2022-07-10 00:02:00            5.0           63.6            4.0   \n",
            "3    1 2022-07-10 00:03:00           11.0           58.2            9.0   \n",
            "4    1 2022-07-10 00:04:00           19.0           60.2           17.0   \n",
            "\n",
            "   WAVE-SW-Speed  Month  Year  Hour  \n",
            "0           59.5      7  2021     0  \n",
            "1           59.0      7  2021     0  \n",
            "2           58.4      7  2021     0  \n",
            "3           60.0      7  2021     0  \n",
            "4           61.2      7  2021     0  \n"
          ]
        }
      ]
    },
    {
      "cell_type": "code",
      "source": [
        "# prompt: remove the colum time\n",
        "\n",
        "df_car_speed = df_car_speed.drop('Time', axis=1)\n",
        "print(df_car_speed.head())\n"
      ],
      "metadata": {
        "colab": {
          "base_uri": "https://localhost:8080/"
        },
        "id": "KvWTOdPhmQSV",
        "outputId": "ce59266f-8ed8-438a-d8e6-bd4b4c307fc8"
      },
      "execution_count": null,
      "outputs": [
        {
          "output_type": "stream",
          "name": "stdout",
          "text": [
            "   day  WAVE-NE-Count  WAVE-NE-Speed  WAVE-SW-Count  WAVE-SW-Speed  Month  \\\n",
            "0    1            NaN            NaN            3.0           59.5      7   \n",
            "1    1           10.0           62.0            2.0           59.0      7   \n",
            "2    1            5.0           63.6            4.0           58.4      7   \n",
            "3    1           11.0           58.2            9.0           60.0      7   \n",
            "4    1           19.0           60.2           17.0           61.2      7   \n",
            "\n",
            "   Year  Hour  \n",
            "0  2021     0  \n",
            "1  2021     0  \n",
            "2  2021     0  \n",
            "3  2021     0  \n",
            "4  2021     0  \n"
          ]
        }
      ]
    },
    {
      "cell_type": "code",
      "source": [
        "print(df_car_speed['Hour'])"
      ],
      "metadata": {
        "colab": {
          "base_uri": "https://localhost:8080/"
        },
        "id": "09QlwwMvhjO0",
        "outputId": "291f3ddc-bcf9-4ef3-dabd-ddf150a4dded"
      },
      "execution_count": null,
      "outputs": [
        {
          "output_type": "stream",
          "name": "stdout",
          "text": [
            "0          0\n",
            "1          0\n",
            "2          0\n",
            "3          0\n",
            "4          0\n",
            "          ..\n",
            "223043    23\n",
            "223044    23\n",
            "223045    23\n",
            "223046    23\n",
            "223047    23\n",
            "Name: Hour, Length: 223048, dtype: int32\n"
          ]
        }
      ]
    },
    {
      "cell_type": "code",
      "source": [
        "# prompt: plot the time vs wave-ne-speed graph\n",
        "\n",
        "import matplotlib.pyplot as plt\n",
        "plt.figure(figsize=(10, 6))\n",
        "plt.plot(df_car_speed['Hour'], df_car_speed['WAVE-SW-Speed'])\n",
        "plt.xlabel('Time')\n",
        "plt.ylabel('WAVE-SW-Speed')\n",
        "plt.title('Time vs WAVE-SW-Speed')\n",
        "plt.grid(True)\n",
        "plt.show()\n"
      ],
      "metadata": {
        "colab": {
          "base_uri": "https://localhost:8080/",
          "height": 564
        },
        "id": "V7I7cEAVf3nt",
        "outputId": "0077ad6a-8f67-4df6-bfd1-a76a25e6ebf8"
      },
      "execution_count": null,
      "outputs": [
        {
          "output_type": "display_data",
          "data": {
            "text/plain": [
              "<Figure size 1000x600 with 1 Axes>"
            ],
            "image/png": "[encoded data removed]"
          },
          "metadata": {}
        }
      ]
    },
    {
      "cell_type": "code",
      "source": [
        "# prompt: plot the time vs wave-ne-speed graph for day\n",
        "\n",
        "import matplotlib.pyplot as plt\n",
        "# Filter the DataFrame for a specific day (e.g., day 1)\n",
        "df_day = df_car_speed[df_car_speed['day'] == 2]\n",
        "\n",
        "# Plot the graph for the selected day\n",
        "plt.figure(figsize=(10, 6))\n",
        "plt.plot(df_day['Hour'], df_day['WAVE-NE-Speed'])\n",
        "plt.xlabel('Time')\n",
        "plt.ylabel('WAVE-NE-Speed')\n",
        "plt.title('Time vs WAVE-NE-Speed (Day 1)')\n",
        "plt.grid(True)\n",
        "plt.show()\n"
      ],
      "metadata": {
        "colab": {
          "base_uri": "https://localhost:8080/",
          "height": 564
        },
        "id": "tfnlb0C4g_LM",
        "outputId": "1c4212e8-a409-4376-b19d-740635e3bf06"
      },
      "execution_count": null,
      "outputs": [
        {
          "output_type": "display_data",
          "data": {
            "text/plain": [
              "<Figure size 1000x600 with 1 Axes>"
            ],
            "image/png": "[encoded data removed]"
          },
          "metadata": {}
        }
      ]
    },
    {
      "cell_type": "code",
      "source": [
        "print(len(df_car_speed['Month']))"
      ],
      "metadata": {
        "colab": {
          "base_uri": "https://localhost:8080/"
        },
        "id": "egKwpzhQgEIO",
        "outputId": "94f77248-7325-4928-ea92-773978ccb2ec"
      },
      "execution_count": null,
      "outputs": [
        {
          "output_type": "stream",
          "name": "stdout",
          "text": [
            "223048\n"
          ]
        }
      ]
    },
    {
      "cell_type": "code",
      "source": [],
      "metadata": {
        "id": "750-21sSkPT8"
      },
      "execution_count": null,
      "outputs": []
    },
    {
      "cell_type": "code",
      "source": [
        "# prompt: split the df_car_speed into training and testing set without randomly and remove NaN rows\n",
        "\n",
        "# Drop NaN rows\n",
        "df_car_speed = df_car_speed.dropna()\n",
        "\n",
        "# Calculate the split point (e.g., 80% for training)\n",
        "split_point = int(len(df_car_speed) * 0.8)\n",
        "\n",
        "# Split the DataFrame into training and testing sets without shuffling\n",
        "df_train = df_car_speed[:split_point]\n",
        "df_test = df_car_speed[split_point:]\n",
        "\n",
        "# Print the shapes of the training and testing sets to verify the split\n",
        "print(f\"Training set shape: {df_train.shape}\")\n",
        "print(f\"Testing set shape: {df_test.shape}\")\n"
      ],
      "metadata": {
        "colab": {
          "base_uri": "https://localhost:8080/"
        },
        "id": "_lAbPS96gbZo",
        "outputId": "9fd82c24-8d8a-4163-dc8f-616a9124c069"
      },
      "execution_count": null,
      "outputs": [
        {
          "output_type": "stream",
          "name": "stdout",
          "text": [
            "Training set shape: (171111, 8)\n",
            "Testing set shape: (42778, 8)\n"
          ]
        }
      ]
    },
    {
      "cell_type": "code",
      "source": [
        "print(df_train)"
      ],
      "metadata": {
        "colab": {
          "base_uri": "https://localhost:8080/"
        },
        "id": "acnuSxvvglR3",
        "outputId": "ec478008-477e-489a-d1a5-84dca64015c4"
      },
      "execution_count": null,
      "outputs": [
        {
          "output_type": "stream",
          "name": "stdout",
          "text": [
            "        day  WAVE-NE-Count  WAVE-NE-Speed  WAVE-SW-Count  WAVE-SW-Speed  \\\n",
            "1         1           10.0           62.0            2.0           59.0   \n",
            "2         1            5.0           63.6            4.0           58.4   \n",
            "3         1           11.0           58.2            9.0           60.0   \n",
            "4         1           19.0           60.2           17.0           61.2   \n",
            "5         1            9.0           58.2            3.0           60.8   \n",
            "...     ...            ...            ...            ...            ...   \n",
            "178455   25           11.0           55.6            4.0           53.4   \n",
            "178456   25           17.0           62.4           14.0           44.2   \n",
            "178458   25           19.0           63.6            4.0           56.5   \n",
            "178459   25            9.0           62.2           12.0           49.4   \n",
            "178460   25           10.0           60.4            7.0           54.2   \n",
            "\n",
            "        Month  Year  Hour  \n",
            "1           7  2021     0  \n",
            "2           7  2021     0  \n",
            "3           7  2021     0  \n",
            "4           7  2021     0  \n",
            "5           7  2021     0  \n",
            "...       ...   ...   ...  \n",
            "178455      7  2022     4  \n",
            "178456      7  2022     4  \n",
            "178458      7  2022     4  \n",
            "178459      7  2022     4  \n",
            "178460      7  2022     4  \n",
            "\n",
            "[171111 rows x 8 columns]\n"
          ]
        }
      ]
    },
    {
      "cell_type": "code",
      "source": [
        "# prompt: train a simple linear regression model using scikit learn\n",
        "\n",
        "from sklearn.linear_model import LinearRegression\n",
        "from sklearn.model_selection import train_test_split\n",
        "from sklearn.metrics import mean_squared_error, r2_score\n",
        "\n",
        "# Define the features (X) and target variable (y)\n",
        "X = df_train[['Hour']]  # Use 'Hour' as the feature\n",
        "y = df_train['WAVE-NE-Speed']  # Use 'WAVE-NE-Speed' as the target variable\n",
        "\n",
        "# Create a linear regression model\n",
        "model = LinearRegression()\n",
        "\n",
        "# Train the model\n",
        "model.fit(X, y)\n",
        "\n",
        "# Make predictions on the training set\n",
        "y_pred = model.predict(X)\n",
        "\n",
        "# Evaluate the model\n",
        "mse = mean_squared_error(y, y_pred)\n",
        "r2 = r2_score(y, y_pred)\n",
        "\n",
        "print(f\"Mean Squared Error: {mse}\")\n",
        "print(f\"R-squared: {r2}\")\n",
        "\n",
        "# Now you can use the trained model to make predictions on new data (e.g., df_test)\n"
      ],
      "metadata": {
        "colab": {
          "base_uri": "https://localhost:8080/"
        },
        "id": "_0TPCUk8gu-l",
        "outputId": "5f2a1e42-c848-43e4-fd3c-e2762f25deff"
      },
      "execution_count": null,
      "outputs": [
        {
          "output_type": "stream",
          "name": "stdout",
          "text": [
            "Mean Squared Error: 12.895553460705699\n",
            "R-squared: 9.843623943961433e-06\n"
          ]
        }
      ]
    },
    {
      "cell_type": "code",
      "source": [
        "# prompt: use testing data to evaluate the model's performance\n",
        "\n",
        "# Define the features (X_test) and target variable (y_test) for the test set\n",
        "X_test = df_test[['Hour']]\n",
        "y_test = df_test['WAVE-NE-Speed']\n",
        "\n",
        "# Make predictions on the test set\n",
        "y_test_pred = model.predict(X_test)\n",
        "\n",
        "# Evaluate the model's performance on the test set\n",
        "mse_test = mean_squared_error(y_test, y_test_pred)\n",
        "r2_test = r2_score(y_test, y_test_pred)\n",
        "\n",
        "print(f\"Mean Squared Error (Test): {mse_test}\")\n",
        "print(f\"R-squared (Test): {r2_test}\")\n"
      ],
      "metadata": {
        "colab": {
          "base_uri": "https://localhost:8080/"
        },
        "id": "hWIzGi0Yh4Yx",
        "outputId": "ce89e0b2-7a9f-42db-b29d-2262ad2574ad"
      },
      "execution_count": null,
      "outputs": [
        {
          "output_type": "stream",
          "name": "stdout",
          "text": [
            "Mean Squared Error (Test): 11.552910397819822\n",
            "R-squared (Test): -0.007481945938989876\n"
          ]
        }
      ]
    },
    {
      "cell_type": "code",
      "source": [
        "# prompt: calculate root mean squared error\n",
        "\n",
        "from sklearn.metrics import mean_squared_error\n",
        "import numpy as np\n",
        "\n",
        "rmse_test = np.sqrt(mse_test)\n",
        "print(f\"Root Mean Squared Error (Test): {rmse_test}\")\n"
      ],
      "metadata": {
        "colab": {
          "base_uri": "https://localhost:8080/"
        },
        "id": "OnSTeCxrn2Un",
        "outputId": "6427e2a4-9abc-4b59-bd90-5962cbead415"
      },
      "execution_count": null,
      "outputs": [
        {
          "output_type": "stream",
          "name": "stdout",
          "text": [
            "Root Mean Squared Error (Test): 3.3989572515434525\n"
          ]
        }
      ]
    },
    {
      "cell_type": "code",
      "source": [
        "import matplotlib.pyplot as plt\n",
        "from sklearn.cluster import KMeans\n",
        "from sklearn.metrics import mean_squared_error\n",
        "import numpy as np\n",
        "from sklearn.linear_model import LinearRegression\n",
        "from sklearn.model_selection import train_test_split\n",
        "from sklearn.metrics import mean_squared_error, r2_score"
      ],
      "metadata": {
        "id": "c25PX7whWedd"
      },
      "execution_count": null,
      "outputs": []
    },
    {
      "cell_type": "markdown",
      "source": [
        "#ACTIVITY 2"
      ],
      "metadata": {
        "id": "unQoLEZvohe6"
      }
    },
    {
      "cell_type": "code",
      "source": [
        "# prompt: use kmeans clustering to group data points into clusters\n",
        "\n",
        "import matplotlib.pyplot as plt\n",
        "from sklearn.cluster import KMeans\n",
        "\n",
        "# Assuming you want to cluster based on 'Hour' and 'WAVE-NE-Speed'\n",
        "X_kmeans = df_car_speed[['Hour', 'WAVE-NE-Speed']]\n",
        "\n",
        "# Choose the number of clusters (k)\n",
        "n_clusters = 2  # You can experiment with different values\n",
        "\n",
        "# Create a KMeans model\n",
        "kmeans = KMeans(n_clusters=n_clusters, random_state=42)\n",
        "\n",
        "# Fit the model to your data\n",
        "kmeans.fit(X_kmeans)\n",
        "\n",
        "# Get the cluster labels for each data point\n",
        "labels = kmeans.labels_\n",
        "\n",
        "# Add the cluster labels to your DataFrame\n",
        "df_car_speed['Cluster'] = labels\n",
        "\n",
        "# You can now analyze the clusters\n",
        "# For example, you can calculate the mean 'WAVE-NE-Speed' for each cluster\n",
        "cluster_means = df_car_speed.groupby('Cluster')['WAVE-NE-Speed'].mean()\n",
        "print(cluster_means)\n",
        "\n",
        "# You can also visualize the clusters using a scatter plot\n",
        "plt.figure(figsize=(10, 6))\n",
        "plt.scatter(df_car_speed['Hour'], df_car_speed['WAVE-NE-Speed'], c=df_car_speed['Cluster'])\n",
        "plt.xlabel('Hour')\n",
        "plt.ylabel('WAVE-NE-Speed')\n",
        "plt.title('KMeans Clustering of WAVE-NE-Speed')\n",
        "plt.show()\n"
      ],
      "metadata": {
        "colab": {
          "base_uri": "https://localhost:8080/",
          "height": 636
        },
        "id": "clpj1cQmoJAH",
        "outputId": "7bbdb445-eecc-4542-d2ac-281291aba6d0"
      },
      "execution_count": null,
      "outputs": [
        {
          "output_type": "stream",
          "name": "stdout",
          "text": [
            "Cluster\n",
            "0    61.779639\n",
            "1    61.798677\n",
            "Name: WAVE-NE-Speed, dtype: float64\n"
          ]
        },
        {
          "output_type": "display_data",
          "data": {
            "text/plain": [
              "<Figure size 1000x600 with 1 Axes>"
            ],
            "image/png": "[encoded data removed]"
          },
          "metadata": {}
        }
      ]
    },
    {
      "cell_type": "markdown",
      "source": [
        "#ACTIVITY 3"
      ],
      "metadata": {
        "id": "PhCOS4MLrOZf"
      }
    },
    {
      "cell_type": "code",
      "source": [
        "# prompt: read the crash excel file into pandas df\n",
        "\n",
        "import pandas as pd\n",
        "# Assuming the file is in your Google Drive, replace 'path/to/your/file.xlsx' with the actual path.\n",
        "df_crash = pd.read_csv('/content/CrashData.csv')\n",
        "\n",
        "# Print the first few rows of the DataFrame to check if it loaded correctly.\n",
        "print(df_crash.head())\n"
      ],
      "metadata": {
        "colab": {
          "base_uri": "https://localhost:8080/"
        },
        "id": "ipfsczj1otcq",
        "outputId": "7f536a61-8ecd-44d6-9149-73d56166e12d"
      },
      "execution_count": null,
      "outputs": [
        {
          "output_type": "stream",
          "name": "stderr",
          "text": [
            "<ipython-input-4-1862f9952a3f>:5: DtypeWarning: Columns (5,27,68,94,102,104,106,108,114,116,118,136,138,200,201,202,203,217,219,221,223,225,234,236,238,240,242,244,246,248,250,252) have mixed types. Specify dtype option on import or set low_memory=False.\n",
            "  df_crash = pd.read_csv('/content/CrashData.csv')\n"
          ]
        },
        {
          "output_type": "stream",
          "name": "stdout",
          "text": [
            "   STATE STATENAME  ST_CASE  VEH_NO_x  DAMAGE      DAMAGENAME  PEDS  \\\n",
            "0     19      Iowa   190001         1    11.0  11 Clock Value     0   \n",
            "1     19      Iowa   190001         1    11.0  11 Clock Value     0   \n",
            "2     19      Iowa   190001         1    11.0  11 Clock Value     0   \n",
            "3     19      Iowa   190001         1    11.0  11 Clock Value     0   \n",
            "4     19      Iowa   190001         1    13.0             Top     0   \n",
            "\n",
            "   PERNOTMVIT  VE_TOTAL  VE_FORMS_x  ...  DRUGRES3  DRUGRES3NAME  P_SF1  \\\n",
            "0           0         1           1  ...       NaN           NaN    NaN   \n",
            "1           0         1           1  ...       NaN           NaN    NaN   \n",
            "2           0         1           1  ...       NaN           NaN    NaN   \n",
            "3           0         1           1  ...       NaN           NaN    NaN   \n",
            "4           0         1           1  ...       NaN           NaN    NaN   \n",
            "\n",
            "   P_SF1NAME P_SF2  P_SF2NAME P_SF3  P_SF3NAME RACE  RACENAME  \n",
            "0        NaN   NaN        NaN   NaN        NaN  NaN       NaN  \n",
            "1        NaN   NaN        NaN   NaN        NaN  NaN       NaN  \n",
            "2        NaN   NaN        NaN   NaN        NaN  NaN       NaN  \n",
            "3        NaN   NaN        NaN   NaN        NaN  NaN       NaN  \n",
            "4        NaN   NaN        NaN   NaN        NaN  NaN       NaN  \n",
            "\n",
            "[5 rows x 253 columns]\n"
          ]
        }
      ]
    },
    {
      "cell_type": "code",
      "source": [
        "# prompt: remove the NaN columns\n",
        "\n",
        "# Drop columns with all NaN values\n",
        "df_crash = df_crash.dropna(axis=1, how='all')\n",
        "\n",
        "# Print the DataFrame to verify the changes\n",
        "print(df_crash.head())\n"
      ],
      "metadata": {
        "colab": {
          "base_uri": "https://localhost:8080/"
        },
        "id": "2Xh7qD5grii2",
        "outputId": "3bdb3554-cd17-4b0c-c455-830f1f0977b5"
      },
      "execution_count": null,
      "outputs": [
        {
          "output_type": "stream",
          "name": "stdout",
          "text": [
            "         Date   DOT Case # Agency Case #  City County  \\\n",
            "0  08/01/2024  20241436054      24002750  Ames  Story   \n",
            "1  08/01/2024  20241435378      24002751  Ames  Story   \n",
            "2  08/02/2024  20241435839      24002760  Ames  Story   \n",
            "3  08/02/2024  20241436408      24002762  Ames  Story   \n",
            "4  08/04/2024  20241435605      24002790  Ames  Story   \n",
            "\n",
            "                         Severity  \\\n",
            "0            Property Damage Only   \n",
            "1  Suspected Serious Injury Crash   \n",
            "2   Possible/Unknown Injury Crash   \n",
            "3            Property Damage Only   \n",
            "4            Property Damage Only   \n",
            "\n",
            "                                 Literal Description  \n",
            "0  US 69 S                                       ...  \n",
            "1  VALLEY VIEW RD AND HARRISON RD                ...  \n",
            "2  24TH ST                                       ...  \n",
            "3  ONTARIO ST                                    ...  \n",
            "4  SE 16TH ST                                    ...  \n"
          ]
        }
      ]
    },
    {
      "cell_type": "code",
      "source": [
        "# prompt: get only the column names\n",
        "\n",
        "column_names = df_crash.columns.tolist()\n",
        "print(column_names)\n"
      ],
      "metadata": {
        "colab": {
          "base_uri": "https://localhost:8080/"
        },
        "id": "caKI-wshsDtD",
        "outputId": "5b42dd5e-9c8b-484f-eeec-d427156cc923"
      },
      "execution_count": null,
      "outputs": [
        {
          "output_type": "stream",
          "name": "stdout",
          "text": [
            "['STATE', 'STATENAME', 'ST_CASE', 'VEH_NO_x', 'DAMAGE', 'DAMAGENAME', 'PEDS', 'PERNOTMVIT', 'VE_TOTAL', 'VE_FORMS_x', 'PVH_INVL', 'PERSONS', 'PERMVIT', 'COUNTY_x', 'COUNTYNAME', 'CITY', 'CITYNAME', 'MONTH_x', 'MONTHNAME_x', 'DAY_x', 'DAYNAME_x', 'DAY_WEEK', 'DAY_WEEKNAME', 'YEAR', 'HOUR_x', 'HOURNAME_x', 'MINUTE_x', 'MINUTENAME_x', 'TWAY_ID', 'TWAY_ID2', 'ROUTE', 'ROUTENAME', 'RUR_URB_x', 'RUR_URBNAME_x', 'FUNC_SYS_x', 'FUNC_SYSNAME_x', 'RD_OWNER', 'RD_OWNERNAME', 'NHS', 'NHSNAME', 'SP_JUR', 'SP_JURNAME', 'MILEPT', 'MILEPTNAME', 'LATITUDE', 'LATITUDENAME', 'LONGITUD', 'LONGITUDNAME', 'HARM_EV_x', 'HARM_EVNAME_x', 'MAN_COLL_x', 'MAN_COLLNAME_x', 'RELJCT1', 'RELJCT1NAME', 'RELJCT2', 'RELJCT2NAME', 'TYP_INT', 'TYP_INTNAME', 'REL_ROAD', 'REL_ROADNAME', 'WRK_ZONE', 'WRK_ZONENAME', 'LGT_COND', 'LGT_CONDNAME', 'WEATHER', 'WEATHERNAME', 'SCH_BUS_x', 'SCH_BUSNAME_x', 'RAIL', 'RAILNAME', 'NOT_HOUR', 'NOT_HOURNAME', 'NOT_MIN', 'NOT_MINNAME', 'ARR_HOUR', 'ARR_HOURNAME', 'ARR_MIN', 'ARR_MINNAME', 'HOSP_HR', 'HOSP_HRNAME', 'HOSP_MN', 'HOSP_MNNAME', 'FATALS', 'VEH_NO_y', 'PER_NO', 'VE_FORMS_y', 'COUNTY_y', 'MONTH_y', 'MONTHNAME_y', 'DAY_y', 'DAYNAME_y', 'HOUR_y', 'HOURNAME_y', 'MINUTE_y', 'MINUTENAME_y', 'HARM_EV_y', 'HARM_EVNAME_y', 'MAN_COLL_y', 'MAN_COLLNAME_y', 'SCH_BUS_y', 'SCH_BUSNAME_y', 'MOD_YEAR', 'MOD_YEARNAME', 'VPICMAKE', 'VPICMAKENAME', 'VPICMODEL', 'VPICMODELNAME', 'VPICBODYCLASS', 'VPICBODYCLASSNAME', 'MAKE', 'MAKENAME', 'BODY_TYP', 'BODY_TYPNAME', 'ICFINALBODY', 'ICFINALBODYNAME', 'GVWR_FROM', 'GVWR_FROMNAME', 'GVWR_TO', 'GVWR_TONAME', 'TOW_VEH', 'TOW_VEHNAME', 'AGE', 'AGENAME', 'SEX', 'SEXNAME', 'PER_TYP', 'PER_TYPNAME', 'INJ_SEV', 'INJ_SEVNAME', 'SEAT_POS', 'SEAT_POSNAME', 'REST_USE', 'REST_USENAME', 'REST_MIS', 'REST_MISNAME', 'HELM_USE', 'HELM_USENAME', 'HELM_MIS', 'HELM_MISNAME', 'AIR_BAG', 'AIR_BAGNAME', 'EJECTION', 'EJECTIONNAME', 'EJ_PATH', 'EJ_PATHNAME', 'EXTRICAT', 'EXTRICATNAME', 'DRINKING', 'DRINKINGNAME', 'ALC_STATUS', 'ALC_STATUSNAME', 'ATST_TYP', 'ATST_TYPNAME', 'ALC_RES', 'ALC_RESNAME', 'DRUGS', 'DRUGSNAME', 'DSTATUS', 'DSTATUSNAME', 'HOSPITAL', 'HOSPITALNAME', 'DOA', 'DOANAME', 'DEATH_DA', 'DEATH_DANAME', 'DEATH_MO', 'DEATH_MONAME', 'DEATH_YR', 'DEATH_YRNAME', 'DEATH_HR', 'DEATH_HRNAME', 'DEATH_MN', 'DEATH_MNNAME', 'DEATH_TM', 'DEATH_TMNAME', 'LAG_HRS', 'LAG_HRSNAME', 'LAG_MINS', 'LAG_MINSNAME', 'STR_VEH', 'LOCATION', 'LOCATIONNAME', 'WORK_INJ', 'WORK_INJNAME', 'HISPANIC', 'HISPANICNAME', 'RUR_URB_y', 'RUR_URBNAME_y', 'FUNC_SYS_y', 'FUNC_SYSNAME_y', 'SPEC_USE', 'SPEC_USENAME', 'EMER_USE', 'EMER_USENAME', 'ROLLOVER', 'ROLLOVERNAME', 'IMPACT1', 'IMPACT1NAME', 'FIRE_EXP', 'FIRE_EXPNAME', 'MAK_MOD', 'MAK_MODNAME', 'DEVTYPENAME', 'DEVMOTORNAME', 'DEVTYPE', 'DEVMOTOR', 'EVENTNUM', 'VNUMBER1', 'AOI1', 'AOI1NAME', 'SOE', 'SOENAME', 'VNUMBER2', 'VNUMBER2NAME', 'AOI2', 'AOI2NAME', 'MDAREAS', 'MDAREASNAME', 'WEATHER1', 'WEATHER1NAME', 'WEATHER2', 'WEATHER2NAME', 'CF1', 'CF1NAME', 'CF2', 'CF2NAME', 'CF3', 'CF3NAME', 'DRUNK_DR', 'ALC_DET', 'ALC_DETNAME', 'DRUG_DET', 'DRUG_DETNAME', 'DRUGTST1', 'DRUGTST1NAME', 'DRUGTST2', 'DRUGTST2NAME', 'DRUGTST3', 'DRUGTST3NAME', 'DRUGRES1', 'DRUGRES1NAME', 'DRUGRES2', 'DRUGRES2NAME', 'DRUGRES3', 'DRUGRES3NAME', 'P_SF1', 'P_SF1NAME', 'P_SF2', 'P_SF2NAME', 'P_SF3', 'P_SF3NAME', 'RACE', 'RACENAME']\n"
          ]
        }
      ]
    },
    {
      "cell_type": "code",
      "source": [
        "# prompt: check for the missing information in the dataframe using dataframe.info\n",
        "\n",
        "df_crash.info()\n"
      ],
      "metadata": {
        "colab": {
          "base_uri": "https://localhost:8080/"
        },
        "id": "PrhXUPexsxp6",
        "outputId": "258e2161-794f-4f83-9fd8-a9b17fcb35a3"
      },
      "execution_count": null,
      "outputs": [
        {
          "output_type": "stream",
          "name": "stdout",
          "text": [
            "<class 'pandas.core.frame.DataFrame'>\n",
            "RangeIndex: 36281 entries, 0 to 36280\n",
            "Columns: 253 entries, STATE to RACENAME\n",
            "dtypes: float64(44), int64(94), object(115)\n",
            "memory usage: 70.0+ MB\n"
          ]
        }
      ]
    },
    {
      "cell_type": "code",
      "source": [
        "df_crash.describe()"
      ],
      "metadata": {
        "colab": {
          "base_uri": "https://localhost:8080/",
          "height": 349
        },
        "id": "4zLBEY9tsrKp",
        "outputId": "2e79be22-d91e-47da-8640-d8fe3b663357"
      },
      "execution_count": null,
      "outputs": [
        {
          "output_type": "execute_result",
          "data": {
            "text/plain": [
              "         STATE        ST_CASE      VEH_NO_x        DAMAGE          PEDS  \\\n",
              "count  36281.0   36281.000000  36281.000000  18617.000000  36281.000000   \n",
              "mean      19.0  190121.561561      3.020203      9.509481      0.044486   \n",
              "std        0.0     100.474264      2.939280      8.353906      0.257104   \n",
              "min       19.0  190001.000000      1.000000      1.000000      0.000000   \n",
              "25%       19.0  190019.000000      1.000000      6.000000      0.000000   \n",
              "50%       19.0  190098.000000      2.000000     11.000000      0.000000   \n",
              "75%       19.0  190208.000000      3.000000     12.000000      0.000000   \n",
              "max       19.0  190333.000000     12.000000     99.000000      4.000000   \n",
              "\n",
              "         PERNOTMVIT      VE_TOTAL    VE_FORMS_x      PVH_INVL       PERSONS  \\\n",
              "count  36281.000000  36281.000000  36281.000000  36281.000000  36281.000000   \n",
              "mean       0.052810      4.772526      4.617293      0.155233      6.224222   \n",
              "std        0.283252      4.170953      3.960148      0.384646      4.647696   \n",
              "min        0.000000      1.000000      1.000000      0.000000      0.000000   \n",
              "25%        0.000000      2.000000      2.000000      0.000000      2.000000   \n",
              "50%        0.000000      2.000000      2.000000      0.000000      4.000000   \n",
              "75%        0.000000     10.000000     10.000000      0.000000     11.000000   \n",
              "max        4.000000     12.000000     11.000000      4.000000     16.000000   \n",
              "\n",
              "       ...     DRUGTST1     DRUGTST2     DRUGTST3     DRUGRES1     DRUGRES2  \\\n",
              "count  ...  4192.000000  4192.000000  4192.000000  4192.000000  4192.000000   \n",
              "mean   ...     0.737118     0.034828     0.005725    60.093511    19.769561   \n",
              "std    ...     1.679547     0.200759     0.081536   172.351104   120.995603   \n",
              "min    ...     0.000000     0.000000     0.000000     0.000000     0.000000   \n",
              "25%    ...     0.000000     0.000000     0.000000     0.000000     0.000000   \n",
              "50%    ...     0.000000     0.000000     0.000000     0.000000     0.000000   \n",
              "75%    ...     1.000000     0.000000     0.000000     1.000000     0.000000   \n",
              "max    ...     9.000000     2.000000     2.000000   999.000000   996.000000   \n",
              "\n",
              "          DRUGRES3         P_SF1         P_SF2         P_SF3          RACE  \n",
              "count  4192.000000  17664.000000  17664.000000  17664.000000  10586.000000  \n",
              "mean      3.926765      0.052819      0.033628      0.033628      1.233422  \n",
              "std      55.768586      2.120843      1.824336      1.824336      8.826797  \n",
              "min       0.000000      0.000000      0.000000      0.000000      0.000000  \n",
              "25%       0.000000      0.000000      0.000000      0.000000      0.000000  \n",
              "50%       0.000000      0.000000      0.000000      0.000000      0.000000  \n",
              "75%       0.000000      0.000000      0.000000      0.000000      1.000000  \n",
              "max     996.000000     99.000000     99.000000     99.000000     99.000000  \n",
              "\n",
              "[8 rows x 138 columns]"
            ],
            "text/html": [
              "\n",
              "  <div id=\"df-982b80b4-1eb6-4917-af4c-56578e2c7215\" class=\"colab-df-container\">\n",
              "    <div>\n",
              "<style scoped>\n",
              "    .dataframe tbody tr th:only-of-type {\n",
              "        vertical-align: middle;\n",
              "    }\n",
              "\n",
              "    .dataframe tbody tr th {\n",
              "        vertical-align: top;\n",
              "    }\n",
              "\n",
              "    .dataframe thead th {\n",
              "        text-align: right;\n",
              "    }\n",
              "</style>\n",
              "<table border=\"1\" class=\"dataframe\">\n",
              "  <thead>\n",
              "    <tr style=\"text-align: right;\">\n",
              "      <th></th>\n",
              "      <th>STATE</th>\n",
              "      <th>ST_CASE</th>\n",
              "      <th>VEH_NO_x</th>\n",
              "      <th>DAMAGE</th>\n",
              "      <th>PEDS</th>\n",
              "      <th>PERNOTMVIT</th>\n",
              "      <th>VE_TOTAL</th>\n",
              "      <th>VE_FORMS_x</th>\n",
              "      <th>PVH_INVL</th>\n",
              "      <th>PERSONS</th>\n",
              "      <th>...</th>\n",
              "      <th>DRUGTST1</th>\n",
              "      <th>DRUGTST2</th>\n",
              "      <th>DRUGTST3</th>\n",
              "      <th>DRUGRES1</th>\n",
              "      <th>DRUGRES2</th>\n",
              "      <th>DRUGRES3</th>\n",
              "      <th>P_SF1</th>\n",
              "      <th>P_SF2</th>\n",
              "      <th>P_SF3</th>\n",
              "      <th>RACE</th>\n",
              "    </tr>\n",
              "  </thead>\n",
              "  <tbody>\n",
              "    <tr>\n",
              "      <th>count</th>\n",
              "      <td>36281.0</td>\n",
              "      <td>36281.000000</td>\n",
              "      <td>36281.000000</td>\n",
              "      <td>18617.000000</td>\n",
              "      <td>36281.000000</td>\n",
              "      <td>36281.000000</td>\n",
              "      <td>36281.000000</td>\n",
              "      <td>36281.000000</td>\n",
              "      <td>36281.000000</td>\n",
              "      <td>36281.000000</td>\n",
              "      <td>...</td>\n",
              "      <td>4192.000000</td>\n",
              "      <td>4192.000000</td>\n",
              "      <td>4192.000000</td>\n",
              "      <td>4192.000000</td>\n",
              "      <td>4192.000000</td>\n",
              "      <td>4192.000000</td>\n",
              "      <td>17664.000000</td>\n",
              "      <td>17664.000000</td>\n",
              "      <td>17664.000000</td>\n",
              "      <td>10586.000000</td>\n",
              "    </tr>\n",
              "    <tr>\n",
              "      <th>mean</th>\n",
              "      <td>19.0</td>\n",
              "      <td>190121.561561</td>\n",
              "      <td>3.020203</td>\n",
              "      <td>9.509481</td>\n",
              "      <td>0.044486</td>\n",
              "      <td>0.052810</td>\n",
              "      <td>4.772526</td>\n",
              "      <td>4.617293</td>\n",
              "      <td>0.155233</td>\n",
              "      <td>6.224222</td>\n",
              "      <td>...</td>\n",
              "      <td>0.737118</td>\n",
              "      <td>0.034828</td>\n",
              "      <td>0.005725</td>\n",
              "      <td>60.093511</td>\n",
              "      <td>19.769561</td>\n",
              "      <td>3.926765</td>\n",
              "      <td>0.052819</td>\n",
              "      <td>0.033628</td>\n",
              "      <td>0.033628</td>\n",
              "      <td>1.233422</td>\n",
              "    </tr>\n",
              "    <tr>\n",
              "      <th>std</th>\n",
              "      <td>0.0</td>\n",
              "      <td>100.474264</td>\n",
              "      <td>2.939280</td>\n",
              "      <td>8.353906</td>\n",
              "      <td>0.257104</td>\n",
              "      <td>0.283252</td>\n",
              "      <td>4.170953</td>\n",
              "      <td>3.960148</td>\n",
              "      <td>0.384646</td>\n",
              "      <td>4.647696</td>\n",
              "      <td>...</td>\n",
              "      <td>1.679547</td>\n",
              "      <td>0.200759</td>\n",
              "      <td>0.081536</td>\n",
              "      <td>172.351104</td>\n",
              "      <td>120.995603</td>\n",
              "      <td>55.768586</td>\n",
              "      <td>2.120843</td>\n",
              "      <td>1.824336</td>\n",
              "      <td>1.824336</td>\n",
              "      <td>8.826797</td>\n",
              "    </tr>\n",
              "    <tr>\n",
              "      <th>min</th>\n",
              "      <td>19.0</td>\n",
              "      <td>190001.000000</td>\n",
              "      <td>1.000000</td>\n",
              "      <td>1.000000</td>\n",
              "      <td>0.000000</td>\n",
              "      <td>0.000000</td>\n",
              "      <td>1.000000</td>\n",
              "      <td>1.000000</td>\n",
              "      <td>0.000000</td>\n",
              "      <td>0.000000</td>\n",
              "      <td>...</td>\n",
              "      <td>0.000000</td>\n",
              "      <td>0.000000</td>\n",
              "      <td>0.000000</td>\n",
              "      <td>0.000000</td>\n",
              "      <td>0.000000</td>\n",
              "      <td>0.000000</td>\n",
              "      <td>0.000000</td>\n",
              "      <td>0.000000</td>\n",
              "      <td>0.000000</td>\n",
              "      <td>0.000000</td>\n",
              "    </tr>\n",
              "    <tr>\n",
              "      <th>25%</th>\n",
              "      <td>19.0</td>\n",
              "      <td>190019.000000</td>\n",
              "      <td>1.000000</td>\n",
              "      <td>6.000000</td>\n",
              "      <td>0.000000</td>\n",
              "      <td>0.000000</td>\n",
              "      <td>2.000000</td>\n",
              "      <td>2.000000</td>\n",
              "      <td>0.000000</td>\n",
              "      <td>2.000000</td>\n",
              "      <td>...</td>\n",
              "      <td>0.000000</td>\n",
              "      <td>0.000000</td>\n",
              "      <td>0.000000</td>\n",
              "      <td>0.000000</td>\n",
              "      <td>0.000000</td>\n",
              "      <td>0.000000</td>\n",
              "      <td>0.000000</td>\n",
              "      <td>0.000000</td>\n",
              "      <td>0.000000</td>\n",
              "      <td>0.000000</td>\n",
              "    </tr>\n",
              "    <tr>\n",
              "      <th>50%</th>\n",
              "      <td>19.0</td>\n",
              "      <td>190098.000000</td>\n",
              "      <td>2.000000</td>\n",
              "      <td>11.000000</td>\n",
              "      <td>0.000000</td>\n",
              "      <td>0.000000</td>\n",
              "      <td>2.000000</td>\n",
              "      <td>2.000000</td>\n",
              "      <td>0.000000</td>\n",
              "      <td>4.000000</td>\n",
              "      <td>...</td>\n",
              "      <td>0.000000</td>\n",
              "      <td>0.000000</td>\n",
              "      <td>0.000000</td>\n",
              "      <td>0.000000</td>\n",
              "      <td>0.000000</td>\n",
              "      <td>0.000000</td>\n",
              "      <td>0.000000</td>\n",
              "      <td>0.000000</td>\n",
              "      <td>0.000000</td>\n",
              "      <td>0.000000</td>\n",
              "    </tr>\n",
              "    <tr>\n",
              "      <th>75%</th>\n",
              "      <td>19.0</td>\n",
              "      <td>190208.000000</td>\n",
              "      <td>3.000000</td>\n",
              "      <td>12.000000</td>\n",
              "      <td>0.000000</td>\n",
              "      <td>0.000000</td>\n",
              "      <td>10.000000</td>\n",
              "      <td>10.000000</td>\n",
              "      <td>0.000000</td>\n",
              "      <td>11.000000</td>\n",
              "      <td>...</td>\n",
              "      <td>1.000000</td>\n",
              "      <td>0.000000</td>\n",
              "      <td>0.000000</td>\n",
              "      <td>1.000000</td>\n",
              "      <td>0.000000</td>\n",
              "      <td>0.000000</td>\n",
              "      <td>0.000000</td>\n",
              "      <td>0.000000</td>\n",
              "      <td>0.000000</td>\n",
              "      <td>1.000000</td>\n",
              "    </tr>\n",
              "    <tr>\n",
              "      <th>max</th>\n",
              "      <td>19.0</td>\n",
              "      <td>190333.000000</td>\n",
              "      <td>12.000000</td>\n",
              "      <td>99.000000</td>\n",
              "      <td>4.000000</td>\n",
              "      <td>4.000000</td>\n",
              "      <td>12.000000</td>\n",
              "      <td>11.000000</td>\n",
              "      <td>4.000000</td>\n",
              "      <td>16.000000</td>\n",
              "      <td>...</td>\n",
              "      <td>9.000000</td>\n",
              "      <td>2.000000</td>\n",
              "      <td>2.000000</td>\n",
              "      <td>999.000000</td>\n",
              "      <td>996.000000</td>\n",
              "      <td>996.000000</td>\n",
              "      <td>99.000000</td>\n",
              "      <td>99.000000</td>\n",
              "      <td>99.000000</td>\n",
              "      <td>99.000000</td>\n",
              "    </tr>\n",
              "  </tbody>\n",
              "</table>\n",
              "<p>8 rows × 138 columns</p>\n",
              "</div>\n",
              "    <div class=\"colab-df-buttons\">\n",
              "\n",
              "  <div class=\"colab-df-container\">\n",
              "    <button class=\"colab-df-convert\" onclick=\"convertToInteractive('df-982b80b4-1eb6-4917-af4c-56578e2c7215')\"\n",
              "            title=\"Convert this dataframe to an interactive table.\"\n",
              "            style=\"display:none;\">\n",
              "\n",
              "  <svg xmlns=\"http://www.w3.org/2000/svg\" height=\"24px\" viewBox=\"0 -960 960 960\">\n",
              "    <path d=\"M120-120v-720h720v720H120Zm60-500h600v-160H180v160Zm220 220h160v-160H400v160Zm0 220h160v-160H400v160ZM180-400h160v-160H180v160Zm440 0h160v-160H620v160ZM180-180h160v-160H180v160Zm440 0h160v-160H620v160Z\"/>\n",
              "  </svg>\n",
              "    </button>\n",
              "\n",
              "  <style>\n",
              "    .colab-df-container {\n",
              "      display:flex;\n",
              "      gap: 12px;\n",
              "    }\n",
              "\n",
              "    .colab-df-convert {\n",
              "      background-color: #E8F0FE;\n",
              "      border: none;\n",
              "      border-radius: 50%;\n",
              "      cursor: pointer;\n",
              "      display: none;\n",
              "      fill: #1967D2;\n",
              "      height: 32px;\n",
              "      padding: 0 0 0 0;\n",
              "      width: 32px;\n",
              "    }\n",
              "\n",
              "    .colab-df-convert:hover {\n",
              "      background-color: #E2EBFA;\n",
              "      box-shadow: 0px 1px 2px rgba(60, 64, 67, 0.3), 0px 1px 3px 1px rgba(60, 64, 67, 0.15);\n",
              "      fill: #174EA6;\n",
              "    }\n",
              "\n",
              "    .colab-df-buttons div {\n",
              "      margin-bottom: 4px;\n",
              "    }\n",
              "\n",
              "    [theme=dark] .colab-df-convert {\n",
              "      background-color: #3B4455;\n",
              "      fill: #D2E3FC;\n",
              "    }\n",
              "\n",
              "    [theme=dark] .colab-df-convert:hover {\n",
              "      background-color: #434B5C;\n",
              "      box-shadow: 0px 1px 3px 1px rgba(0, 0, 0, 0.15);\n",
              "      filter: drop-shadow(0px 1px 2px rgba(0, 0, 0, 0.3));\n",
              "      fill: #FFFFFF;\n",
              "    }\n",
              "  </style>\n",
              "\n",
              "    <script>\n",
              "      const buttonEl =\n",
              "        document.querySelector('#df-982b80b4-1eb6-4917-af4c-56578e2c7215 button.colab-df-convert');\n",
              "      buttonEl.style.display =\n",
              "        google.colab.kernel.accessAllowed ? 'block' : 'none';\n",
              "\n",
              "      async function convertToInteractive(key) {\n",
              "        const element = document.querySelector('#df-982b80b4-1eb6-4917-af4c-56578e2c7215');\n",
              "        const dataTable =\n",
              "          await google.colab.kernel.invokeFunction('convertToInteractive',\n",
              "                                                    [key], {});\n",
              "        if (!dataTable) return;\n",
              "\n",
              "        const docLinkHtml = 'Like what you see? Visit the ' +\n",
              "          '<a target=\"_blank\" href=https://colab.research.google.com/notebooks/data_table.ipynb>data table notebook</a>'\n",
              "          + ' to learn more about interactive tables.';\n",
              "        element.innerHTML = '';\n",
              "        dataTable['output_type'] = 'display_data';\n",
              "        await google.colab.output.renderOutput(dataTable, element);\n",
              "        const docLink = document.createElement('div');\n",
              "        docLink.innerHTML = docLinkHtml;\n",
              "        element.appendChild(docLink);\n",
              "      }\n",
              "    </script>\n",
              "  </div>\n",
              "\n",
              "\n",
              "<div id=\"df-8b602498-bb68-4cc3-bbc6-7b9137f88122\">\n",
              "  <button class=\"colab-df-quickchart\" onclick=\"quickchart('df-8b602498-bb68-4cc3-bbc6-7b9137f88122')\"\n",
              "            title=\"Suggest charts\"\n",
              "            style=\"display:none;\">\n",
              "\n",
              "<svg xmlns=\"http://www.w3.org/2000/svg\" height=\"24px\"viewBox=\"0 0 24 24\"\n",
              "     width=\"24px\">\n",
              "    <g>\n",
              "        <path d=\"M19 3H5c-1.1 0-2 .9-2 2v14c0 1.1.9 2 2 2h14c1.1 0 2-.9 2-2V5c0-1.1-.9-2-2-2zM9 17H7v-7h2v7zm4 0h-2V7h2v10zm4 0h-2v-4h2v4z\"/>\n",
              "    </g>\n",
              "</svg>\n",
              "  </button>\n",
              "\n",
              "<style>\n",
              "  .colab-df-quickchart {\n",
              "      --bg-color: #E8F0FE;\n",
              "      --fill-color: #1967D2;\n",
              "      --hover-bg-color: #E2EBFA;\n",
              "      --hover-fill-color: #174EA6;\n",
              "      --disabled-fill-color: #AAA;\n",
              "      --disabled-bg-color: #DDD;\n",
              "  }\n",
              "\n",
              "  [theme=dark] .colab-df-quickchart {\n",
              "      --bg-color: #3B4455;\n",
              "      --fill-color: #D2E3FC;\n",
              "      --hover-bg-color: #434B5C;\n",
              "      --hover-fill-color: #FFFFFF;\n",
              "      --disabled-bg-color: #3B4455;\n",
              "      --disabled-fill-color: #666;\n",
              "  }\n",
              "\n",
              "  .colab-df-quickchart {\n",
              "    background-color: var(--bg-color);\n",
              "    border: none;\n",
              "    border-radius: 50%;\n",
              "    cursor: pointer;\n",
              "    display: none;\n",
              "    fill: var(--fill-color);\n",
              "    height: 32px;\n",
              "    padding: 0;\n",
              "    width: 32px;\n",
              "  }\n",
              "\n",
              "  .colab-df-quickchart:hover {\n",
              "    background-color: var(--hover-bg-color);\n",
              "    box-shadow: 0 1px 2px rgba(60, 64, 67, 0.3), 0 1px 3px 1px rgba(60, 64, 67, 0.15);\n",
              "    fill: var(--button-hover-fill-color);\n",
              "  }\n",
              "\n",
              "  .colab-df-quickchart-complete:disabled,\n",
              "  .colab-df-quickchart-complete:disabled:hover {\n",
              "    background-color: var(--disabled-bg-color);\n",
              "    fill: var(--disabled-fill-color);\n",
              "    box-shadow: none;\n",
              "  }\n",
              "\n",
              "  .colab-df-spinner {\n",
              "    border: 2px solid var(--fill-color);\n",
              "    border-color: transparent;\n",
              "    border-bottom-color: var(--fill-color);\n",
              "    animation:\n",
              "      spin 1s steps(1) infinite;\n",
              "  }\n",
              "\n",
              "  @keyframes spin {\n",
              "    0% {\n",
              "      border-color: transparent;\n",
              "      border-bottom-color: var(--fill-color);\n",
              "      border-left-color: var(--fill-color);\n",
              "    }\n",
              "    20% {\n",
              "      border-color: transparent;\n",
              "      border-left-color: var(--fill-color);\n",
              "      border-top-color: var(--fill-color);\n",
              "    }\n",
              "    30% {\n",
              "      border-color: transparent;\n",
              "      border-left-color: var(--fill-color);\n",
              "      border-top-color: var(--fill-color);\n",
              "      border-right-color: var(--fill-color);\n",
              "    }\n",
              "    40% {\n",
              "      border-color: transparent;\n",
              "      border-right-color: var(--fill-color);\n",
              "      border-top-color: var(--fill-color);\n",
              "    }\n",
              "    60% {\n",
              "      border-color: transparent;\n",
              "      border-right-color: var(--fill-color);\n",
              "    }\n",
              "    80% {\n",
              "      border-color: transparent;\n",
              "      border-right-color: var(--fill-color);\n",
              "      border-bottom-color: var(--fill-color);\n",
              "    }\n",
              "    90% {\n",
              "      border-color: transparent;\n",
              "      border-bottom-color: var(--fill-color);\n",
              "    }\n",
              "  }\n",
              "</style>\n",
              "\n",
              "  <script>\n",
              "    async function quickchart(key) {\n",
              "      const quickchartButtonEl =\n",
              "        document.querySelector('#' + key + ' button');\n",
              "      quickchartButtonEl.disabled = true;  // To prevent multiple clicks.\n",
              "      quickchartButtonEl.classList.add('colab-df-spinner');\n",
              "      try {\n",
              "        const charts = await google.colab.kernel.invokeFunction(\n",
              "            'suggestCharts', [key], {});\n",
              "      } catch (error) {\n",
              "        console.error('Error during call to suggestCharts:', error);\n",
              "      }\n",
              "      quickchartButtonEl.classList.remove('colab-df-spinner');\n",
              "      quickchartButtonEl.classList.add('colab-df-quickchart-complete');\n",
              "    }\n",
              "    (() => {\n",
              "      let quickchartButtonEl =\n",
              "        document.querySelector('#df-8b602498-bb68-4cc3-bbc6-7b9137f88122 button');\n",
              "      quickchartButtonEl.style.display =\n",
              "        google.colab.kernel.accessAllowed ? 'block' : 'none';\n",
              "    })();\n",
              "  </script>\n",
              "</div>\n",
              "\n",
              "    </div>\n",
              "  </div>\n"
            ],
            "application/vnd.google.colaboratory.intrinsic+json": {
              "type": "dataframe"
            }
          },
          "metadata": {},
          "execution_count": 7
        }
      ]
    },
    {
      "cell_type": "code",
      "source": [
        "# prompt: convert the date column into utc timestamp\n",
        "\n",
        "import pandas as pd\n",
        "# Assuming your date column is named 'Date'\n",
        "# Convert the 'Date' column to datetime objects\n",
        "df_crash['Date'] = pd.to_datetime(df_crash['Date'])\n",
        "\n",
        "# Convert datetime objects to UTC timestamps (in seconds since the epoch)\n",
        "df_crash['UTC_Timestamp'] = df_crash['Date'].astype('int64') // 10**9\n",
        "\n",
        "# Print the DataFrame to verify the new 'UTC_Timestamp' column\n",
        "print(df_crash.head())\n"
      ],
      "metadata": {
        "colab": {
          "base_uri": "https://localhost:8080/"
        },
        "id": "b03ppburuQwB",
        "outputId": "160763ea-3e2f-4e3a-9fa9-aff4ab34b2e5"
      },
      "execution_count": null,
      "outputs": [
        {
          "output_type": "stream",
          "name": "stdout",
          "text": [
            "        Date   DOT Case # Agency Case #  City County  \\\n",
            "0 2024-08-01  20241436054      24002750  Ames  Story   \n",
            "1 2024-08-01  20241435378      24002751  Ames  Story   \n",
            "2 2024-08-02  20241435839      24002760  Ames  Story   \n",
            "3 2024-08-02  20241436408      24002762  Ames  Story   \n",
            "4 2024-08-04  20241435605      24002790  Ames  Story   \n",
            "\n",
            "                         Severity  \\\n",
            "0            Property Damage Only   \n",
            "1  Suspected Serious Injury Crash   \n",
            "2   Possible/Unknown Injury Crash   \n",
            "3            Property Damage Only   \n",
            "4            Property Damage Only   \n",
            "\n",
            "                                 Literal Description  UTC_Timestamp  \n",
            "0  US 69 S                                       ...     1722470400  \n",
            "1  VALLEY VIEW RD AND HARRISON RD                ...     1722470400  \n",
            "2  24TH ST                                       ...     1722556800  \n",
            "3  ONTARIO ST                                    ...     1722556800  \n",
            "4  SE 16TH ST                                    ...     1722729600  \n"
          ]
        }
      ]
    },
    {
      "cell_type": "code",
      "source": [
        "# prompt: create a new column named severity level and convert all Property Damage Only into 1 and so on\n",
        "\n",
        "# Create a dictionary to map severity descriptions to numerical levels\n",
        "severity_mapping = {\n",
        "    'Property Damage Only': 1,\n",
        "    'Suspected Serious Injury Crash': 2,\n",
        "    'Possible/Unknown Injury Crash': 3,\n",
        "    'Suspected Minor Injury Crash': 4\n",
        "}\n",
        "\n",
        "# Create the new 'Severity Level' column using the mapping\n",
        "df_crash['Severity Level'] = df_crash['Severity'].map(severity_mapping)\n",
        "\n",
        "# Print the DataFrame to verify the new column\n",
        "print(df_crash.head())"
      ],
      "metadata": {
        "colab": {
          "base_uri": "https://localhost:8080/"
        },
        "id": "lKfBRUaFxqc0",
        "outputId": "3c0022c0-a775-442f-aeef-fcc1f2e280a8"
      },
      "execution_count": null,
      "outputs": [
        {
          "output_type": "stream",
          "name": "stdout",
          "text": [
            "        Date   DOT Case # Agency Case #  City County  \\\n",
            "0 2024-08-01  20241436054      24002750  Ames  Story   \n",
            "1 2024-08-01  20241435378      24002751  Ames  Story   \n",
            "2 2024-08-02  20241435839      24002760  Ames  Story   \n",
            "3 2024-08-02  20241436408      24002762  Ames  Story   \n",
            "4 2024-08-04  20241435605      24002790  Ames  Story   \n",
            "\n",
            "                         Severity  \\\n",
            "0            Property Damage Only   \n",
            "1  Suspected Serious Injury Crash   \n",
            "2   Possible/Unknown Injury Crash   \n",
            "3            Property Damage Only   \n",
            "4            Property Damage Only   \n",
            "\n",
            "                                 Literal Description  UTC_Timestamp  \\\n",
            "0  US 69 S                                       ...     1722470400   \n",
            "1  VALLEY VIEW RD AND HARRISON RD                ...     1722470400   \n",
            "2  24TH ST                                       ...     1722556800   \n",
            "3  ONTARIO ST                                    ...     1722556800   \n",
            "4  SE 16TH ST                                    ...     1722729600   \n",
            "\n",
            "   Severity Level  \n",
            "0               1  \n",
            "1               2  \n",
            "2               3  \n",
            "3               1  \n",
            "4               1  \n"
          ]
        }
      ]
    },
    {
      "cell_type": "code",
      "source": [
        "# prompt: copy only hours age and body type column and drop everything else\n",
        "\n",
        "# Create a new DataFrame with only the specified columns\n",
        "df_crash_subset = df_crash[['Hour', 'Age', 'Body Type']].copy()\n",
        "\n",
        "# Print the new DataFrame\n",
        "print(df_crash_subset.head())\n"
      ],
      "metadata": {
        "id": "uQHsduFfW-s0"
      },
      "execution_count": null,
      "outputs": []
    },
    {
      "cell_type": "code",
      "source": [
        "# prompt: split the data into features containing all columns except severity and date\n",
        "\n",
        "# Create a copy of the DataFrame to avoid modifying the original\n",
        "df_crash_copy = df_crash.copy()\n",
        "\n",
        "# Define the features (X) and target variable (y)\n",
        "X = df_crash_copy[['HOUR_x', 'AGE','BODY_TYP']].copy()  # Drop 'Severity' and 'Date' columns for features\n",
        "y = df_crash_copy['INJ_SEV']  # Use 'Severity' as the target variable\n",
        "\n",
        "# print(X.head())\n",
        "print(y.head())\n"
      ],
      "metadata": {
        "colab": {
          "base_uri": "https://localhost:8080/"
        },
        "id": "zbhqC2tvs-cn",
        "outputId": "1ce4a856-28f9-4360-e4e0-2a3ee658d1e0"
      },
      "execution_count": null,
      "outputs": [
        {
          "output_type": "stream",
          "name": "stdout",
          "text": [
            "0    4\n",
            "1    4\n",
            "2    4\n",
            "3    4\n",
            "4    4\n",
            "Name: INJ_SEV, dtype: int64\n"
          ]
        }
      ]
    },
    {
      "cell_type": "code",
      "source": [
        "print(X)"
      ],
      "metadata": {
        "colab": {
          "base_uri": "https://localhost:8080/"
        },
        "id": "ZNEy7nhKW0v4",
        "outputId": "f3951f53-c1ae-4634-cd6f-92cfc82d031c"
      },
      "execution_count": null,
      "outputs": [
        {
          "output_type": "stream",
          "name": "stdout",
          "text": [
            "       HOUR_x  AGE  BODY_TYP\n",
            "0          23   47       4.0\n",
            "1          23   47       4.0\n",
            "2          23   47       4.0\n",
            "3          23   47       4.0\n",
            "4          23   47       4.0\n",
            "...       ...  ...       ...\n",
            "36276      23   20       4.0\n",
            "36277      23   20       4.0\n",
            "36278      22   28      80.0\n",
            "36279      15   52       4.0\n",
            "36280      15   52       4.0\n",
            "\n",
            "[36281 rows x 3 columns]\n"
          ]
        }
      ]
    },
    {
      "cell_type": "code",
      "source": [
        "# prompt: get a unique value of column Severity\n",
        "\n",
        "unique_severity = df_crash['Severity'].unique()\n",
        "print(unique_severity)\n"
      ],
      "metadata": {
        "colab": {
          "base_uri": "https://localhost:8080/"
        },
        "id": "hu2zi4Mtw4y_",
        "outputId": "a4bc3c1f-3c9b-420f-9656-81125859de24"
      },
      "execution_count": null,
      "outputs": [
        {
          "output_type": "stream",
          "name": "stdout",
          "text": [
            "['Property Damage Only' 'Suspected Serious Injury Crash'\n",
            " 'Possible/Unknown Injury Crash' 'Suspected Minor Injury Crash']\n"
          ]
        }
      ]
    },
    {
      "cell_type": "markdown",
      "source": [
        "Property Damage Only - 1\n",
        "\n",
        "Suspected Serious Injury Crash - 2\n",
        "\n",
        "Possible/Unknown Injury Crash - 3\n",
        "\n",
        "Suspected Minor Injury Crash - 4\n"
      ],
      "metadata": {
        "id": "SpkEAzVXxF6F"
      }
    },
    {
      "cell_type": "code",
      "source": [
        "\n"
      ],
      "metadata": {
        "colab": {
          "base_uri": "https://localhost:8080/"
        },
        "id": "TSHVg7j_xWDm",
        "outputId": "ca83b58c-a562-41e6-c1b2-361d5a7511de"
      },
      "execution_count": null,
      "outputs": [
        {
          "output_type": "stream",
          "name": "stdout",
          "text": [
            "        Date   DOT Case # Agency Case #  City County  \\\n",
            "0 2024-08-01  20241436054      24002750  Ames  Story   \n",
            "1 2024-08-01  20241435378      24002751  Ames  Story   \n",
            "2 2024-08-02  20241435839      24002760  Ames  Story   \n",
            "3 2024-08-02  20241436408      24002762  Ames  Story   \n",
            "4 2024-08-04  20241435605      24002790  Ames  Story   \n",
            "\n",
            "                         Severity  \\\n",
            "0            Property Damage Only   \n",
            "1  Suspected Serious Injury Crash   \n",
            "2   Possible/Unknown Injury Crash   \n",
            "3            Property Damage Only   \n",
            "4            Property Damage Only   \n",
            "\n",
            "                                 Literal Description  UTC_Timestamp  \\\n",
            "0  US 69 S                                       ...     1722470400   \n",
            "1  VALLEY VIEW RD AND HARRISON RD                ...     1722470400   \n",
            "2  24TH ST                                       ...     1722556800   \n",
            "3  ONTARIO ST                                    ...     1722556800   \n",
            "4  SE 16TH ST                                    ...     1722729600   \n",
            "\n",
            "   Severity Level  \n",
            "0               1  \n",
            "1               2  \n",
            "2               3  \n",
            "3               1  \n",
            "4               1  \n"
          ]
        }
      ]
    },
    {
      "cell_type": "code",
      "source": [
        "X.info()\n"
      ],
      "metadata": {
        "colab": {
          "base_uri": "https://localhost:8080/"
        },
        "id": "8W6C4tIlvWRD",
        "outputId": "787573fc-ba77-4346-e6a7-ce1758d6ef83"
      },
      "execution_count": null,
      "outputs": [
        {
          "output_type": "stream",
          "name": "stdout",
          "text": [
            "<class 'pandas.core.frame.DataFrame'>\n",
            "RangeIndex: 36281 entries, 0 to 36280\n",
            "Columns: 250 entries, STATE to RACENAME\n",
            "dtypes: float64(43), int64(92), object(115)\n",
            "memory usage: 69.2+ MB\n"
          ]
        }
      ]
    },
    {
      "cell_type": "code",
      "source": [
        "# prompt: split the x and y into training and testing\n",
        "\n",
        "X_train, X_test, y_train, y_test = train_test_split(X, y, test_size=0.2, random_state=42)\n"
      ],
      "metadata": {
        "id": "1Kfx0Tp_toT9"
      },
      "execution_count": null,
      "outputs": []
    },
    {
      "cell_type": "code",
      "source": [
        "# prompt: Import RandomForestClassifier from sklearn.ensemble\n",
        "\n",
        "from sklearn.ensemble import RandomForestClassifier\n"
      ],
      "metadata": {
        "id": "-ExKT1kIt039"
      },
      "execution_count": null,
      "outputs": []
    },
    {
      "cell_type": "code",
      "source": [
        "print(y_train)"
      ],
      "metadata": {
        "id": "MOLRMSLJyycb",
        "colab": {
          "base_uri": "https://localhost:8080/"
        },
        "outputId": "736656ff-eb35-4d9d-dde8-e6153a83c6c6"
      },
      "execution_count": null,
      "outputs": [
        {
          "output_type": "stream",
          "name": "stdout",
          "text": [
            "12338    4\n",
            "34733    3\n",
            "32107    4\n",
            "27224    0\n",
            "27647    1\n",
            "        ..\n",
            "16850    3\n",
            "6265     0\n",
            "11284    0\n",
            "860      0\n",
            "15795    4\n",
            "Name: INJ_SEV, Length: 29024, dtype: int64\n"
          ]
        }
      ]
    },
    {
      "cell_type": "code",
      "source": [
        "# prompt: Create a Random Forest model with n_estimators=100\n",
        "\n",
        "# Create a Random Forest Classifier model\n",
        "rf_model = RandomForestClassifier(n_estimators=100, random_state=42)\n",
        "\n",
        "# Train the model\n",
        "rf_model.fit(X_train, y_train)\n"
      ],
      "metadata": {
        "colab": {
          "base_uri": "https://localhost:8080/",
          "height": 80
        },
        "id": "DL0V5djGuAuV",
        "outputId": "1045909b-e6de-4a9a-d6cf-40c109ab26cc"
      },
      "execution_count": null,
      "outputs": [
        {
          "output_type": "execute_result",
          "data": {
            "text/plain": [
              "RandomForestClassifier(random_state=42)"
            ],
            "text/html": [
              "<style>#sk-container-id-1 {\n",
              "  /* Definition of color scheme common for light and dark mode */\n",
              "  --sklearn-color-text: black;\n",
              "  --sklearn-color-line: gray;\n",
              "  /* Definition of color scheme for unfitted estimators */\n",
              "  --sklearn-color-unfitted-level-0: #fff5e6;\n",
              "  --sklearn-color-unfitted-level-1: #f6e4d2;\n",
              "  --sklearn-color-unfitted-level-2: #ffe0b3;\n",
              "  --sklearn-color-unfitted-level-3: chocolate;\n",
              "  /* Definition of color scheme for fitted estimators */\n",
              "  --sklearn-color-fitted-level-0: #f0f8ff;\n",
              "  --sklearn-color-fitted-level-1: #d4ebff;\n",
              "  --sklearn-color-fitted-level-2: #b3dbfd;\n",
              "  --sklearn-color-fitted-level-3: cornflowerblue;\n",
              "\n",
              "  /* Specific color for light theme */\n",
              "  --sklearn-color-text-on-default-background: var(--sg-text-color, var(--theme-code-foreground, var(--jp-content-font-color1, black)));\n",
              "  --sklearn-color-background: var(--sg-background-color, var(--theme-background, var(--jp-layout-color0, white)));\n",
              "  --sklearn-color-border-box: var(--sg-text-color, var(--theme-code-foreground, var(--jp-content-font-color1, black)));\n",
              "  --sklearn-color-icon: #696969;\n",
              "\n",
              "  @media (prefers-color-scheme: dark) {\n",
              "    /* Redefinition of color scheme for dark theme */\n",
              "    --sklearn-color-text-on-default-background: var(--sg-text-color, var(--theme-code-foreground, var(--jp-content-font-color1, white)));\n",
              "    --sklearn-color-background: var(--sg-background-color, var(--theme-background, var(--jp-layout-color0, #111)));\n",
              "    --sklearn-color-border-box: var(--sg-text-color, var(--theme-code-foreground, var(--jp-content-font-color1, white)));\n",
              "    --sklearn-color-icon: #878787;\n",
              "  }\n",
              "}\n",
              "\n",
              "#sk-container-id-1 {\n",
              "  color: var(--sklearn-color-text);\n",
              "}\n",
              "\n",
              "#sk-container-id-1 pre {\n",
              "  padding: 0;\n",
              "}\n",
              "\n",
              "#sk-container-id-1 input.sk-hidden--visually {\n",
              "  border: 0;\n",
              "  clip: rect(1px 1px 1px 1px);\n",
              "  clip: rect(1px, 1px, 1px, 1px);\n",
              "  height: 1px;\n",
              "  margin: -1px;\n",
              "  overflow: hidden;\n",
              "  padding: 0;\n",
              "  position: absolute;\n",
              "  width: 1px;\n",
              "}\n",
              "\n",
              "#sk-container-id-1 div.sk-dashed-wrapped {\n",
              "  border: 1px dashed var(--sklearn-color-line);\n",
              "  margin: 0 0.4em 0.5em 0.4em;\n",
              "  box-sizing: border-box;\n",
              "  padding-bottom: 0.4em;\n",
              "  background-color: var(--sklearn-color-background);\n",
              "}\n",
              "\n",
              "#sk-container-id-1 div.sk-container {\n",
              "  /* jupyter's `normalize.less` sets `[hidden] { display: none; }`\n",
              "     but bootstrap.min.css set `[hidden] { display: none !important; }`\n",
              "     so we also need the `!important` here to be able to override the\n",
              "     default hidden behavior on the sphinx rendered scikit-learn.org.\n",
              "     See: https://github.com/scikit-learn/scikit-learn/issues/21755 */\n",
              "  display: inline-block !important;\n",
              "  position: relative;\n",
              "}\n",
              "\n",
              "#sk-container-id-1 div.sk-text-repr-fallback {\n",
              "  display: none;\n",
              "}\n",
              "\n",
              "div.sk-parallel-item,\n",
              "div.sk-serial,\n",
              "div.sk-item {\n",
              "  /* draw centered vertical line to link estimators */\n",
              "  background-image: linear-gradient(var(--sklearn-color-text-on-default-background), var(--sklearn-color-text-on-default-background));\n",
              "  background-size: 2px 100%;\n",
              "  background-repeat: no-repeat;\n",
              "  background-position: center center;\n",
              "}\n",
              "\n",
              "/* Parallel-specific style estimator block */\n",
              "\n",
              "#sk-container-id-1 div.sk-parallel-item::after {\n",
              "  content: \"\";\n",
              "  width: 100%;\n",
              "  border-bottom: 2px solid var(--sklearn-color-text-on-default-background);\n",
              "  flex-grow: 1;\n",
              "}\n",
              "\n",
              "#sk-container-id-1 div.sk-parallel {\n",
              "  display: flex;\n",
              "  align-items: stretch;\n",
              "  justify-content: center;\n",
              "  background-color: var(--sklearn-color-background);\n",
              "  position: relative;\n",
              "}\n",
              "\n",
              "#sk-container-id-1 div.sk-parallel-item {\n",
              "  display: flex;\n",
              "  flex-direction: column;\n",
              "}\n",
              "\n",
              "#sk-container-id-1 div.sk-parallel-item:first-child::after {\n",
              "  align-self: flex-end;\n",
              "  width: 50%;\n",
              "}\n",
              "\n",
              "#sk-container-id-1 div.sk-parallel-item:last-child::after {\n",
              "  align-self: flex-start;\n",
              "  width: 50%;\n",
              "}\n",
              "\n",
              "#sk-container-id-1 div.sk-parallel-item:only-child::after {\n",
              "  width: 0;\n",
              "}\n",
              "\n",
              "/* Serial-specific style estimator block */\n",
              "\n",
              "#sk-container-id-1 div.sk-serial {\n",
              "  display: flex;\n",
              "  flex-direction: column;\n",
              "  align-items: center;\n",
              "  background-color: var(--sklearn-color-background);\n",
              "  padding-right: 1em;\n",
              "  padding-left: 1em;\n",
              "}\n",
              "\n",
              "\n",
              "/* Toggleable style: style used for estimator/Pipeline/ColumnTransformer box that is\n",
              "clickable and can be expanded/collapsed.\n",
              "- Pipeline and ColumnTransformer use this feature and define the default style\n",
              "- Estimators will overwrite some part of the style using the `sk-estimator` class\n",
              "*/\n",
              "\n",
              "/* Pipeline and ColumnTransformer style (default) */\n",
              "\n",
              "#sk-container-id-1 div.sk-toggleable {\n",
              "  /* Default theme specific background. It is overwritten whether we have a\n",
              "  specific estimator or a Pipeline/ColumnTransformer */\n",
              "  background-color: var(--sklearn-color-background);\n",
              "}\n",
              "\n",
              "/* Toggleable label */\n",
              "#sk-container-id-1 label.sk-toggleable__label {\n",
              "  cursor: pointer;\n",
              "  display: block;\n",
              "  width: 100%;\n",
              "  margin-bottom: 0;\n",
              "  padding: 0.5em;\n",
              "  box-sizing: border-box;\n",
              "  text-align: center;\n",
              "}\n",
              "\n",
              "#sk-container-id-1 label.sk-toggleable__label-arrow:before {\n",
              "  /* Arrow on the left of the label */\n",
              "  content: \"▸\";\n",
              "  float: left;\n",
              "  margin-right: 0.25em;\n",
              "  color: var(--sklearn-color-icon);\n",
              "}\n",
              "\n",
              "#sk-container-id-1 label.sk-toggleable__label-arrow:hover:before {\n",
              "  color: var(--sklearn-color-text);\n",
              "}\n",
              "\n",
              "/* Toggleable content - dropdown */\n",
              "\n",
              "#sk-container-id-1 div.sk-toggleable__content {\n",
              "  max-height: 0;\n",
              "  max-width: 0;\n",
              "  overflow: hidden;\n",
              "  text-align: left;\n",
              "  /* unfitted */\n",
              "  background-color: var(--sklearn-color-unfitted-level-0);\n",
              "}\n",
              "\n",
              "#sk-container-id-1 div.sk-toggleable__content.fitted {\n",
              "  /* fitted */\n",
              "  background-color: var(--sklearn-color-fitted-level-0);\n",
              "}\n",
              "\n",
              "#sk-container-id-1 div.sk-toggleable__content pre {\n",
              "  margin: 0.2em;\n",
              "  border-radius: 0.25em;\n",
              "  color: var(--sklearn-color-text);\n",
              "  /* unfitted */\n",
              "  background-color: var(--sklearn-color-unfitted-level-0);\n",
              "}\n",
              "\n",
              "#sk-container-id-1 div.sk-toggleable__content.fitted pre {\n",
              "  /* unfitted */\n",
              "  background-color: var(--sklearn-color-fitted-level-0);\n",
              "}\n",
              "\n",
              "#sk-container-id-1 input.sk-toggleable__control:checked~div.sk-toggleable__content {\n",
              "  /* Expand drop-down */\n",
              "  max-height: 200px;\n",
              "  max-width: 100%;\n",
              "  overflow: auto;\n",
              "}\n",
              "\n",
              "#sk-container-id-1 input.sk-toggleable__control:checked~label.sk-toggleable__label-arrow:before {\n",
              "  content: \"▾\";\n",
              "}\n",
              "\n",
              "/* Pipeline/ColumnTransformer-specific style */\n",
              "\n",
              "#sk-container-id-1 div.sk-label input.sk-toggleable__control:checked~label.sk-toggleable__label {\n",
              "  color: var(--sklearn-color-text);\n",
              "  background-color: var(--sklearn-color-unfitted-level-2);\n",
              "}\n",
              "\n",
              "#sk-container-id-1 div.sk-label.fitted input.sk-toggleable__control:checked~label.sk-toggleable__label {\n",
              "  background-color: var(--sklearn-color-fitted-level-2);\n",
              "}\n",
              "\n",
              "/* Estimator-specific style */\n",
              "\n",
              "/* Colorize estimator box */\n",
              "#sk-container-id-1 div.sk-estimator input.sk-toggleable__control:checked~label.sk-toggleable__label {\n",
              "  /* unfitted */\n",
              "  background-color: var(--sklearn-color-unfitted-level-2);\n",
              "}\n",
              "\n",
              "#sk-container-id-1 div.sk-estimator.fitted input.sk-toggleable__control:checked~label.sk-toggleable__label {\n",
              "  /* fitted */\n",
              "  background-color: var(--sklearn-color-fitted-level-2);\n",
              "}\n",
              "\n",
              "#sk-container-id-1 div.sk-label label.sk-toggleable__label,\n",
              "#sk-container-id-1 div.sk-label label {\n",
              "  /* The background is the default theme color */\n",
              "  color: var(--sklearn-color-text-on-default-background);\n",
              "}\n",
              "\n",
              "/* On hover, darken the color of the background */\n",
              "#sk-container-id-1 div.sk-label:hover label.sk-toggleable__label {\n",
              "  color: var(--sklearn-color-text);\n",
              "  background-color: var(--sklearn-color-unfitted-level-2);\n",
              "}\n",
              "\n",
              "/* Label box, darken color on hover, fitted */\n",
              "#sk-container-id-1 div.sk-label.fitted:hover label.sk-toggleable__label.fitted {\n",
              "  color: var(--sklearn-color-text);\n",
              "  background-color: var(--sklearn-color-fitted-level-2);\n",
              "}\n",
              "\n",
              "/* Estimator label */\n",
              "\n",
              "#sk-container-id-1 div.sk-label label {\n",
              "  font-family: monospace;\n",
              "  font-weight: bold;\n",
              "  display: inline-block;\n",
              "  line-height: 1.2em;\n",
              "}\n",
              "\n",
              "#sk-container-id-1 div.sk-label-container {\n",
              "  text-align: center;\n",
              "}\n",
              "\n",
              "/* Estimator-specific */\n",
              "#sk-container-id-1 div.sk-estimator {\n",
              "  font-family: monospace;\n",
              "  border: 1px dotted var(--sklearn-color-border-box);\n",
              "  border-radius: 0.25em;\n",
              "  box-sizing: border-box;\n",
              "  margin-bottom: 0.5em;\n",
              "  /* unfitted */\n",
              "  background-color: var(--sklearn-color-unfitted-level-0);\n",
              "}\n",
              "\n",
              "#sk-container-id-1 div.sk-estimator.fitted {\n",
              "  /* fitted */\n",
              "  background-color: var(--sklearn-color-fitted-level-0);\n",
              "}\n",
              "\n",
              "/* on hover */\n",
              "#sk-container-id-1 div.sk-estimator:hover {\n",
              "  /* unfitted */\n",
              "  background-color: var(--sklearn-color-unfitted-level-2);\n",
              "}\n",
              "\n",
              "#sk-container-id-1 div.sk-estimator.fitted:hover {\n",
              "  /* fitted */\n",
              "  background-color: var(--sklearn-color-fitted-level-2);\n",
              "}\n",
              "\n",
              "/* Specification for estimator info (e.g. \"i\" and \"?\") */\n",
              "\n",
              "/* Common style for \"i\" and \"?\" */\n",
              "\n",
              ".sk-estimator-doc-link,\n",
              "a:link.sk-estimator-doc-link,\n",
              "a:visited.sk-estimator-doc-link {\n",
              "  float: right;\n",
              "  font-size: smaller;\n",
              "  line-height: 1em;\n",
              "  font-family: monospace;\n",
              "  background-color: var(--sklearn-color-background);\n",
              "  border-radius: 1em;\n",
              "  height: 1em;\n",
              "  width: 1em;\n",
              "  text-decoration: none !important;\n",
              "  margin-left: 1ex;\n",
              "  /* unfitted */\n",
              "  border: var(--sklearn-color-unfitted-level-1) 1pt solid;\n",
              "  color: var(--sklearn-color-unfitted-level-1);\n",
              "}\n",
              "\n",
              ".sk-estimator-doc-link.fitted,\n",
              "a:link.sk-estimator-doc-link.fitted,\n",
              "a:visited.sk-estimator-doc-link.fitted {\n",
              "  /* fitted */\n",
              "  border: var(--sklearn-color-fitted-level-1) 1pt solid;\n",
              "  color: var(--sklearn-color-fitted-level-1);\n",
              "}\n",
              "\n",
              "/* On hover */\n",
              "div.sk-estimator:hover .sk-estimator-doc-link:hover,\n",
              ".sk-estimator-doc-link:hover,\n",
              "div.sk-label-container:hover .sk-estimator-doc-link:hover,\n",
              ".sk-estimator-doc-link:hover {\n",
              "  /* unfitted */\n",
              "  background-color: var(--sklearn-color-unfitted-level-3);\n",
              "  color: var(--sklearn-color-background);\n",
              "  text-decoration: none;\n",
              "}\n",
              "\n",
              "div.sk-estimator.fitted:hover .sk-estimator-doc-link.fitted:hover,\n",
              ".sk-estimator-doc-link.fitted:hover,\n",
              "div.sk-label-container:hover .sk-estimator-doc-link.fitted:hover,\n",
              ".sk-estimator-doc-link.fitted:hover {\n",
              "  /* fitted */\n",
              "  background-color: var(--sklearn-color-fitted-level-3);\n",
              "  color: var(--sklearn-color-background);\n",
              "  text-decoration: none;\n",
              "}\n",
              "\n",
              "/* Span, style for the box shown on hovering the info icon */\n",
              ".sk-estimator-doc-link span {\n",
              "  display: none;\n",
              "  z-index: 9999;\n",
              "  position: relative;\n",
              "  font-weight: normal;\n",
              "  right: .2ex;\n",
              "  padding: .5ex;\n",
              "  margin: .5ex;\n",
              "  width: min-content;\n",
              "  min-width: 20ex;\n",
              "  max-width: 50ex;\n",
              "  color: var(--sklearn-color-text);\n",
              "  box-shadow: 2pt 2pt 4pt #999;\n",
              "  /* unfitted */\n",
              "  background: var(--sklearn-color-unfitted-level-0);\n",
              "  border: .5pt solid var(--sklearn-color-unfitted-level-3);\n",
              "}\n",
              "\n",
              ".sk-estimator-doc-link.fitted span {\n",
              "  /* fitted */\n",
              "  background: var(--sklearn-color-fitted-level-0);\n",
              "  border: var(--sklearn-color-fitted-level-3);\n",
              "}\n",
              "\n",
              ".sk-estimator-doc-link:hover span {\n",
              "  display: block;\n",
              "}\n",
              "\n",
              "/* \"?\"-specific style due to the `<a>` HTML tag */\n",
              "\n",
              "#sk-container-id-1 a.estimator_doc_link {\n",
              "  float: right;\n",
              "  font-size: 1rem;\n",
              "  line-height: 1em;\n",
              "  font-family: monospace;\n",
              "  background-color: var(--sklearn-color-background);\n",
              "  border-radius: 1rem;\n",
              "  height: 1rem;\n",
              "  width: 1rem;\n",
              "  text-decoration: none;\n",
              "  /* unfitted */\n",
              "  color: var(--sklearn-color-unfitted-level-1);\n",
              "  border: var(--sklearn-color-unfitted-level-1) 1pt solid;\n",
              "}\n",
              "\n",
              "#sk-container-id-1 a.estimator_doc_link.fitted {\n",
              "  /* fitted */\n",
              "  border: var(--sklearn-color-fitted-level-1) 1pt solid;\n",
              "  color: var(--sklearn-color-fitted-level-1);\n",
              "}\n",
              "\n",
              "/* On hover */\n",
              "#sk-container-id-1 a.estimator_doc_link:hover {\n",
              "  /* unfitted */\n",
              "  background-color: var(--sklearn-color-unfitted-level-3);\n",
              "  color: var(--sklearn-color-background);\n",
              "  text-decoration: none;\n",
              "}\n",
              "\n",
              "#sk-container-id-1 a.estimator_doc_link.fitted:hover {\n",
              "  /* fitted */\n",
              "  background-color: var(--sklearn-color-fitted-level-3);\n",
              "}\n",
              "</style><div id=\"sk-container-id-1\" class=\"sk-top-container\"><div class=\"sk-text-repr-fallback\"><pre>RandomForestClassifier(random_state=42)</pre><b>In a Jupyter environment, please rerun this cell to show the HTML representation or trust the notebook. <br />On GitHub, the HTML representation is unable to render, please try loading this page with nbviewer.org.</b></div><div class=\"sk-container\" hidden><div class=\"sk-item\"><div class=\"sk-estimator fitted sk-toggleable\"><input class=\"sk-toggleable__control sk-hidden--visually\" id=\"sk-estimator-id-1\" type=\"checkbox\" checked><label for=\"sk-estimator-id-1\" class=\"sk-toggleable__label fitted sk-toggleable__label-arrow fitted\">&nbsp;&nbsp;RandomForestClassifier<a class=\"sk-estimator-doc-link fitted\" rel=\"noreferrer\" target=\"_blank\" href=\"https://scikit-learn.org/1.5/modules/generated/sklearn.ensemble.RandomForestClassifier.html\">?<span>Documentation for RandomForestClassifier</span></a><span class=\"sk-estimator-doc-link fitted\">i<span>Fitted</span></span></label><div class=\"sk-toggleable__content fitted\"><pre>RandomForestClassifier(random_state=42)</pre></div> </div></div></div></div>"
            ]
          },
          "metadata": {},
          "execution_count": 26
        }
      ]
    },
    {
      "cell_type": "code",
      "source": [
        "# prompt: Make Predictions and Evaluate: crashes by age group\n",
        "\n",
        "import pandas as pd\n",
        "# Make predictions on the test set\n",
        "y_pred = rf_model.predict(X_test)\n",
        "\n",
        "# Evaluate the model\n",
        "from sklearn.metrics import accuracy_score, classification_report\n",
        "\n",
        "accuracy = accuracy_score(y_test, y_pred)\n",
        "print(f\"Accuracy: {accuracy}\")\n",
        "\n",
        "print(classification_report(y_test, y_pred))\n",
        "\n",
        "# Analyze crashes by age group (assuming 'Driver Age' is a relevant column)\n",
        "if 'Driver Age' in df_crash.columns:\n",
        "  # Create age groups (e.g., 18-25, 26-35, 36-45, etc.)\n",
        "  bins = [18, 25, 35, 45, 55, 65, float('inf')]\n",
        "  labels = ['18-25', '26-35', '36-45', '46-55', '56-65', '65+']\n",
        "  df_crash['Age Group'] = pd.cut(df_crash['Driver Age'], bins=bins, labels=labels, right=False)\n",
        "\n",
        "  # Group by age group and count crashes\n",
        "  crash_counts_by_age = df_crash.groupby('Age Group')['Agency Case #'].count()\n",
        "\n",
        "  # Print crash counts by age group\n",
        "  print(\"Crash Counts by Age Group:\")\n",
        "  print(crash_counts_by_age)\n",
        "\n",
        "  # You can further analyze the severity distribution within each age group\n",
        "  # For example:\n",
        "  # severity_by_age = df_crash.groupby(['Age Group', 'Severity'])['Agency Case #'].count().unstack()\n",
        "  # print(severity_by_age)\n",
        "else:\n",
        "  print(\"Driver Age column not found in the DataFrame.\")\n"
      ],
      "metadata": {
        "colab": {
          "base_uri": "https://localhost:8080/"
        },
        "id": "cm6swAsl0gTN",
        "outputId": "f8dab886-8060-4a95-a97b-62df439da99d"
      },
      "execution_count": null,
      "outputs": [
        {
          "output_type": "stream",
          "name": "stdout",
          "text": [
            "Accuracy: 0.9147030453355381\n",
            "              precision    recall  f1-score   support\n",
            "\n",
            "           0       0.97      0.97      0.97      2538\n",
            "           1       0.96      0.93      0.94       758\n",
            "           2       0.82      0.83      0.83       705\n",
            "           3       0.79      0.84      0.81       750\n",
            "           4       0.92      0.90      0.91      2458\n",
            "           5       1.00      0.70      0.82        10\n",
            "           9       0.76      0.82      0.78        38\n",
            "\n",
            "    accuracy                           0.91      7257\n",
            "   macro avg       0.89      0.86      0.87      7257\n",
            "weighted avg       0.92      0.91      0.92      7257\n",
            "\n",
            "Driver Age column not found in the DataFrame.\n"
          ]
        }
      ]
    },
    {
      "cell_type": "code",
      "source": [
        "# prompt: Calculate accuracy score using accuracy_score from sklearn.metrics.\n",
        "\n",
        "from sklearn.metrics import accuracy_score\n",
        "\n",
        "# Assuming you have y_test (true labels) and y_pred (predicted labels)\n",
        "accuracy = accuracy_score(y_test, y_pred)\n",
        "print(f\"Accuracy: {accuracy}\")\n"
      ],
      "metadata": {
        "colab": {
          "base_uri": "https://localhost:8080/"
        },
        "id": "Og3rIFsQ0mbP",
        "outputId": "914f37c4-9a38-47a6-8cb7-c3d3e4ff6d6a"
      },
      "execution_count": null,
      "outputs": [
        {
          "output_type": "stream",
          "name": "stdout",
          "text": [
            "Accuracy: 0.9147030453355381\n"
          ]
        }
      ]
    },
    {
      "cell_type": "code",
      "source": [
        "# prompt: Generate a classification report using classification_report from\n",
        "# sklearn.metrics\n",
        "\n",
        "from sklearn.metrics import classification_report\n",
        "\n",
        "# Assuming you have y_test (true labels) and y_pred (predicted labels)\n",
        "report = classification_report(y_test, y_pred)\n",
        "print(report)\n"
      ],
      "metadata": {
        "colab": {
          "base_uri": "https://localhost:8080/"
        },
        "id": "OqKbfD330tza",
        "outputId": "b5915648-d5c2-4bf4-b2d5-e5c74da1652d"
      },
      "execution_count": null,
      "outputs": [
        {
          "output_type": "stream",
          "name": "stdout",
          "text": [
            "              precision    recall  f1-score   support\n",
            "\n",
            "           0       0.97      0.97      0.97      2538\n",
            "           1       0.96      0.93      0.94       758\n",
            "           2       0.82      0.83      0.83       705\n",
            "           3       0.79      0.84      0.81       750\n",
            "           4       0.92      0.90      0.91      2458\n",
            "           5       1.00      0.70      0.82        10\n",
            "           9       0.76      0.82      0.78        38\n",
            "\n",
            "    accuracy                           0.91      7257\n",
            "   macro avg       0.89      0.86      0.87      7257\n",
            "weighted avg       0.92      0.91      0.92      7257\n",
            "\n"
          ]
        }
      ]
    },
    {
      "cell_type": "code",
      "source": [],
      "metadata": {
        "id": "VUWnUB8G0ycK"
      },
      "execution_count": null,
      "outputs": []
    }
  ]
}