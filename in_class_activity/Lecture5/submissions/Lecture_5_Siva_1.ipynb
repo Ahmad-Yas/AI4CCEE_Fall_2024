{
  "nbformat": 4,
  "nbformat_minor": 0,
  "metadata": {
    "colab": {
      "provenance": [],
      "authorship_tag": "ABX9TyPucrWoNoJx164nZh9Vl0UE",
      "include_colab_link": true
    },
    "kernelspec": {
      "name": "python3",
      "display_name": "Python 3"
    },
    "language_info": {
      "name": "python"
    }
  },
  "cells": [
    {
      "cell_type": "markdown",
      "metadata": {
        "id": "view-in-github",
        "colab_type": "text"
      },
      "source": [
        "<a href=\"https://colab.research.google.com/github/isiva-m/AI4CCEE_Fall_2024/blob/main/in_class_activity/Lecture5/submissions/Lecture_5_Siva_1.ipynb\" target=\"_parent\"><img src=\"https://colab.research.google.com/assets/colab-badge.svg\" alt=\"Open In Colab\"/></a>"
      ]
    },
    {
      "cell_type": "code",
      "execution_count": 2,
      "metadata": {
        "colab": {
          "base_uri": "https://localhost:8080/"
        },
        "id": "WT9idqnv6vWL",
        "outputId": "d68f9749-dc7d-495f-8874-cd7457ad9142"
      },
      "outputs": [
        {
          "output_type": "stream",
          "name": "stderr",
          "text": [
            "<ipython-input-2-5f29b4d45018>:7: DtypeWarning: Columns (5,27,68,94,102,104,106,108,114,116,118,136,138,200,201,202,203,217,219,221,223,225,234,236,238,240,242,244,246,248,250,252) have mixed types. Specify dtype option on import or set low_memory=False.\n",
            "  df = pd.read_csv('/content/CrashData.csv')\n"
          ]
        },
        {
          "output_type": "stream",
          "name": "stdout",
          "text": [
            "Predicted Crash Severity by Age Group:\n",
            " AGE\n",
            "0      2.000000\n",
            "1      2.982456\n",
            "2      3.549296\n",
            "3      2.679012\n",
            "4      1.822222\n",
            "         ...   \n",
            "96     4.000000\n",
            "97     3.900000\n",
            "99     4.000000\n",
            "998    0.460477\n",
            "999    0.900000\n",
            "Name: Predicted_INJ_SEV, Length: 100, dtype: float64\n",
            "Accuracy: 0.91\n",
            "Classification Report:\n",
            "               precision    recall  f1-score   support\n",
            "\n",
            "           0       0.97      0.97      0.97      2538\n",
            "           1       0.96      0.93      0.94       758\n",
            "           2       0.82      0.83      0.83       705\n",
            "           3       0.79      0.84      0.81       750\n",
            "           4       0.92      0.90      0.91      2458\n",
            "           5       1.00      0.70      0.82        10\n",
            "           9       0.76      0.82      0.78        38\n",
            "\n",
            "    accuracy                           0.91      7257\n",
            "   macro avg       0.89      0.86      0.87      7257\n",
            "weighted avg       0.92      0.91      0.92      7257\n",
            "\n"
          ]
        }
      ],
      "source": [
        "import pandas as pd\n",
        "from sklearn.model_selection import train_test_split\n",
        "from sklearn.ensemble import RandomForestClassifier\n",
        "from sklearn.metrics import accuracy_score, classification_report\n",
        "\n",
        "# Load the CSV data into a pandas DataFrame\n",
        "df = pd.read_csv('/content/CrashData.csv')\n",
        "\n",
        "# Remove irrelevant columns (if any)\n",
        "# Identify the target variable 'INJ_SEV' for crash severity\n",
        "target_column = 'INJ_SEV'\n",
        "\n",
        "# Select relevant features for prediction: 'HOUR_x', 'AGE', and 'BODY_TYP'\n",
        "features = ['HOUR_x', 'AGE', 'BODY_TYP']\n",
        "\n",
        "# Split the data into features (X) and target variable (y)\n",
        "X = df[features]  # Features for prediction\n",
        "y = df[target_column]  # Target variable (Crash Severity)\n",
        "\n",
        "# Split the data into training and testing sets (80% training, 20% testing)\n",
        "X_train, X_test, y_train, y_test = train_test_split(X, y, test_size=0.2, random_state=42)\n",
        "\n",
        "# 10. Import RandomForestClassifier (Already imported above)\n",
        "# 11. Create a Random Forest model with n_estimators=100\n",
        "rf_model = RandomForestClassifier(n_estimators=100, random_state=42)\n",
        "\n",
        "# 12. Fit the model to the training data\n",
        "rf_model.fit(X_train, y_train)\n",
        "\n",
        "# 13. Make Predictions\n",
        "y_pred = rf_model.predict(X_test)\n",
        "\n",
        "# Evaluate crashes by age group (grouping by 'AGE')\n",
        "# Example: Checking prediction accuracy across different age groups\n",
        "df['Predicted_INJ_SEV'] = rf_model.predict(df[features])\n",
        "\n",
        "# Group the data by 'AGE' and display average prediction results for each group\n",
        "age_grouped_results = df.groupby('AGE')['Predicted_INJ_SEV'].mean()\n",
        "print(\"Predicted Crash Severity by Age Group:\\n\", age_grouped_results)\n",
        "\n",
        "# 14. Calculate accuracy score\n",
        "accuracy = accuracy_score(y_test, y_pred)\n",
        "print(f\"Accuracy: {accuracy:.2f}\")\n",
        "\n",
        "# 15. Generate a classification report\n",
        "class_report = classification_report(y_test, y_pred)\n",
        "print(\"Classification Report:\\n\", class_report)"
      ]
    },
    {
      "cell_type": "code",
      "source": [],
      "metadata": {
        "id": "-11ia5vQmQ7n"
      },
      "execution_count": null,
      "outputs": []
    }
  ]
}