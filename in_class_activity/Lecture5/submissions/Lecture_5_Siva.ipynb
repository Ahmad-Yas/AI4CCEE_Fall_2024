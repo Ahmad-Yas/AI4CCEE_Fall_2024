{
  "nbformat": 4,
  "nbformat_minor": 0,
  "metadata": {
    "colab": {
      "provenance": [],
      "authorship_tag": "ABX9TyO9IvDPK1ie/47IDXCLKLDe",
      "include_colab_link": true
    },
    "kernelspec": {
      "name": "python3",
      "display_name": "Python 3"
    },
    "language_info": {
      "name": "python"
    }
  },
  "cells": [
    {
      "cell_type": "markdown",
      "metadata": {
        "id": "view-in-github",
        "colab_type": "text"
      },
      "source": [
        "<a href=\"https://colab.research.google.com/github/isiva-m/AI4CCEE_Fall_2024/blob/main/in_class_activity/Lecture5/submissions/Lecture_5_Siva.ipynb\" target=\"_parent\"><img src=\"https://colab.research.google.com/assets/colab-badge.svg\" alt=\"Open In Colab\"/></a>"
      ]
    },
    {
      "cell_type": "code",
      "source": [
        "import pandas as pd\n",
        "\n",
        "df = pd.read_csv('/content/Ames_August_Crashes.csv')\n",
        "df.head()\n",
        "df.info()\n",
        "print(summary_stats)\n"
      ],
      "metadata": {
        "id": "-9Q-6W8FnCW4",
        "colab": {
          "base_uri": "https://localhost:8080/"
        },
        "outputId": "e43f3b70-7763-448f-a4e9-8d7cc58457cf"
      },
      "execution_count": 52,
      "outputs": [
        {
          "output_type": "stream",
          "name": "stdout",
          "text": [
            "<class 'pandas.core.frame.DataFrame'>\n",
            "RangeIndex: 57 entries, 0 to 56\n",
            "Data columns (total 10 columns):\n",
            " #   Column      Non-Null Count  Dtype  \n",
            "---  ------      --------------  -----  \n",
            " 0   Unnamed: 0  52 non-null     object \n",
            " 1   Unnamed: 1  52 non-null     object \n",
            " 2   Unnamed: 2  0 non-null      float64\n",
            " 3   Unnamed: 3  52 non-null     object \n",
            " 4   Unnamed: 4  1 non-null      object \n",
            " 5   Unnamed: 5  52 non-null     object \n",
            " 6   Unnamed: 6  52 non-null     object \n",
            " 7   Unnamed: 7  52 non-null     object \n",
            " 8   Unnamed: 8  52 non-null     object \n",
            " 9   Unnamed: 9  0 non-null      float64\n",
            "dtypes: float64(2), object(8)\n",
            "memory usage: 4.6+ KB\n",
            "        Unnamed: 0  Unnamed: 1  Unnamed: 2     Unnamed: 3  \\\n",
            "count           52          52         0.0             52   \n",
            "unique          26          52         NaN             52   \n",
            "top     08/26/2024  DOT Case #         NaN  Agency Case #   \n",
            "freq             6           1         NaN              1   \n",
            "mean           NaN         NaN         NaN            NaN   \n",
            "std            NaN         NaN         NaN            NaN   \n",
            "min            NaN         NaN         NaN            NaN   \n",
            "25%            NaN         NaN         NaN            NaN   \n",
            "50%            NaN         NaN         NaN            NaN   \n",
            "75%            NaN         NaN         NaN            NaN   \n",
            "max            NaN         NaN         NaN            NaN   \n",
            "\n",
            "                      Unnamed: 4 Unnamed: 5 Unnamed: 6            Unnamed: 7  \\\n",
            "count                          1         52         52                    52   \n",
            "unique                         1          2          2                     5   \n",
            "top     Abbreviated Crash Report       Ames      Story  Property Damage Only   \n",
            "freq                           1         51         51                    37   \n",
            "mean                         NaN        NaN        NaN                   NaN   \n",
            "std                          NaN        NaN        NaN                   NaN   \n",
            "min                          NaN        NaN        NaN                   NaN   \n",
            "25%                          NaN        NaN        NaN                   NaN   \n",
            "50%                          NaN        NaN        NaN                   NaN   \n",
            "75%                          NaN        NaN        NaN                   NaN   \n",
            "max                          NaN        NaN        NaN                   NaN   \n",
            "\n",
            "                                               Unnamed: 8  Unnamed: 9  \n",
            "count                                                  52         0.0  \n",
            "unique                                                 33         NaN  \n",
            "top     US 69 N                                       ...         NaN  \n",
            "freq                                                    8         NaN  \n",
            "mean                                                  NaN         NaN  \n",
            "std                                                   NaN         NaN  \n",
            "min                                                   NaN         NaN  \n",
            "25%                                                   NaN         NaN  \n",
            "50%                                                   NaN         NaN  \n",
            "75%                                                   NaN         NaN  \n",
            "max                                                   NaN         NaN  \n"
          ]
        }
      ]
    },
    {
      "cell_type": "markdown",
      "source": [
        "Activity_3"
      ],
      "metadata": {
        "id": "yy-n9FDLpER8"
      }
    },
    {
      "cell_type": "code",
      "source": [
        "# Step 1: Import the pandas library\n",
        "import pandas as pd\n",
        "\n",
        "# Step 2: Load the CSV file into a pandas DataFrame\n",
        "df = pd.read_csv('/content/Ames_August_Crashes.csv')\n",
        "\n",
        "# Step 3: Display the first few rows of the dataset\n",
        "print(\"First few rows of the dataset:\")\n",
        "print(df.head())\n",
        "\n",
        "# Step 4: Check for missing values and data types\n",
        "print(\"\\nDataFrame information (including missing values and data types):\")\n",
        "df.info()\n"
      ],
      "metadata": {
        "colab": {
          "base_uri": "https://localhost:8080/"
        },
        "id": "dVFjAu2Zu_eJ",
        "outputId": "847895ae-361b-4f79-a522-a48099d16bde"
      },
      "execution_count": 41,
      "outputs": [
        {
          "output_type": "stream",
          "name": "stdout",
          "text": [
            "First few rows of the dataset:\n",
            "  Unnamed: 0  Unnamed: 1  Unnamed: 2     Unnamed: 3                Unnamed: 4  \\\n",
            "0        NaN         NaN         NaN            NaN                       NaN   \n",
            "1        NaN         NaN         NaN            NaN  Abbreviated Crash Report   \n",
            "2        NaN         NaN         NaN            NaN                       NaN   \n",
            "3        NaN         NaN         NaN            NaN                       NaN   \n",
            "4       Date  DOT Case #         NaN  Agency Case #                       NaN   \n",
            "\n",
            "  Unnamed: 5 Unnamed: 6 Unnamed: 7           Unnamed: 8  Unnamed: 9  \n",
            "0        NaN        NaN        NaN                  NaN         NaN  \n",
            "1        NaN        NaN        NaN                  NaN         NaN  \n",
            "2        NaN        NaN        NaN                  NaN         NaN  \n",
            "3        NaN        NaN        NaN                  NaN         NaN  \n",
            "4       City     County   Severity  Literal Description         NaN  \n",
            "\n",
            "DataFrame information (including missing values and data types):\n",
            "<class 'pandas.core.frame.DataFrame'>\n",
            "RangeIndex: 57 entries, 0 to 56\n",
            "Data columns (total 10 columns):\n",
            " #   Column      Non-Null Count  Dtype  \n",
            "---  ------      --------------  -----  \n",
            " 0   Unnamed: 0  52 non-null     object \n",
            " 1   Unnamed: 1  52 non-null     object \n",
            " 2   Unnamed: 2  0 non-null      float64\n",
            " 3   Unnamed: 3  52 non-null     object \n",
            " 4   Unnamed: 4  1 non-null      object \n",
            " 5   Unnamed: 5  52 non-null     object \n",
            " 6   Unnamed: 6  52 non-null     object \n",
            " 7   Unnamed: 7  52 non-null     object \n",
            " 8   Unnamed: 8  52 non-null     object \n",
            " 9   Unnamed: 9  0 non-null      float64\n",
            "dtypes: float64(2), object(8)\n",
            "memory usage: 4.6+ KB\n"
          ]
        }
      ]
    },
    {
      "cell_type": "code",
      "source": [
        "# Step 1: Import the pandas library\n",
        "import pandas as pd\n",
        "\n",
        "# Step 2: Load the CSV file into a pandas DataFrame\n",
        "df = pd.read_csv('/content/Ames_August_Crashes.csv')\n",
        "\n",
        "# Step 3: Display the first few rows of the dataset\n",
        "print(\"First few rows of the dataset:\")\n",
        "print(df.head())\n",
        "\n",
        "# Step 4: Check for missing values and data types\n",
        "print(\"\\nDataFrame information (including missing values and data types):\")\n",
        "df.info()\n",
        "\n",
        "# Step 5: Create summary statistics for the DataFrame\n",
        "print(\"\\nSummary statistics of the dataset:\")\n",
        "summary_stats = df.describe(include='all')  # include='all' includes categorical variables\n",
        "print(summary_stats)\n"
      ],
      "metadata": {
        "colab": {
          "base_uri": "https://localhost:8080/"
        },
        "id": "b-hD0_8XvM5g",
        "outputId": "b9246dd2-b6e1-49ee-c8ec-c2df77fcb9bb"
      },
      "execution_count": 42,
      "outputs": [
        {
          "output_type": "stream",
          "name": "stdout",
          "text": [
            "First few rows of the dataset:\n",
            "  Unnamed: 0  Unnamed: 1  Unnamed: 2     Unnamed: 3                Unnamed: 4  \\\n",
            "0        NaN         NaN         NaN            NaN                       NaN   \n",
            "1        NaN         NaN         NaN            NaN  Abbreviated Crash Report   \n",
            "2        NaN         NaN         NaN            NaN                       NaN   \n",
            "3        NaN         NaN         NaN            NaN                       NaN   \n",
            "4       Date  DOT Case #         NaN  Agency Case #                       NaN   \n",
            "\n",
            "  Unnamed: 5 Unnamed: 6 Unnamed: 7           Unnamed: 8  Unnamed: 9  \n",
            "0        NaN        NaN        NaN                  NaN         NaN  \n",
            "1        NaN        NaN        NaN                  NaN         NaN  \n",
            "2        NaN        NaN        NaN                  NaN         NaN  \n",
            "3        NaN        NaN        NaN                  NaN         NaN  \n",
            "4       City     County   Severity  Literal Description         NaN  \n",
            "\n",
            "DataFrame information (including missing values and data types):\n",
            "<class 'pandas.core.frame.DataFrame'>\n",
            "RangeIndex: 57 entries, 0 to 56\n",
            "Data columns (total 10 columns):\n",
            " #   Column      Non-Null Count  Dtype  \n",
            "---  ------      --------------  -----  \n",
            " 0   Unnamed: 0  52 non-null     object \n",
            " 1   Unnamed: 1  52 non-null     object \n",
            " 2   Unnamed: 2  0 non-null      float64\n",
            " 3   Unnamed: 3  52 non-null     object \n",
            " 4   Unnamed: 4  1 non-null      object \n",
            " 5   Unnamed: 5  52 non-null     object \n",
            " 6   Unnamed: 6  52 non-null     object \n",
            " 7   Unnamed: 7  52 non-null     object \n",
            " 8   Unnamed: 8  52 non-null     object \n",
            " 9   Unnamed: 9  0 non-null      float64\n",
            "dtypes: float64(2), object(8)\n",
            "memory usage: 4.6+ KB\n",
            "\n",
            "Summary statistics of the dataset:\n",
            "        Unnamed: 0  Unnamed: 1  Unnamed: 2     Unnamed: 3  \\\n",
            "count           52          52         0.0             52   \n",
            "unique          26          52         NaN             52   \n",
            "top     08/26/2024  DOT Case #         NaN  Agency Case #   \n",
            "freq             6           1         NaN              1   \n",
            "mean           NaN         NaN         NaN            NaN   \n",
            "std            NaN         NaN         NaN            NaN   \n",
            "min            NaN         NaN         NaN            NaN   \n",
            "25%            NaN         NaN         NaN            NaN   \n",
            "50%            NaN         NaN         NaN            NaN   \n",
            "75%            NaN         NaN         NaN            NaN   \n",
            "max            NaN         NaN         NaN            NaN   \n",
            "\n",
            "                      Unnamed: 4 Unnamed: 5 Unnamed: 6            Unnamed: 7  \\\n",
            "count                          1         52         52                    52   \n",
            "unique                         1          2          2                     5   \n",
            "top     Abbreviated Crash Report       Ames      Story  Property Damage Only   \n",
            "freq                           1         51         51                    37   \n",
            "mean                         NaN        NaN        NaN                   NaN   \n",
            "std                          NaN        NaN        NaN                   NaN   \n",
            "min                          NaN        NaN        NaN                   NaN   \n",
            "25%                          NaN        NaN        NaN                   NaN   \n",
            "50%                          NaN        NaN        NaN                   NaN   \n",
            "75%                          NaN        NaN        NaN                   NaN   \n",
            "max                          NaN        NaN        NaN                   NaN   \n",
            "\n",
            "                                               Unnamed: 8  Unnamed: 9  \n",
            "count                                                  52         0.0  \n",
            "unique                                                 33         NaN  \n",
            "top     US 69 N                                       ...         NaN  \n",
            "freq                                                    8         NaN  \n",
            "mean                                                  NaN         NaN  \n",
            "std                                                   NaN         NaN  \n",
            "min                                                   NaN         NaN  \n",
            "25%                                                   NaN         NaN  \n",
            "50%                                                   NaN         NaN  \n",
            "75%                                                   NaN         NaN  \n",
            "max                                                   NaN         NaN  \n"
          ]
        }
      ]
    },
    {
      "cell_type": "code",
      "source": [
        "# Step 1: Import necessary libraries\n",
        "import pandas as pd\n",
        "\n",
        "# Step 2: Load the CSV file into a pandas DataFrame\n",
        "df = pd.read_csv('/content/Ames_August_Crashes.csv')\n",
        "\n",
        "# Step 3: Identify the target variable for crash severity\n",
        "target_variable = 'Severity'  # Replace with the actual target variable name as per your dataset\n",
        "\n",
        "# Check if the target variable is in the DataFrame\n",
        "if target_variable in df.columns:\n",
        "    print(f\"\\nTarget Variable: {target_variable}\")\n",
        "\n",
        "    # Step 4: Inspect the target variable values\n",
        "    print(\"\\nTarget variable values and their counts:\")\n",
        "    print(df[target_variable].value_counts())  # Display unique values and their counts\n",
        "else:\n",
        "    print(f\"\\nTarget Variable '{target_variable}' not found in the dataset.\")\n"
      ],
      "metadata": {
        "colab": {
          "base_uri": "https://localhost:8080/"
        },
        "id": "STkcWFJKzXAM",
        "outputId": "11d0a123-0138-45cb-e21d-73899b9c1bdf"
      },
      "execution_count": 50,
      "outputs": [
        {
          "output_type": "stream",
          "name": "stdout",
          "text": [
            "\n",
            "Target Variable 'Severity' not found in the dataset.\n"
          ]
        }
      ]
    }
  ]
}