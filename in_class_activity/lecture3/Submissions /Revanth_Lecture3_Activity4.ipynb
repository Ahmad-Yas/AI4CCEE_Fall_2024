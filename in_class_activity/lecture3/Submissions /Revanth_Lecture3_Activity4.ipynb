{
  "nbformat": 4,
  "nbformat_minor": 0,
  "metadata": {
    "colab": {
      "provenance": [],
      "authorship_tag": "ABX9TyPGRMwSXWSWfBhOKJ/Sda0b",
      "include_colab_link": true
    },
    "kernelspec": {
      "name": "python3",
      "display_name": "Python 3"
    },
    "language_info": {
      "name": "python"
    }
  },
  "cells": [
    {
      "cell_type": "markdown",
      "metadata": {
        "id": "view-in-github",
        "colab_type": "text"
      },
      "source": [
        "<a href=\"https://colab.research.google.com/github/Revanth810/AI4CCEE_Fall_2024/blob/main/in_class_activity/lecture3/Submissions%20/Revanth_Lecture3_Activity4.ipynb\" target=\"_parent\"><img src=\"https://colab.research.google.com/assets/colab-badge.svg\" alt=\"Open In Colab\"/></a>"
      ]
    },
    {
      "cell_type": "markdown",
      "source": [
        "# Lecture 3: Activity 4."
      ],
      "metadata": {
        "id": "C4re_ccLqVah"
      }
    },
    {
      "cell_type": "markdown",
      "source": [
        "Step 1: Import the Pandas library and any other necessary libraries (like Matplotlib)."
      ],
      "metadata": {
        "id": "E_eRLYrCqcVu"
      }
    },
    {
      "cell_type": "code",
      "source": [
        "import pandas as pd"
      ],
      "metadata": {
        "id": "gJ3wcEKSqbHm"
      },
      "execution_count": 1,
      "outputs": []
    },
    {
      "cell_type": "markdown",
      "source": [
        "Step 2: Load a sample dataset into a Pandas DataFrame. (Download it from https://github.com/BarkhaM21/AI4CCEE_Fall_2024/blob/main/in_class_activity/lecture3/235-NOV.csv)"
      ],
      "metadata": {
        "id": "0VVLc0vUq7HL"
      }
    },
    {
      "cell_type": "code",
      "source": [
        "!pip install --upgrade google-api-python-client google-auth-httplib2 google-auth-oauthlib\n",
        "\n",
        "from google.colab import auth\n",
        "from google.auth import default\n",
        "from googleapiclient.discovery import build\n",
        "from googleapiclient.http import MediaIoBaseDownload\n",
        "import io\n",
        "import pandas as pd\n",
        "\n",
        "# Authenticate and create the Drive API client.\n",
        "auth.authenticate_user()\n",
        "creds, _ = default()\n",
        "drive_service = build('drive', 'v3', credentials=creds)\n",
        "\n",
        "# Replace with your file ID.\n",
        "file_id = '13zvU2PGxRE4zvFA-4lsZSltARfmeK-8L'\n",
        "\n",
        "# Download the file content from Google Drive.\n",
        "request = drive_service.files().get_media(fileId=file_id)\n",
        "file_content = io.BytesIO()\n",
        "downloader = MediaIoBaseDownload(file_content, request)\n",
        "done = False\n",
        "while done is False:\n",
        "    status, done = downloader.next_chunk()\n",
        "    print(f\"Download {int(status.progress() * 100)}%.\")\n",
        "\n",
        "# Read the file content into a Pandas DataFrame.\n",
        "file_content.seek(0)\n",
        "df = pd.read_csv(file_content)\n",
        "\n",
        "print(df)"
      ],
      "metadata": {
        "colab": {
          "base_uri": "https://localhost:8080/"
        },
        "id": "szqkMxgXrA1c",
        "outputId": "bdbe3100-8fbd-48a2-aa76-8279fc4f4d4c"
      },
      "execution_count": 10,
      "outputs": [
        {
          "output_type": "stream",
          "name": "stdout",
          "text": [
            "Requirement already satisfied: google-api-python-client in /usr/local/lib/python3.10/dist-packages (2.149.0)\n",
            "Requirement already satisfied: google-auth-httplib2 in /usr/local/lib/python3.10/dist-packages (0.2.0)\n",
            "Requirement already satisfied: google-auth-oauthlib in /usr/local/lib/python3.10/dist-packages (1.2.1)\n",
            "Requirement already satisfied: httplib2<1.dev0,>=0.19.0 in /usr/local/lib/python3.10/dist-packages (from google-api-python-client) (0.22.0)\n",
            "Requirement already satisfied: google-auth!=2.24.0,!=2.25.0,<3.0.0.dev0,>=1.32.0 in /usr/local/lib/python3.10/dist-packages (from google-api-python-client) (2.27.0)\n",
            "Requirement already satisfied: google-api-core!=2.0.*,!=2.1.*,!=2.2.*,!=2.3.0,<3.0.0.dev0,>=1.31.5 in /usr/local/lib/python3.10/dist-packages (from google-api-python-client) (2.19.2)\n",
            "Requirement already satisfied: uritemplate<5,>=3.0.1 in /usr/local/lib/python3.10/dist-packages (from google-api-python-client) (4.1.1)\n",
            "Requirement already satisfied: requests-oauthlib>=0.7.0 in /usr/local/lib/python3.10/dist-packages (from google-auth-oauthlib) (1.3.1)\n",
            "Requirement already satisfied: googleapis-common-protos<2.0.dev0,>=1.56.2 in /usr/local/lib/python3.10/dist-packages (from google-api-core!=2.0.*,!=2.1.*,!=2.2.*,!=2.3.0,<3.0.0.dev0,>=1.31.5->google-api-python-client) (1.65.0)\n",
            "Requirement already satisfied: protobuf!=3.20.0,!=3.20.1,!=4.21.0,!=4.21.1,!=4.21.2,!=4.21.3,!=4.21.4,!=4.21.5,<6.0.0.dev0,>=3.19.5 in /usr/local/lib/python3.10/dist-packages (from google-api-core!=2.0.*,!=2.1.*,!=2.2.*,!=2.3.0,<3.0.0.dev0,>=1.31.5->google-api-python-client) (3.20.3)\n",
            "Requirement already satisfied: proto-plus<2.0.0dev,>=1.22.3 in /usr/local/lib/python3.10/dist-packages (from google-api-core!=2.0.*,!=2.1.*,!=2.2.*,!=2.3.0,<3.0.0.dev0,>=1.31.5->google-api-python-client) (1.24.0)\n",
            "Requirement already satisfied: requests<3.0.0.dev0,>=2.18.0 in /usr/local/lib/python3.10/dist-packages (from google-api-core!=2.0.*,!=2.1.*,!=2.2.*,!=2.3.0,<3.0.0.dev0,>=1.31.5->google-api-python-client) (2.32.3)\n",
            "Requirement already satisfied: cachetools<6.0,>=2.0.0 in /usr/local/lib/python3.10/dist-packages (from google-auth!=2.24.0,!=2.25.0,<3.0.0.dev0,>=1.32.0->google-api-python-client) (5.5.0)\n",
            "Requirement already satisfied: pyasn1-modules>=0.2.1 in /usr/local/lib/python3.10/dist-packages (from google-auth!=2.24.0,!=2.25.0,<3.0.0.dev0,>=1.32.0->google-api-python-client) (0.4.1)\n",
            "Requirement already satisfied: rsa<5,>=3.1.4 in /usr/local/lib/python3.10/dist-packages (from google-auth!=2.24.0,!=2.25.0,<3.0.0.dev0,>=1.32.0->google-api-python-client) (4.9)\n",
            "Requirement already satisfied: pyparsing!=3.0.0,!=3.0.1,!=3.0.2,!=3.0.3,<4,>=2.4.2 in /usr/local/lib/python3.10/dist-packages (from httplib2<1.dev0,>=0.19.0->google-api-python-client) (3.2.0)\n",
            "Requirement already satisfied: oauthlib>=3.0.0 in /usr/local/lib/python3.10/dist-packages (from requests-oauthlib>=0.7.0->google-auth-oauthlib) (3.2.2)\n",
            "Requirement already satisfied: pyasn1<0.7.0,>=0.4.6 in /usr/local/lib/python3.10/dist-packages (from pyasn1-modules>=0.2.1->google-auth!=2.24.0,!=2.25.0,<3.0.0.dev0,>=1.32.0->google-api-python-client) (0.6.1)\n",
            "Requirement already satisfied: charset-normalizer<4,>=2 in /usr/local/lib/python3.10/dist-packages (from requests<3.0.0.dev0,>=2.18.0->google-api-core!=2.0.*,!=2.1.*,!=2.2.*,!=2.3.0,<3.0.0.dev0,>=1.31.5->google-api-python-client) (3.4.0)\n",
            "Requirement already satisfied: idna<4,>=2.5 in /usr/local/lib/python3.10/dist-packages (from requests<3.0.0.dev0,>=2.18.0->google-api-core!=2.0.*,!=2.1.*,!=2.2.*,!=2.3.0,<3.0.0.dev0,>=1.31.5->google-api-python-client) (3.10)\n",
            "Requirement already satisfied: urllib3<3,>=1.21.1 in /usr/local/lib/python3.10/dist-packages (from requests<3.0.0.dev0,>=2.18.0->google-api-core!=2.0.*,!=2.1.*,!=2.2.*,!=2.3.0,<3.0.0.dev0,>=1.31.5->google-api-python-client) (2.2.3)\n",
            "Requirement already satisfied: certifi>=2017.4.17 in /usr/local/lib/python3.10/dist-packages (from requests<3.0.0.dev0,>=2.18.0->google-api-core!=2.0.*,!=2.1.*,!=2.2.*,!=2.3.0,<3.0.0.dev0,>=1.31.5->google-api-python-client) (2024.8.30)\n",
            "Download 100%.\n",
            "       owner-id network-id      date   time  utc-offset  start-ime  end-time  \\\n",
            "0        Q-Free     Q-Free  20211110  80900           0      80800     80900   \n",
            "1        Q-Free     Q-Free  20211110  80900           0      80800     80900   \n",
            "2        Q-Free     Q-Free  20211110  80900           0      80800     80900   \n",
            "3        Q-Free     Q-Free  20211110  80900           0      80800     80900   \n",
            "4        Q-Free     Q-Free  20211110  80900           0      80800     80900   \n",
            "...         ...        ...       ...    ...         ...        ...       ...   \n",
            "128775   Q-Free     Q-Free  20211109  50500           0      50400     50500   \n",
            "128776   Q-Free     Q-Free  20211109  50500           0      50400     50500   \n",
            "128777   Q-Free     Q-Free  20211109  50500           0      50400     50500   \n",
            "128778   Q-Free     Q-Free  20211109  50500           0      50400     50500   \n",
            "128779   Q-Free     Q-Free  20211109  50500           0      50400     50500   \n",
            "\n",
            "          detector-id status  lane-id  ...  small-class-count  \\\n",
            "0        DMDS20-WB EN     OK        1  ...                  0   \n",
            "1        DMDS20-WB RL     OK        4  ...                  0   \n",
            "2       DMDS20-WB RCL     OK        3  ...                  0   \n",
            "3       DMDS20-WB LCL     OK        2  ...                  0   \n",
            "4        DMDS20-WB LL     OK        1  ...                  0   \n",
            "...               ...    ...      ...  ...                ...   \n",
            "128775   DMDS20-EB LL     OK        1  ...                  0   \n",
            "128776  DMDS20-EB LCL     OK        2  ...                  0   \n",
            "128777  DMDS20-EB RCL     OK        3  ...                  1   \n",
            "128778   DMDS20-EB RL     OK        4  ...                  0   \n",
            "128779   DMDS20-EB EX     OK        1  ...                  0   \n",
            "\n",
            "        medium-class-count  large-class-count                device-id  \\\n",
            "0                        0                  0  OpenTMS-Detector46573-0   \n",
            "1                        1                  0  OpenTMS-Detector46573-1   \n",
            "2                        0                  0  OpenTMS-Detector46573-2   \n",
            "3                        0                  0  OpenTMS-Detector46573-3   \n",
            "4                        0                  0  OpenTMS-Detector46573-4   \n",
            "...                    ...                ...                      ...   \n",
            "128775                   2                  0  OpenTMS-Detector46573-5   \n",
            "128776                   2                  0  OpenTMS-Detector46573-6   \n",
            "128777                   4                  1  OpenTMS-Detector46573-7   \n",
            "128778                   2                  0  OpenTMS-Detector46573-8   \n",
            "128779                   0                  0  OpenTMS-Detector46573-9   \n",
            "\n",
            "        link-direction  detector-type sample-period device-description month  \\\n",
            "0                    w        unknown            60            ON_RAMP    11   \n",
            "1                    w        unknown            60             NORMAL    11   \n",
            "2                    w        unknown            60             NORMAL    11   \n",
            "3                    w        unknown            60             NORMAL    11   \n",
            "4                    w        unknown            60             NORMAL    11   \n",
            "...                ...            ...           ...                ...   ...   \n",
            "128775               e        unknown            60             NORMAL    11   \n",
            "128776               e        unknown            60             NORMAL    11   \n",
            "128777               e        unknown            60             NORMAL    11   \n",
            "128778               e        unknown            60             NORMAL    11   \n",
            "128779               e        unknown            60           OFF_RAMP    11   \n",
            "\n",
            "        day  \n",
            "0        10  \n",
            "1        10  \n",
            "2        10  \n",
            "3        10  \n",
            "4        10  \n",
            "...     ...  \n",
            "128775    8  \n",
            "128776    8  \n",
            "128777    8  \n",
            "128778    8  \n",
            "128779    8  \n",
            "\n",
            "[128780 rows x 23 columns]\n"
          ]
        }
      ]
    },
    {
      "cell_type": "markdown",
      "source": [
        "Step 3: Display the first few rows of the DataFrame to get a glimpse of the data."
      ],
      "metadata": {
        "id": "1nZGknmJs40u"
      }
    },
    {
      "cell_type": "code",
      "source": [
        "print(df.head())"
      ],
      "metadata": {
        "colab": {
          "base_uri": "https://localhost:8080/"
        },
        "id": "dKRjG4SHs7J2",
        "outputId": "43e3078b-f1ed-4db4-81a1-2030e2e9329a"
      },
      "execution_count": 11,
      "outputs": [
        {
          "output_type": "stream",
          "name": "stdout",
          "text": [
            "  owner-id network-id      date   time  utc-offset  start-ime  end-time  \\\n",
            "0   Q-Free     Q-Free  20211110  80900           0      80800     80900   \n",
            "1   Q-Free     Q-Free  20211110  80900           0      80800     80900   \n",
            "2   Q-Free     Q-Free  20211110  80900           0      80800     80900   \n",
            "3   Q-Free     Q-Free  20211110  80900           0      80800     80900   \n",
            "4   Q-Free     Q-Free  20211110  80900           0      80800     80900   \n",
            "\n",
            "     detector-id status  lane-id  ...  small-class-count  medium-class-count  \\\n",
            "0   DMDS20-WB EN     OK        1  ...                  0                   0   \n",
            "1   DMDS20-WB RL     OK        4  ...                  0                   1   \n",
            "2  DMDS20-WB RCL     OK        3  ...                  0                   0   \n",
            "3  DMDS20-WB LCL     OK        2  ...                  0                   0   \n",
            "4   DMDS20-WB LL     OK        1  ...                  0                   0   \n",
            "\n",
            "   large-class-count                device-id  link-direction  detector-type  \\\n",
            "0                  0  OpenTMS-Detector46573-0               w        unknown   \n",
            "1                  0  OpenTMS-Detector46573-1               w        unknown   \n",
            "2                  0  OpenTMS-Detector46573-2               w        unknown   \n",
            "3                  0  OpenTMS-Detector46573-3               w        unknown   \n",
            "4                  0  OpenTMS-Detector46573-4               w        unknown   \n",
            "\n",
            "  sample-period device-description month  day  \n",
            "0            60            ON_RAMP    11   10  \n",
            "1            60             NORMAL    11   10  \n",
            "2            60             NORMAL    11   10  \n",
            "3            60             NORMAL    11   10  \n",
            "4            60             NORMAL    11   10  \n",
            "\n",
            "[5 rows x 23 columns]\n"
          ]
        }
      ]
    },
    {
      "cell_type": "markdown",
      "source": [
        "Step 4: Examine the data types of each column and check for any missing values."
      ],
      "metadata": {
        "id": "czDDf1FStIKc"
      }
    },
    {
      "cell_type": "code",
      "source": [
        "print(df.info())"
      ],
      "metadata": {
        "colab": {
          "base_uri": "https://localhost:8080/"
        },
        "id": "N8mFfcO_tKir",
        "outputId": "01f5b9a2-a984-41df-9f8d-a80e38d9293f"
      },
      "execution_count": 12,
      "outputs": [
        {
          "output_type": "stream",
          "name": "stdout",
          "text": [
            "<class 'pandas.core.frame.DataFrame'>\n",
            "RangeIndex: 128780 entries, 0 to 128779\n",
            "Data columns (total 23 columns):\n",
            " #   Column              Non-Null Count   Dtype \n",
            "---  ------              --------------   ----- \n",
            " 0   owner-id            128780 non-null  object\n",
            " 1   network-id          128780 non-null  object\n",
            " 2   date                128780 non-null  int64 \n",
            " 3   time                128780 non-null  int64 \n",
            " 4   utc-offset          128780 non-null  int64 \n",
            " 5   start-ime           128780 non-null  int64 \n",
            " 6   end-time            128780 non-null  int64 \n",
            " 7   detector-id         128780 non-null  object\n",
            " 8   status              128780 non-null  object\n",
            " 9   lane-id             128780 non-null  int64 \n",
            " 10  lane-count          128780 non-null  int64 \n",
            " 11  lane-occupancy      128780 non-null  int64 \n",
            " 12  lane-speed          128780 non-null  int64 \n",
            " 13  small-class-count   128780 non-null  int64 \n",
            " 14  medium-class-count  128780 non-null  int64 \n",
            " 15  large-class-count   128780 non-null  int64 \n",
            " 16  device-id           128780 non-null  object\n",
            " 17  link-direction      128780 non-null  object\n",
            " 18  detector-type       128780 non-null  object\n",
            " 19  sample-period       128780 non-null  int64 \n",
            " 20  device-description  128780 non-null  object\n",
            " 21  month               128780 non-null  int64 \n",
            " 22  day                 128780 non-null  int64 \n",
            "dtypes: int64(15), object(8)\n",
            "memory usage: 22.6+ MB\n",
            "None\n"
          ]
        }
      ]
    },
    {
      "cell_type": "markdown",
      "source": [
        "Step 5: Get a summary of the dataset, including basic statistics like mean, median, and standard deviation for numerical columns."
      ],
      "metadata": {
        "id": "9g45TO7BtOXj"
      }
    },
    {
      "cell_type": "code",
      "source": [
        "import pandas as pd\n",
        "\n",
        "# Assuming 'df' is your dataframe\n",
        "\n",
        "# Generate summary statistics for numerical columns\n",
        "summary_stats = df.describe().transpose()\n",
        "\n",
        "# Add median to the summary statistics\n",
        "summary_stats['median'] = df.median(numeric_only=True)\n",
        "\n",
        "# Reorder the columns for better readability\n",
        "summary_stats = summary_stats[['mean', 'median', 'std', 'min', '25%', '50%', '75%', 'max']]\n",
        "\n",
        "# Display the summary statistics\n",
        "print(summary_stats)\n"
      ],
      "metadata": {
        "colab": {
          "base_uri": "https://localhost:8080/"
        },
        "id": "bPe0CgBHtTN0",
        "outputId": "c470fb86-9962-4147-b4b7-f7465fa7c72b"
      },
      "execution_count": 14,
      "outputs": [
        {
          "output_type": "stream",
          "name": "stdout",
          "text": [
            "                            mean      median           std         min  \\\n",
            "date                2.021111e+07  20211108.0      3.440028  20211102.0   \n",
            "time                1.179120e+05    120000.0  69021.866649         0.0   \n",
            "utc-offset          0.000000e+00         0.0      0.000000         0.0   \n",
            "start-ime           1.179324e+05    120000.0  69021.150108         0.0   \n",
            "end-time            1.179120e+05    120000.0  69021.866649         0.0   \n",
            "lane-id             2.200000e+00         2.0      1.166195         1.0   \n",
            "lane-count          9.634074e+00         7.0      8.714397         0.0   \n",
            "lane-occupancy      3.797197e+00         3.0      4.332574         0.0   \n",
            "lane-speed          6.116496e+01        61.0      6.787330         0.0   \n",
            "small-class-count   2.039602e-01         0.0      0.648766         0.0   \n",
            "medium-class-count  7.616548e+00         6.0      6.935575         0.0   \n",
            "large-class-count   1.581472e+00         1.0      2.237594         0.0   \n",
            "sample-period       6.000000e+01        60.0      0.000000        60.0   \n",
            "month               1.100000e+01        11.0      0.000000        11.0   \n",
            "day                 6.665942e+00         8.0      3.396851         2.0   \n",
            "\n",
            "                           25%         50%         75%         max  \n",
            "date                20211102.0  20211108.0  20211110.0  20211111.0  \n",
            "time                   60100.0    120000.0    175700.0    235900.0  \n",
            "utc-offset                 0.0         0.0         0.0         0.0  \n",
            "start-ime              60100.0    120000.0    175800.0    235900.0  \n",
            "end-time               60100.0    120000.0    175700.0    235900.0  \n",
            "lane-id                    1.0         2.0         3.0         4.0  \n",
            "lane-count                 2.0         7.0        16.0        51.0  \n",
            "lane-occupancy             0.0         3.0         6.0        99.0  \n",
            "lane-speed                58.0        61.0        64.0       143.0  \n",
            "small-class-count          0.0         0.0         0.0        17.0  \n",
            "medium-class-count         2.0         6.0        13.0        37.0  \n",
            "large-class-count          0.0         1.0         2.0        23.0  \n",
            "sample-period             60.0        60.0        60.0        60.0  \n",
            "month                     11.0        11.0        11.0        11.0  \n",
            "day                        2.0         8.0        10.0        10.0  \n"
          ]
        }
      ]
    },
    {
      "cell_type": "markdown",
      "source": [
        "Step 6: The 'time' column is in HHMMSS format. Convert this column to hours to simplify the analysis."
      ],
      "metadata": {
        "id": "GzlOsmrYuWbq"
      }
    },
    {
      "cell_type": "code",
      "source": [
        "import pandas as pd\n",
        "\n",
        "# Assuming 'df' is your dataframe\n",
        "\n",
        "# Convert 'time' column from string or integer (HHMMSS) to hours (decimal)\n",
        "def hhmmss_to_hours(time_value):\n",
        "    # Ensure the time value is a string and pad with zeros if needed\n",
        "    time_str = f\"{int(time_value):06d}\"  # Converts to zero-padded 6-digit string\n",
        "    hours = int(time_str[:2])\n",
        "    minutes = int(time_str[2:4])\n",
        "    seconds = int(time_str[4:])\n",
        "    # Convert to decimal hours\n",
        "    return hours + minutes / 60 + seconds / 3600\n",
        "\n",
        "# Apply the conversion to the 'time' column\n",
        "df['time_in_hours'] = df['time'].apply(hhmmss_to_hours)\n",
        "\n",
        "# Display the first few rows to verify the conversion\n",
        "print(df[['time', 'time_in_hours']].head())\n"
      ],
      "metadata": {
        "colab": {
          "base_uri": "https://localhost:8080/"
        },
        "id": "VuQrCGSJuZcr",
        "outputId": "0104dd3d-a9af-45f7-8bf1-fcf496040a90"
      },
      "execution_count": 15,
      "outputs": [
        {
          "output_type": "stream",
          "name": "stdout",
          "text": [
            "    time  time_in_hours\n",
            "0  80900           8.15\n",
            "1  80900           8.15\n",
            "2  80900           8.15\n",
            "3  80900           8.15\n",
            "4  80900           8.15\n"
          ]
        }
      ]
    },
    {
      "cell_type": "markdown",
      "source": [
        "Step 7: Calculate the average lane occupancy for each day to understand daily traffic patterns."
      ],
      "metadata": {
        "id": "iSq3ndW-u1D4"
      }
    },
    {
      "cell_type": "code",
      "source": [
        "# Convert 'date' to a proper datetime format (if it's not already)\n",
        "df['date'] = pd.to_datetime(df['date'], format='%Y%m%d')\n",
        "\n",
        "# Calculate average lane occupancy for each day (assuming 'lane-id' or relevant column represents occupancy)\n",
        "daily_occupancy = df.groupby(df['date'])['lane-id'].mean().reset_index()\n",
        "\n",
        "# Rename columns for clarity\n",
        "daily_occupancy.columns = ['date', 'avg_lane_occupancy']\n",
        "\n",
        "# Display the daily average lane occupancy\n",
        "print(daily_occupancy)"
      ],
      "metadata": {
        "colab": {
          "base_uri": "https://localhost:8080/"
        },
        "id": "WWnCAwBEu1aS",
        "outputId": "8aa1a465-9cc5-43bd-d7bc-fe6d753f2b85"
      },
      "execution_count": 16,
      "outputs": [
        {
          "output_type": "stream",
          "name": "stdout",
          "text": [
            "        date  avg_lane_occupancy\n",
            "0 2021-11-02                 2.2\n",
            "1 2021-11-03                 2.2\n",
            "2 2021-11-08                 2.2\n",
            "3 2021-11-09                 2.2\n",
            "4 2021-11-10                 2.2\n",
            "5 2021-11-11                 2.2\n"
          ]
        }
      ]
    },
    {
      "cell_type": "markdown",
      "source": [
        "Step 8: Find out which hour of the day has the highest average lane occupancy. This helps identify peak traffic hours."
      ],
      "metadata": {
        "id": "uCGHc0Xhu8xq"
      }
    },
    {
      "cell_type": "code",
      "source": [
        "# Extract hour from the 'time' column (in HHMMSS format)\n",
        "df['hour'] = df['time'].apply(lambda x: int(str(int(x)).zfill(6)[:2]))\n",
        "\n",
        "# Calculate average lane occupancy for each hour\n",
        "hourly_occupancy = df.groupby('hour')['lane-id'].mean().reset_index()\n",
        "\n",
        "# Rename columns for clarity\n",
        "hourly_occupancy.columns = ['hour', 'avg_lane_occupancy']\n",
        "\n",
        "# Find the hour with the highest average lane occupancy\n",
        "peak_hour = hourly_occupancy.loc[hourly_occupancy['avg_lane_occupancy'].idxmax()]\n",
        "\n",
        "# Display the hourly occupancy and peak hour information\n",
        "print(\"Hourly Average Lane Occupancy:\")\n",
        "print(hourly_occupancy)\n",
        "print(\"\\nPeak Traffic Hour:\")\n",
        "print(peak_hour)"
      ],
      "metadata": {
        "colab": {
          "base_uri": "https://localhost:8080/"
        },
        "id": "1JAB-uVwvAng",
        "outputId": "977ddb33-89ea-4f4c-d0ae-def72bed91a2"
      },
      "execution_count": 17,
      "outputs": [
        {
          "output_type": "stream",
          "name": "stdout",
          "text": [
            "Hourly Average Lane Occupancy:\n",
            "    hour  avg_lane_occupancy\n",
            "0      0            2.200000\n",
            "1      1            2.200000\n",
            "2      2            2.200000\n",
            "3      3            2.200000\n",
            "4      4            2.200000\n",
            "5      5            2.200000\n",
            "6      6            2.200000\n",
            "7      7            2.200000\n",
            "8      8            2.200000\n",
            "9      9            2.200000\n",
            "10    10            2.200000\n",
            "11    11            2.200000\n",
            "12    12            2.200445\n",
            "13    13            2.199557\n",
            "14    14            2.200000\n",
            "15    15            2.200000\n",
            "16    16            2.200000\n",
            "17    17            2.200000\n",
            "18    18            2.200000\n",
            "19    19            2.200000\n",
            "20    20            2.200000\n",
            "21    21            2.200000\n",
            "22    22            2.200000\n",
            "23    23            2.200000\n",
            "\n",
            "Peak Traffic Hour:\n",
            "hour                  12.000000\n",
            "avg_lane_occupancy     2.200445\n",
            "Name: 12, dtype: float64\n"
          ]
        }
      ]
    },
    {
      "cell_type": "markdown",
      "source": [
        "Step 9: Summarize the total lane counts based on different statuses (e.g. OK, Sensor Failure)"
      ],
      "metadata": {
        "id": "uPOTMQ2AvJzj"
      }
    },
    {
      "cell_type": "code",
      "source": [
        "# Group by 'status' and count the occurrences of each status\n",
        "status_summary = df.groupby('status')['lane-id'].count().reset_index()\n",
        "\n",
        "# Rename columns for clarity\n",
        "status_summary.columns = ['status', 'total_lane_count']\n",
        "\n",
        "# Display the status summary\n",
        "print(\"Total Lane Counts by Status:\")\n",
        "print(status_summary)"
      ],
      "metadata": {
        "colab": {
          "base_uri": "https://localhost:8080/"
        },
        "id": "cRk2P78LvPf7",
        "outputId": "79791da3-4304-4e21-9c20-0aa723175369"
      },
      "execution_count": 18,
      "outputs": [
        {
          "output_type": "stream",
          "name": "stdout",
          "text": [
            "Total Lane Counts by Status:\n",
            "           status  total_lane_count\n",
            "0              OK            128777\n",
            "1  SENSOR_FAILURE                 3\n"
          ]
        }
      ]
    },
    {
      "cell_type": "markdown",
      "source": [
        "Step 10: Compile and display the results of your analysis to summarize the findings."
      ],
      "metadata": {
        "id": "R2IjogAUvWDb"
      }
    },
    {
      "cell_type": "code",
      "source": [
        "# 1. Convert 'time' column from HHMMSS to hour and extract hour for grouping\n",
        "df['hour'] = df['time'].apply(lambda x: int(str(int(x)).zfill(6)[:2]))\n",
        "\n",
        "# 2. Convert 'date' column to datetime format\n",
        "df['date'] = pd.to_datetime(df['date'], format='%Y%m%d')\n",
        "\n",
        "# 3. Daily Average Lane Occupancy\n",
        "daily_occupancy = df.groupby('date')['lane-id'].mean().reset_index()\n",
        "daily_occupancy.columns = ['date', 'avg_lane_occupancy']\n",
        "\n",
        "# 4. Peak Traffic Hour (Highest Average Lane Occupancy)\n",
        "hourly_occupancy = df.groupby('hour')['lane-id'].mean().reset_index()\n",
        "hourly_occupancy.columns = ['hour', 'avg_lane_occupancy']\n",
        "peak_hour = hourly_occupancy.loc[hourly_occupancy['avg_lane_occupancy'].idxmax()]\n",
        "\n",
        "# 5. Total Lane Counts by Status\n",
        "status_summary = df.groupby('status')['lane-id'].count().reset_index()\n",
        "status_summary.columns = ['status', 'total_lane_count']\n",
        "\n",
        "# Display the results\n",
        "print(\"=== Daily Average Lane Occupancy ===\")\n",
        "print(daily_occupancy.head(), \"\\n\")\n",
        "\n",
        "print(\"=== Peak Traffic Hour (Highest Average Lane Occupancy) ===\")\n",
        "print(f\"Hour: {peak_hour['hour']} | Avg Lane Occupancy: {peak_hour['avg_lane_occupancy']}\\n\")\n",
        "\n",
        "print(\"=== Total Lane Counts by Status ===\")\n",
        "print(status_summary)"
      ],
      "metadata": {
        "colab": {
          "base_uri": "https://localhost:8080/"
        },
        "id": "44SoffZpvZ-V",
        "outputId": "5ae9b63b-4518-4a3e-dd64-7d590a7bf48d"
      },
      "execution_count": 19,
      "outputs": [
        {
          "output_type": "stream",
          "name": "stdout",
          "text": [
            "=== Daily Average Lane Occupancy ===\n",
            "        date  avg_lane_occupancy\n",
            "0 2021-11-02                 2.2\n",
            "1 2021-11-03                 2.2\n",
            "2 2021-11-08                 2.2\n",
            "3 2021-11-09                 2.2\n",
            "4 2021-11-10                 2.2 \n",
            "\n",
            "=== Peak Traffic Hour (Highest Average Lane Occupancy) ===\n",
            "Hour: 12.0 | Avg Lane Occupancy: 2.200444609114487\n",
            "\n",
            "=== Total Lane Counts by Status ===\n",
            "           status  total_lane_count\n",
            "0              OK            128777\n",
            "1  SENSOR_FAILURE                 3\n"
          ]
        }
      ]
    }
  ]
}