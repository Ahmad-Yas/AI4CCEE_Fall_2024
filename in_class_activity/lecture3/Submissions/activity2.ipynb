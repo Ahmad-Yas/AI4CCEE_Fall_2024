{
  "cells": [
    {
      "cell_type": "code",
      "execution_count": null,
      "metadata": {
        "colab": {
          "base_uri": "https://localhost:8080/"
        },
        "id": "w8kLUrR1XXgj",
        "outputId": "55965eca-6d17-405e-9c5b-98a757a10d65"
      },
      "outputs": [
        {
          "name": "stdout",
          "output_type": "stream",
          "text": [
            "Hello Python!\n"
          ]
        }
      ],
      "source": [
        "print(\"Hello Python!\")"
      ]
    },
    {
      "cell_type": "code",
      "execution_count": null,
      "metadata": {
        "id": "1MrlmtI6XlkK"
      },
      "outputs": [],
      "source": []
    },
    {
      "cell_type": "code",
      "execution_count": null,
      "metadata": {
        "colab": {
          "base_uri": "https://localhost:8080/"
        },
        "id": "YwckDJXsXl8x",
        "outputId": "f3170636-491c-4fbb-e019-462f333e9d1f"
      },
      "outputs": [
        {
          "name": "stdout",
          "output_type": "stream",
          "text": [
            "Hello my name is Ping, and I am 27 years old\n"
          ]
        }
      ],
      "source": [
        "name = \"Ping\"\n",
        "age = 27\n",
        "print(f\"Hello my name is {name}, and I am {age} years old\")\n"
      ]
    },
    {
      "cell_type": "code",
      "execution_count": null,
      "metadata": {
        "colab": {
          "base_uri": "https://localhost:8080/"
        },
        "id": "hoHaUwlxXzwA",
        "outputId": "d1cc4601-da74-4cbe-8909-54d62946de33"
      },
      "outputs": [
        {
          "name": "stdout",
          "output_type": "stream",
          "text": [
            "HELLO MY NAME IS PING, AND I AM 27 YEARS OLD\n",
            "hello my name is ping, and i am 27 years old\n"
          ]
        }
      ],
      "source": [
        "sentence = f\"Hello my name is {name}, and I am {age} years old\"\n",
        "print(sentence.upper())\n",
        "print(sentence.lower())"
      ]
    },
    {
      "cell_type": "code",
      "execution_count": null,
      "metadata": {
        "colab": {
          "background_save": true,
          "base_uri": "https://localhost:8080/"
        },
        "id": "gL-ambwsZQ0j",
        "outputId": "e397930b-397d-4707-f8f3-a7a4491fc5f9"
      },
      "outputs": [
        {
          "name": "stdout",
          "output_type": "stream",
          "text": [
            "Hello my name is Ping, I love running\n"
          ]
        }
      ],
      "source": [
        "hobby = \"running\"\n",
        "new_sentence = f\"Hello my name is {name}, I love {hobby}\"\n",
        "print(new_sentence)"
      ]
    },
    {
      "cell_type": "code",
      "execution_count": null,
      "metadata": {
        "id": "uk5RBKEbblc7"
      },
      "outputs": [],
      "source": []
    }
  ],
  "metadata": {
    "colab": {
      "provenance": []
    },
    "kernelspec": {
      "display_name": "Python 3",
      "name": "python3"
    },
    "language_info": {
      "name": "python"
    }
  },
  "nbformat": 4,
  "nbformat_minor": 0
}