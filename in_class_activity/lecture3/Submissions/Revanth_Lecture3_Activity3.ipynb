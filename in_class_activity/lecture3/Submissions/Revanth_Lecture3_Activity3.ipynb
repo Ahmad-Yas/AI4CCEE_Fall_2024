{
  "nbformat": 4,
  "nbformat_minor": 0,
  "metadata": {
    "colab": {
      "provenance": [],
      "authorship_tag": "ABX9TyOEGfBXJwSC0BHzFMG4nJs7",
      "include_colab_link": true
    },
    "kernelspec": {
      "name": "python3",
      "display_name": "Python 3"
    },
    "language_info": {
      "name": "python"
    }
  },
  "cells": [
    {
      "cell_type": "markdown",
      "metadata": {
        "id": "view-in-github",
        "colab_type": "text"
      },
      "source": [
        "<a href=\"https://colab.research.google.com/github/Revanth810/AI4CCEE_Fall_2024/blob/main/in_class_activity/lecture3/Submissions/Revanth_Lecture3_Activity3.ipynb\" target=\"_parent\"><img src=\"https://colab.research.google.com/assets/colab-badge.svg\" alt=\"Open In Colab\"/></a>"
      ]
    },
    {
      "cell_type": "markdown",
      "source": [
        "# Lecture 3: Activity 3."
      ],
      "metadata": {
        "id": "bfcqX2kJoFIx"
      }
    },
    {
      "cell_type": "markdown",
      "source": [
        "Step 1: Define variables to store the costs and quantities for asphalt_unit_cost, asphalt_quantity, concrete_unit_cost, concrete_quantity, labor_unit_cost, labor_hours."
      ],
      "metadata": {
        "id": "HzHtxg4RoKxq"
      }
    },
    {
      "cell_type": "code",
      "execution_count": 10,
      "metadata": {
        "id": "nNi4p5MqoAYQ"
      },
      "outputs": [],
      "source": [
        "asphalt_unit_cost = 40 #40 dollars per ton.\n",
        "asphalt_quantity = 250 #tons\n",
        "concrete_unit_cost = 120 #120 dollars per cubic yard\n",
        "concrete_quantity = 400\n",
        "labor_unit_cost = 20 #20 dollars per hour\n",
        "labor_hours = 300"
      ]
    },
    {
      "cell_type": "markdown",
      "source": [
        "Step 2: Prompt the user to input values for all the variables.(* can check with chat engine on how to prompt)."
      ],
      "metadata": {
        "id": "KcIMi7J3oZ5Y"
      }
    },
    {
      "cell_type": "code",
      "source": [
        "asphalt_total_cost = asphalt_unit_cost * asphalt_quantity\n",
        "concrete_total_cost = concrete_unit_cost * concrete_quantity\n",
        "labor_total_cost = labor_unit_cost * labor_hours"
      ],
      "metadata": {
        "id": "at7ax1F5ojdF"
      },
      "execution_count": 11,
      "outputs": []
    },
    {
      "cell_type": "markdown",
      "source": [
        "Step 3: Calculate the total costs for each material and labor by multiplying unit cost by quantity. For eg: asphalt_total_cost = asphalt_unit_cost * asphalt_quantity."
      ],
      "metadata": {
        "id": "xKK-Q0OWooHP"
      }
    },
    {
      "cell_type": "code",
      "source": [
        "total_project_cost = asphalt_total_cost + concrete_total_cost + labor_total_cost"
      ],
      "metadata": {
        "id": "TR95PXRMove-"
      },
      "execution_count": 12,
      "outputs": []
    },
    {
      "cell_type": "markdown",
      "source": [
        "Step 4: Add total cost for asphalt, concrete and labor to compute overall project cost."
      ],
      "metadata": {
        "id": "zLrrXV3aoyoH"
      }
    },
    {
      "cell_type": "code",
      "source": [
        "print(\"\\n---- Project Cost Breakdown ----\")\n",
        "print(f\"Asphalt Total Cost: ${asphalt_total_cost:.2f}\")\n",
        "print(f\"Concrete Total Cost: ${concrete_total_cost:.2f}\")\n",
        "print(f\"Labor Total Cost: ${labor_total_cost:.2f}\")\n",
        "print(f\"Total Project Cost: ${total_project_cost:.2f}\")"
      ],
      "metadata": {
        "colab": {
          "base_uri": "https://localhost:8080/"
        },
        "id": "O8D-ZFEKo5w5",
        "outputId": "5735d830-a31a-4d37-bd11-56d285a6a8cf"
      },
      "execution_count": 13,
      "outputs": [
        {
          "output_type": "stream",
          "name": "stdout",
          "text": [
            "\n",
            "---- Project Cost Breakdown ----\n",
            "Asphalt Total Cost: $10000.00\n",
            "Concrete Total Cost: $48000.00\n",
            "Labor Total Cost: $6000.00\n",
            "Total Project Cost: $64000.00\n"
          ]
        }
      ]
    },
    {
      "cell_type": "markdown",
      "source": [
        "Step 5: Print the costs for each category and the total project cost."
      ],
      "metadata": {
        "id": "CsGeTlTLo8m_"
      }
    },
    {
      "cell_type": "code",
      "source": [
        "budget = 50000\n",
        "if total_project_cost <= budget:\n",
        "    print(\"\\nThe project is under budget.\")\n",
        "else:\n",
        "    print(\"\\nThe project is over budget.\")"
      ],
      "metadata": {
        "colab": {
          "base_uri": "https://localhost:8080/"
        },
        "id": "v4tsBuEZpBzJ",
        "outputId": "c0fe4f60-a16e-4af9-b40c-66bd951c3088"
      },
      "execution_count": 14,
      "outputs": [
        {
          "output_type": "stream",
          "name": "stdout",
          "text": [
            "\n",
            "The project is over budget.\n"
          ]
        }
      ]
    }
  ]
}