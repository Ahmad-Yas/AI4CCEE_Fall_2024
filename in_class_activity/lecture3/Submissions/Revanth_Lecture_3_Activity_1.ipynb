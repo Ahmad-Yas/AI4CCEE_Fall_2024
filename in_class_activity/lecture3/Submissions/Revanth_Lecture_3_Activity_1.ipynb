{
  "nbformat": 4,
  "nbformat_minor": 0,
  "metadata": {
    "colab": {
      "provenance": [],
      "authorship_tag": "ABX9TyPxoQt0Ua7PAbqNp0n2F0Wb",
      "include_colab_link": true
    },
    "kernelspec": {
      "name": "python3",
      "display_name": "Python 3"
    },
    "language_info": {
      "name": "python"
    }
  },
  "cells": [
    {
      "cell_type": "markdown",
      "metadata": {
        "id": "view-in-github",
        "colab_type": "text"
      },
      "source": [
        "<a href=\"https://colab.research.google.com/github/Revanth810/AI4CCEE_Fall_2024/blob/main/in_class_activity/lecture3/Submissions/Revanth_Lecture_3_Activity_1.ipynb\" target=\"_parent\"><img src=\"https://colab.research.google.com/assets/colab-badge.svg\" alt=\"Open In Colab\"/></a>"
      ]
    },
    {
      "cell_type": "markdown",
      "source": [
        "\n",
        "# **Activity 1**\n",
        "\n"
      ],
      "metadata": {
        "id": "-VP7OM0kijZ4"
      }
    },
    {
      "cell_type": "markdown",
      "source": [
        "Step 1: Linux command to create a folder named act_2."
      ],
      "metadata": {
        "id": "Haezbl3OhFGL"
      }
    },
    {
      "cell_type": "code",
      "execution_count": 7,
      "metadata": {
        "colab": {
          "base_uri": "https://localhost:8080/"
        },
        "id": "h4kvx-Zse0Nw",
        "outputId": "aadda259-a06e-4b62-8516-4987ebf5a828"
      },
      "outputs": [
        {
          "output_type": "stream",
          "name": "stdout",
          "text": [
            "mkdir: cannot create directory ‘act_2’: File exists\n"
          ]
        }
      ],
      "source": [
        "!mkdir act_2"
      ]
    },
    {
      "cell_type": "markdown",
      "source": [
        "Step 2: Make the act_2 as the current working directory."
      ],
      "metadata": {
        "id": "zLUtyLngix6J"
      }
    },
    {
      "cell_type": "code",
      "source": [
        "%cd act_2"
      ],
      "metadata": {
        "colab": {
          "base_uri": "https://localhost:8080/"
        },
        "id": "2_3YTOIIhc5C",
        "outputId": "2804d1a7-75ed-479e-8469-cf675f348ac4"
      },
      "execution_count": 8,
      "outputs": [
        {
          "output_type": "stream",
          "name": "stdout",
          "text": [
            "/content/act_2\n"
          ]
        }
      ]
    },
    {
      "cell_type": "markdown",
      "source": [
        "Step 3: Print the current working directory."
      ],
      "metadata": {
        "id": "hJY9iSbsjOmK"
      }
    },
    {
      "cell_type": "code",
      "source": [
        "!pwd"
      ],
      "metadata": {
        "colab": {
          "base_uri": "https://localhost:8080/"
        },
        "id": "HF3ycJhOhjlZ",
        "outputId": "70663364-eaf6-4721-a110-021bb85ba374"
      },
      "execution_count": 9,
      "outputs": [
        {
          "output_type": "stream",
          "name": "stdout",
          "text": [
            "/content/act_2\n"
          ]
        }
      ]
    },
    {
      "cell_type": "markdown",
      "source": [
        "Create a file in the act_2 directory."
      ],
      "metadata": {
        "id": "b_dbGIRtjWBR"
      }
    },
    {
      "cell_type": "code",
      "source": [
        "!touch L3_Activity1.txt"
      ],
      "metadata": {
        "id": "lln_m0p0hv1e"
      },
      "execution_count": 10,
      "outputs": []
    },
    {
      "cell_type": "markdown",
      "source": [
        "Creating Shell script that prints a message and lists files in act_2 folder."
      ],
      "metadata": {
        "id": "3oDdzZYujdqR"
      }
    },
    {
      "cell_type": "code",
      "source": [
        "\n",
        "!echo -e '#!/bin/bash\\n echo \"Welcome to the new directory act_2. The files in the directory are as below:\"\\n ls' > script.sh\n",
        "!chmod +x script.sh"
      ],
      "metadata": {
        "id": "tjeLF4OwiD_5"
      },
      "execution_count": 13,
      "outputs": []
    },
    {
      "cell_type": "code",
      "source": [
        "!./script.sh"
      ],
      "metadata": {
        "colab": {
          "base_uri": "https://localhost:8080/"
        },
        "id": "BPEgTXaolA4Q",
        "outputId": "ea608211-36a4-43ae-effd-25409c0dafcb"
      },
      "execution_count": 14,
      "outputs": [
        {
          "output_type": "stream",
          "name": "stdout",
          "text": [
            "Welcome to the new directory act_2. The files in the directory are as below:\n",
            "L3_Activity1.txt  script.sh\n"
          ]
        }
      ]
    }
  ]
}