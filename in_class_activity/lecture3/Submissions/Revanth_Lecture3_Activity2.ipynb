{
  "nbformat": 4,
  "nbformat_minor": 0,
  "metadata": {
    "colab": {
      "provenance": [],
      "authorship_tag": "ABX9TyP9qPyRhpV+kJhhXpoW76Xo",
      "include_colab_link": true
    },
    "kernelspec": {
      "name": "python3",
      "display_name": "Python 3"
    },
    "language_info": {
      "name": "python"
    }
  },
  "cells": [
    {
      "cell_type": "markdown",
      "metadata": {
        "id": "view-in-github",
        "colab_type": "text"
      },
      "source": [
        "<a href=\"https://colab.research.google.com/github/Revanth810/AI4CCEE_Fall_2024/blob/main/in_class_activity/lecture3/Submissions/Revanth_Lecture3_Activity2.ipynb\" target=\"_parent\"><img src=\"https://colab.research.google.com/assets/colab-badge.svg\" alt=\"Open In Colab\"/></a>"
      ]
    },
    {
      "cell_type": "markdown",
      "source": [
        "##Lecture 3: Activity 2##"
      ],
      "metadata": {
        "id": "59RddXOGltOR"
      }
    },
    {
      "cell_type": "markdown",
      "source": [
        "Step 1: Run hello python code in new notebook."
      ],
      "metadata": {
        "id": "2wmcNp0tl0D5"
      }
    },
    {
      "cell_type": "code",
      "execution_count": 1,
      "metadata": {
        "colab": {
          "base_uri": "https://localhost:8080/"
        },
        "id": "2buR1XP0lfpM",
        "outputId": "90a86d73-ca41-447c-e0af-6f0440a22132"
      },
      "outputs": [
        {
          "output_type": "stream",
          "name": "stdout",
          "text": [
            "Hello, Python!\n"
          ]
        }
      ],
      "source": [
        "print(\"Hello, Python!\")"
      ]
    },
    {
      "cell_type": "markdown",
      "source": [
        "Step2: Create a variable for your name and age. Print “ Hello my name is <your_name > and I am {age} years old!"
      ],
      "metadata": {
        "id": "eZ2eadyEl-dD"
      }
    },
    {
      "cell_type": "code",
      "source": [
        "#Create Variables\n",
        "name = \"Revanth Mamidala\"\n",
        "age = 28\n",
        "#Print the text.\n",
        "print(f\"Hello, my name is {name} and I am {age} years old!\")"
      ],
      "metadata": {
        "colab": {
          "base_uri": "https://localhost:8080/"
        },
        "id": "icq6JJy7mJqJ",
        "outputId": "7846eeaf-3259-4a61-a099-59bccf81c4af"
      },
      "execution_count": 2,
      "outputs": [
        {
          "output_type": "stream",
          "name": "stdout",
          "text": [
            "Hello, my name is Revanth Mamidala and I am 28 years old!\n"
          ]
        }
      ]
    },
    {
      "cell_type": "markdown",
      "source": [
        "Step 3: Print the sentence in all upper case and all lower case."
      ],
      "metadata": {
        "id": "jMMHmoYlmdIA"
      }
    },
    {
      "cell_type": "code",
      "source": [
        "#Save the string in a variable.\n",
        "sentence = f\"Hello, my name is {name} and I am {age} years old!\"\n",
        "print(sentence.upper())\n",
        "print(sentence.lower())"
      ],
      "metadata": {
        "colab": {
          "base_uri": "https://localhost:8080/"
        },
        "id": "OGRYpA_rmfjP",
        "outputId": "1b164456-b62b-4648-8ce0-cd32e3bb243c"
      },
      "execution_count": 4,
      "outputs": [
        {
          "output_type": "stream",
          "name": "stdout",
          "text": [
            "HELLO, MY NAME IS REVANTH MAMIDALA AND I AM 28 YEARS OLD!\n",
            "hello, my name is revanth mamidala and i am 28 years old!\n"
          ]
        }
      ]
    },
    {
      "cell_type": "markdown",
      "source": [
        "Step 4: Create new text variable hobby. Replace “I am {age} years old!” with “I love ```<hobby>```.”"
      ],
      "metadata": {
        "id": "30tZNOCJmvpO"
      }
    },
    {
      "cell_type": "code",
      "source": [
        "#Save the hobby as string\n",
        "hobby = \"Playing Volleyball.\"\n",
        "#Create a new sentense and save the string.\n",
        "new_sentence = f\"Hello, my name is {name} and I love {hobby}.\"\n",
        "#Print the sentence.\n",
        "print(new_sentence)\n",
        ""
      ],
      "metadata": {
        "colab": {
          "base_uri": "https://localhost:8080/"
        },
        "id": "uN2Khg-fmmVf",
        "outputId": "598fb78f-1ac9-4fb2-e93a-d87ad922366c"
      },
      "execution_count": 7,
      "outputs": [
        {
          "output_type": "stream",
          "name": "stdout",
          "text": [
            "Hello, my name is Revanth Mamidala and I love Playing Volleyball..\n"
          ]
        }
      ]
    }
  ]
}