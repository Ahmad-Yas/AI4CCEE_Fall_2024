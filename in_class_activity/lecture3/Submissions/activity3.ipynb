{
  "nbformat": 4,
  "nbformat_minor": 0,
  "metadata": {
    "colab": {
      "provenance": []
    },
    "kernelspec": {
      "name": "python3",
      "display_name": "Python 3"
    },
    "language_info": {
      "name": "python"
    }
  },
  "cells": [
    {
      "cell_type": "code",
      "source": [
        "asphalt_unit_cost = 0\n",
        "asphalt_quantity = 0\n",
        "concrete_unit_cost = 0\n",
        "concrete_quantity = 0\n",
        "labor_unit_cost = 0\n",
        "labor_hours = 0"
      ],
      "metadata": {
        "id": "ZdXy9cZwfcPy"
      },
      "execution_count": null,
      "outputs": []
    },
    {
      "cell_type": "code",
      "source": [
        "asphalt_cost = asphalt_unit_cost * asphalt_quantity\n",
        "concrete_cost = concrete_unit_cost * concrete_quantity\n",
        "labor_cost = labor_unit_cost * labor_hours\n",
        "total_cost = asphalt_cost + concrete_cost + labor_cost\n"
      ],
      "metadata": {
        "id": "adU9kSUafzbN"
      },
      "execution_count": null,
      "outputs": []
    },
    {
      "cell_type": "code",
      "source": [
        "print(\"\\n-total Cost =\")\n",
        "print(f\"Asphalt Cost: {asphalt_cost}\")\n",
        "print(f\"Concrete Cost: {concrete_cost}\")\n",
        "print(f\"Labor Cost: {labor_cost}\")\n",
        "print(f\"Total Cost: {total_cost}\")"
      ],
      "metadata": {
        "colab": {
          "base_uri": "https://localhost:8080/"
        },
        "id": "AzpqiOpngAet",
        "outputId": "b2abdf6f-23f3-44a6-eed3-3424f308a077"
      },
      "execution_count": null,
      "outputs": [
        {
          "output_type": "stream",
          "name": "stdout",
          "text": [
            "\n",
            "-total Cost =\n",
            "Asphalt Cost: 0\n",
            "Concrete Cost: 0\n",
            "Labor Cost: 0\n",
            "Total Cost: 0\n"
          ]
        }
      ]
    },
    {
      "cell_type": "code",
      "source": [
        "budget = 50000\n",
        "if total_cost <= budget:\n",
        "    print(\"The project is under budget.\")\n",
        "else:\n",
        "    print(\"The project is over budget.\")"
      ],
      "metadata": {
        "colab": {
          "base_uri": "https://localhost:8080/"
        },
        "id": "dbTc2xAih2ML",
        "outputId": "3e780922-5f0a-4929-ba00-101564756fc7"
      },
      "execution_count": null,
      "outputs": [
        {
          "output_type": "stream",
          "name": "stdout",
          "text": [
            "The project is under budget.\n"
          ]
        }
      ]
    }
  ]
}