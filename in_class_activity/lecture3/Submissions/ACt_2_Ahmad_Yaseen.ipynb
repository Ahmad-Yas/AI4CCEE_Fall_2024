{
  "nbformat": 4,
  "nbformat_minor": 0,
  "metadata": {
    "colab": {
      "provenance": []
    },
    "kernelspec": {
      "name": "python3",
      "display_name": "Python 3"
    },
    "language_info": {
      "name": "python"
    }
  },
  "cells": [
    {
      "cell_type": "code",
      "execution_count": null,
      "metadata": {
        "colab": {
          "base_uri": "https://localhost:8080/"
        },
        "id": "jNrwub8oWSGp",
        "outputId": "7bc0abe9-aed2-46df-90b9-a598387e6f95"
      },
      "outputs": [
        {
          "output_type": "stream",
          "name": "stdout",
          "text": [
            "Hello, Python!\n"
          ]
        }
      ],
      "source": [
        "print(\"Hello, Python!\")"
      ]
    },
    {
      "cell_type": "code",
      "source": [
        "name = \"Ahmad\"\n",
        "age = 31\n",
        "print(f\"Hello, my name is {name} and I am {age} years old!\")"
      ],
      "metadata": {
        "colab": {
          "base_uri": "https://localhost:8080/"
        },
        "id": "mO9jXisvW3IZ",
        "outputId": "ffac6da4-0b67-4794-f719-ec2a9b27b889"
      },
      "execution_count": null,
      "outputs": [
        {
          "output_type": "stream",
          "name": "stdout",
          "text": [
            "Hello, my name is Ahmad and I am 31 years old!\n"
          ]
        }
      ]
    },
    {
      "cell_type": "code",
      "source": [
        "sentence = f\"Hello, my name is {name} and I am {age} years old!\"\n",
        "print(sentence.upper())\n",
        "print(sentence.lower())"
      ],
      "metadata": {
        "colab": {
          "base_uri": "https://localhost:8080/"
        },
        "id": "mqm7AftCW8Jj",
        "outputId": "a6118470-3568-4138-e07c-571022e2a87c"
      },
      "execution_count": null,
      "outputs": [
        {
          "output_type": "stream",
          "name": "stdout",
          "text": [
            "HELLO, MY NAME IS AHMAD AND I AM 31 YEARS OLD!\n",
            "hello, my name is ahmad and i am 31 years old!\n"
          ]
        }
      ]
    },
    {
      "cell_type": "code",
      "source": [
        "hobby = \"Reading\"\n",
        "new_sentence = f\"Hello, my name is {name} and I love {hobby}.\"\n",
        "print(new_sentence)"
      ],
      "metadata": {
        "colab": {
          "base_uri": "https://localhost:8080/"
        },
        "id": "V6VOfYe_XCQ3",
        "outputId": "217fa98c-3c2b-4a36-b140-c79bd2b67661"
      },
      "execution_count": null,
      "outputs": [
        {
          "output_type": "stream",
          "name": "stdout",
          "text": [
            "Hello, my name is Ahmad and I love Reading.\n"
          ]
        }
      ]
    }
  ]
}