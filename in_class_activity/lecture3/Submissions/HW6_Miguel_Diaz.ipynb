{
  "cells": [
    {
      "cell_type": "markdown",
      "metadata": {
        "id": "view-in-github",
        "colab_type": "text"
      },
      "source": [
        "<a href=\"https://colab.research.google.com/github/miguel-source/AI4CCEE_Fall_2024/blob/main/HW6_Miguel_Diaz.ipynb\" target=\"_parent\"><img src=\"https://colab.research.google.com/assets/colab-badge.svg\" alt=\"Open In Colab\"/></a>"
      ]
    },
    {
      "cell_type": "code",
      "source": [
        "!mnt"
      ],
      "metadata": {
        "id": "69PIXDwm-tdQ",
        "outputId": "9a612255-f7ac-457b-d14a-ee15ae8129e6",
        "colab": {
          "base_uri": "https://localhost:8080/"
        }
      },
      "execution_count": null,
      "outputs": [
        {
          "output_type": "stream",
          "name": "stdout",
          "text": [
            "/bin/bash: line 1: mnt: command not found\n"
          ]
        }
      ]
    },
    {
      "cell_type": "code",
      "source": [
        "ls"
      ],
      "metadata": {
        "id": "puj2bl0TBN4B",
        "outputId": "0f960313-9337-4f45-9843-2ba4b9ae9603",
        "colab": {
          "base_uri": "https://localhost:8080/"
        }
      },
      "execution_count": null,
      "outputs": [
        {
          "output_type": "stream",
          "name": "stdout",
          "text": [
            "2018-06-30-18-50.jpg  235-Nov.csv  example.csv  \u001b[0m\u001b[01;34mSubmissions\u001b[0m/\n"
          ]
        }
      ]
    },
    {
      "cell_type": "code",
      "source": [
        "cd home"
      ],
      "metadata": {
        "id": "ariKCK-6BOVY",
        "outputId": "27bd48e0-1b62-43d3-d204-92c09d4d0ed4",
        "colab": {
          "base_uri": "https://localhost:8080/"
        }
      },
      "execution_count": null,
      "outputs": [
        {
          "output_type": "stream",
          "name": "stdout",
          "text": [
            "[Errno 2] No such file or directory: 'home'\n",
            "/mnt/AI4CCEE_Fall_2024/in_class_activity/lecture3\n"
          ]
        }
      ]
    },
    {
      "cell_type": "code",
      "source": [
        "ls"
      ],
      "metadata": {
        "id": "I5JUwpXNBWMa",
        "colab": {
          "base_uri": "https://localhost:8080/"
        },
        "outputId": "7fe77129-d6be-4333-8bb9-66f297a872de"
      },
      "execution_count": null,
      "outputs": [
        {
          "output_type": "stream",
          "name": "stdout",
          "text": [
            "2018-06-30-18-50.jpg  235-Nov.csv  example.csv  \u001b[0m\u001b[01;34mSubmissions\u001b[0m/\n"
          ]
        }
      ]
    },
    {
      "cell_type": "code",
      "source": [
        "cd .."
      ],
      "metadata": {
        "id": "pVfNOMPJBWlw",
        "outputId": "b32ea051-349d-48fd-e03d-7ce9dc3f9997",
        "colab": {
          "base_uri": "https://localhost:8080/"
        }
      },
      "execution_count": null,
      "outputs": [
        {
          "output_type": "stream",
          "name": "stdout",
          "text": [
            "/mnt/AI4CCEE_Fall_2024/in_class_activity\n"
          ]
        }
      ]
    },
    {
      "cell_type": "code",
      "source": [
        "cd mnt"
      ],
      "metadata": {
        "id": "1r5joD2dBZXC",
        "outputId": "51d79552-6c9f-4631-f3a9-1c28701a4f50",
        "colab": {
          "base_uri": "https://localhost:8080/"
        }
      },
      "execution_count": null,
      "outputs": [
        {
          "output_type": "stream",
          "name": "stdout",
          "text": [
            "[Errno 2] No such file or directory: 'mnt'\n",
            "/mnt/AI4CCEE_Fall_2024/in_class_activity\n"
          ]
        }
      ]
    },
    {
      "cell_type": "code",
      "source": [
        "mkdir data"
      ],
      "metadata": {
        "id": "AgSTuduKBaTy"
      },
      "execution_count": null,
      "outputs": []
    },
    {
      "cell_type": "code",
      "source": [
        "ls"
      ],
      "metadata": {
        "id": "KEHSIUzkBday",
        "outputId": "d43a5c9b-6cec-4a55-d061-4f16f4d0061a",
        "colab": {
          "base_uri": "https://localhost:8080/"
        }
      },
      "execution_count": null,
      "outputs": [
        {
          "output_type": "stream",
          "name": "stdout",
          "text": [
            "\u001b[0m\u001b[01;34mdata\u001b[0m/  \u001b[01;34mlecture2\u001b[0m/  \u001b[01;34mlecture3\u001b[0m/  \u001b[01;34mlecture4\u001b[0m/  README.md\n"
          ]
        }
      ]
    },
    {
      "cell_type": "code",
      "source": [
        "# Step 1: Clone the repository\n",
        "!git clone https://github.com/BarkhaM21/AI4CCEE_Fall_2024.git\n"
      ],
      "metadata": {
        "id": "ujBlfZalBdxh",
        "outputId": "cd3976b0-7318-4e8f-ec63-53eb3d5edcaa",
        "colab": {
          "base_uri": "https://localhost:8080/"
        }
      },
      "execution_count": null,
      "outputs": [
        {
          "output_type": "stream",
          "name": "stdout",
          "text": [
            "Cloning into 'AI4CCEE_Fall_2024'...\n",
            "remote: Enumerating objects: 157, done.\u001b[K\n",
            "remote: Counting objects: 100% (79/79), done.\u001b[K\n",
            "remote: Compressing objects: 100% (73/73), done.\u001b[K\n",
            "remote: Total 157 (delta 49), reused 8 (delta 5), pack-reused 78 (from 1)\u001b[K\n",
            "Receiving objects: 100% (157/157), 2.68 MiB | 7.74 MiB/s, done.\n",
            "Resolving deltas: 100% (63/63), done.\n"
          ]
        }
      ]
    },
    {
      "cell_type": "code",
      "source": [
        "ls"
      ],
      "metadata": {
        "id": "4wWnbLMeBgRS",
        "outputId": "c0fe4ab5-9a80-4a1c-e37c-30654a1e4ba2",
        "colab": {
          "base_uri": "https://localhost:8080/"
        }
      },
      "execution_count": null,
      "outputs": [
        {
          "output_type": "stream",
          "name": "stdout",
          "text": [
            "\u001b[0m\u001b[01;34mAI4CCEE_Fall_2024\u001b[0m/  \u001b[01;34mdata\u001b[0m/  \u001b[01;34mlecture2\u001b[0m/  \u001b[01;34mlecture3\u001b[0m/  \u001b[01;34mlecture4\u001b[0m/  README.md\n"
          ]
        }
      ]
    },
    {
      "cell_type": "code",
      "source": [
        "cd AI4CCEE_Fall_2024/"
      ],
      "metadata": {
        "id": "GNdXE4q1BhdI",
        "outputId": "70405ec8-6034-4fa7-dc22-e5eee5e5feae",
        "colab": {
          "base_uri": "https://localhost:8080/"
        }
      },
      "execution_count": null,
      "outputs": [
        {
          "output_type": "stream",
          "name": "stdout",
          "text": [
            "/mnt/AI4CCEE_Fall_2024/in_class_activity/AI4CCEE_Fall_2024\n"
          ]
        }
      ]
    },
    {
      "cell_type": "code",
      "source": [
        "ls"
      ],
      "metadata": {
        "id": "5fCPpcNnBktJ",
        "outputId": "0843ca6a-c7a2-4d7d-d1f9-04e02419dd34",
        "colab": {
          "base_uri": "https://localhost:8080/"
        }
      },
      "execution_count": null,
      "outputs": [
        {
          "output_type": "stream",
          "name": "stdout",
          "text": [
            "Act_1_Ahmad_Yaseen.ipynb  HW6_Ahmad_Yaseen.ipynb  \u001b[0m\u001b[01;34min_class_activity\u001b[0m/  \u001b[01;34mmini_project\u001b[0m/  README.md\n"
          ]
        }
      ]
    },
    {
      "cell_type": "code",
      "source": [
        "cd in_class_activity/"
      ],
      "metadata": {
        "id": "VY_5dck2BlYJ",
        "outputId": "73c045e7-e2aa-4579-abca-799e9d504167",
        "colab": {
          "base_uri": "https://localhost:8080/"
        }
      },
      "execution_count": null,
      "outputs": [
        {
          "output_type": "stream",
          "name": "stdout",
          "text": [
            "/mnt/AI4CCEE_Fall_2024/in_class_activity/AI4CCEE_Fall_2024/in_class_activity\n"
          ]
        }
      ]
    },
    {
      "cell_type": "code",
      "source": [
        "cd lecture3"
      ],
      "metadata": {
        "id": "jIfVGCmCBvTi",
        "outputId": "2709c186-3418-4fe8-e41e-cb394716a107",
        "colab": {
          "base_uri": "https://localhost:8080/"
        }
      },
      "execution_count": null,
      "outputs": [
        {
          "output_type": "stream",
          "name": "stdout",
          "text": [
            "/mnt/AI4CCEE_Fall_2024/in_class_activity/AI4CCEE_Fall_2024/in_class_activity/lecture3\n"
          ]
        }
      ]
    },
    {
      "cell_type": "code",
      "source": [
        "# Step 4: Load the dataset into a Pandas DataFrame and inspect the first few rows\n",
        "import pandas as pd\n",
        "import matplotlib.pyplot as plt\n",
        "\n",
        "# Load the dataset into a Pandas DataFrame\n",
        "file_path = '/mnt/AI4CCEE_Fall_2024/in_class_activity/lecture3/235-Nov.csv'\n",
        "df = pd.read_csv(file_path)\n",
        "\n",
        "# Display the first few rows of the dataset\n",
        "df.head()\n"
      ],
      "metadata": {
        "id": "2fdsg_mhBx0D",
        "outputId": "aea361aa-6039-4099-aefb-7d1a740e8b85",
        "colab": {
          "base_uri": "https://localhost:8080/",
          "height": 235
        }
      },
      "execution_count": null,
      "outputs": [
        {
          "output_type": "execute_result",
          "data": {
            "text/plain": [
              "  owner-id network-id      date   time  utc-offset  start-ime  end-time  \\\n",
              "0   Q-Free     Q-Free  20211110  80900           0      80800     80900   \n",
              "1   Q-Free     Q-Free  20211110  80900           0      80800     80900   \n",
              "2   Q-Free     Q-Free  20211110  80900           0      80800     80900   \n",
              "3   Q-Free     Q-Free  20211110  80900           0      80800     80900   \n",
              "4   Q-Free     Q-Free  20211110  80900           0      80800     80900   \n",
              "\n",
              "     detector-id status  lane-id  ...  small-class-count  medium-class-count  \\\n",
              "0   DMDS20-WB EN     OK        1  ...                  0                   0   \n",
              "1   DMDS20-WB RL     OK        4  ...                  0                   1   \n",
              "2  DMDS20-WB RCL     OK        3  ...                  0                   0   \n",
              "3  DMDS20-WB LCL     OK        2  ...                  0                   0   \n",
              "4   DMDS20-WB LL     OK        1  ...                  0                   0   \n",
              "\n",
              "   large-class-count                device-id  link-direction  detector-type  \\\n",
              "0                  0  OpenTMS-Detector46573-0               w        unknown   \n",
              "1                  0  OpenTMS-Detector46573-1               w        unknown   \n",
              "2                  0  OpenTMS-Detector46573-2               w        unknown   \n",
              "3                  0  OpenTMS-Detector46573-3               w        unknown   \n",
              "4                  0  OpenTMS-Detector46573-4               w        unknown   \n",
              "\n",
              "  sample-period device-description month  day  \n",
              "0            60            ON_RAMP    11   10  \n",
              "1            60             NORMAL    11   10  \n",
              "2            60             NORMAL    11   10  \n",
              "3            60             NORMAL    11   10  \n",
              "4            60             NORMAL    11   10  \n",
              "\n",
              "[5 rows x 23 columns]"
            ],
            "text/html": [
              "\n",
              "  <div id=\"df-cfae6c68-b081-4cc2-a5dc-22535a06237e\" class=\"colab-df-container\">\n",
              "    <div>\n",
              "<style scoped>\n",
              "    .dataframe tbody tr th:only-of-type {\n",
              "        vertical-align: middle;\n",
              "    }\n",
              "\n",
              "    .dataframe tbody tr th {\n",
              "        vertical-align: top;\n",
              "    }\n",
              "\n",
              "    .dataframe thead th {\n",
              "        text-align: right;\n",
              "    }\n",
              "</style>\n",
              "<table border=\"1\" class=\"dataframe\">\n",
              "  <thead>\n",
              "    <tr style=\"text-align: right;\">\n",
              "      <th></th>\n",
              "      <th>owner-id</th>\n",
              "      <th>network-id</th>\n",
              "      <th>date</th>\n",
              "      <th>time</th>\n",
              "      <th>utc-offset</th>\n",
              "      <th>start-ime</th>\n",
              "      <th>end-time</th>\n",
              "      <th>detector-id</th>\n",
              "      <th>status</th>\n",
              "      <th>lane-id</th>\n",
              "      <th>...</th>\n",
              "      <th>small-class-count</th>\n",
              "      <th>medium-class-count</th>\n",
              "      <th>large-class-count</th>\n",
              "      <th>device-id</th>\n",
              "      <th>link-direction</th>\n",
              "      <th>detector-type</th>\n",
              "      <th>sample-period</th>\n",
              "      <th>device-description</th>\n",
              "      <th>month</th>\n",
              "      <th>day</th>\n",
              "    </tr>\n",
              "  </thead>\n",
              "  <tbody>\n",
              "    <tr>\n",
              "      <th>0</th>\n",
              "      <td>Q-Free</td>\n",
              "      <td>Q-Free</td>\n",
              "      <td>20211110</td>\n",
              "      <td>80900</td>\n",
              "      <td>0</td>\n",
              "      <td>80800</td>\n",
              "      <td>80900</td>\n",
              "      <td>DMDS20-WB EN</td>\n",
              "      <td>OK</td>\n",
              "      <td>1</td>\n",
              "      <td>...</td>\n",
              "      <td>0</td>\n",
              "      <td>0</td>\n",
              "      <td>0</td>\n",
              "      <td>OpenTMS-Detector46573-0</td>\n",
              "      <td>w</td>\n",
              "      <td>unknown</td>\n",
              "      <td>60</td>\n",
              "      <td>ON_RAMP</td>\n",
              "      <td>11</td>\n",
              "      <td>10</td>\n",
              "    </tr>\n",
              "    <tr>\n",
              "      <th>1</th>\n",
              "      <td>Q-Free</td>\n",
              "      <td>Q-Free</td>\n",
              "      <td>20211110</td>\n",
              "      <td>80900</td>\n",
              "      <td>0</td>\n",
              "      <td>80800</td>\n",
              "      <td>80900</td>\n",
              "      <td>DMDS20-WB RL</td>\n",
              "      <td>OK</td>\n",
              "      <td>4</td>\n",
              "      <td>...</td>\n",
              "      <td>0</td>\n",
              "      <td>1</td>\n",
              "      <td>0</td>\n",
              "      <td>OpenTMS-Detector46573-1</td>\n",
              "      <td>w</td>\n",
              "      <td>unknown</td>\n",
              "      <td>60</td>\n",
              "      <td>NORMAL</td>\n",
              "      <td>11</td>\n",
              "      <td>10</td>\n",
              "    </tr>\n",
              "    <tr>\n",
              "      <th>2</th>\n",
              "      <td>Q-Free</td>\n",
              "      <td>Q-Free</td>\n",
              "      <td>20211110</td>\n",
              "      <td>80900</td>\n",
              "      <td>0</td>\n",
              "      <td>80800</td>\n",
              "      <td>80900</td>\n",
              "      <td>DMDS20-WB RCL</td>\n",
              "      <td>OK</td>\n",
              "      <td>3</td>\n",
              "      <td>...</td>\n",
              "      <td>0</td>\n",
              "      <td>0</td>\n",
              "      <td>0</td>\n",
              "      <td>OpenTMS-Detector46573-2</td>\n",
              "      <td>w</td>\n",
              "      <td>unknown</td>\n",
              "      <td>60</td>\n",
              "      <td>NORMAL</td>\n",
              "      <td>11</td>\n",
              "      <td>10</td>\n",
              "    </tr>\n",
              "    <tr>\n",
              "      <th>3</th>\n",
              "      <td>Q-Free</td>\n",
              "      <td>Q-Free</td>\n",
              "      <td>20211110</td>\n",
              "      <td>80900</td>\n",
              "      <td>0</td>\n",
              "      <td>80800</td>\n",
              "      <td>80900</td>\n",
              "      <td>DMDS20-WB LCL</td>\n",
              "      <td>OK</td>\n",
              "      <td>2</td>\n",
              "      <td>...</td>\n",
              "      <td>0</td>\n",
              "      <td>0</td>\n",
              "      <td>0</td>\n",
              "      <td>OpenTMS-Detector46573-3</td>\n",
              "      <td>w</td>\n",
              "      <td>unknown</td>\n",
              "      <td>60</td>\n",
              "      <td>NORMAL</td>\n",
              "      <td>11</td>\n",
              "      <td>10</td>\n",
              "    </tr>\n",
              "    <tr>\n",
              "      <th>4</th>\n",
              "      <td>Q-Free</td>\n",
              "      <td>Q-Free</td>\n",
              "      <td>20211110</td>\n",
              "      <td>80900</td>\n",
              "      <td>0</td>\n",
              "      <td>80800</td>\n",
              "      <td>80900</td>\n",
              "      <td>DMDS20-WB LL</td>\n",
              "      <td>OK</td>\n",
              "      <td>1</td>\n",
              "      <td>...</td>\n",
              "      <td>0</td>\n",
              "      <td>0</td>\n",
              "      <td>0</td>\n",
              "      <td>OpenTMS-Detector46573-4</td>\n",
              "      <td>w</td>\n",
              "      <td>unknown</td>\n",
              "      <td>60</td>\n",
              "      <td>NORMAL</td>\n",
              "      <td>11</td>\n",
              "      <td>10</td>\n",
              "    </tr>\n",
              "  </tbody>\n",
              "</table>\n",
              "<p>5 rows × 23 columns</p>\n",
              "</div>\n",
              "    <div class=\"colab-df-buttons\">\n",
              "\n",
              "  <div class=\"colab-df-container\">\n",
              "    <button class=\"colab-df-convert\" onclick=\"convertToInteractive('df-cfae6c68-b081-4cc2-a5dc-22535a06237e')\"\n",
              "            title=\"Convert this dataframe to an interactive table.\"\n",
              "            style=\"display:none;\">\n",
              "\n",
              "  <svg xmlns=\"http://www.w3.org/2000/svg\" height=\"24px\" viewBox=\"0 -960 960 960\">\n",
              "    <path d=\"M120-120v-720h720v720H120Zm60-500h600v-160H180v160Zm220 220h160v-160H400v160Zm0 220h160v-160H400v160ZM180-400h160v-160H180v160Zm440 0h160v-160H620v160ZM180-180h160v-160H180v160Zm440 0h160v-160H620v160Z\"/>\n",
              "  </svg>\n",
              "    </button>\n",
              "\n",
              "  <style>\n",
              "    .colab-df-container {\n",
              "      display:flex;\n",
              "      gap: 12px;\n",
              "    }\n",
              "\n",
              "    .colab-df-convert {\n",
              "      background-color: #E8F0FE;\n",
              "      border: none;\n",
              "      border-radius: 50%;\n",
              "      cursor: pointer;\n",
              "      display: none;\n",
              "      fill: #1967D2;\n",
              "      height: 32px;\n",
              "      padding: 0 0 0 0;\n",
              "      width: 32px;\n",
              "    }\n",
              "\n",
              "    .colab-df-convert:hover {\n",
              "      background-color: #E2EBFA;\n",
              "      box-shadow: 0px 1px 2px rgba(60, 64, 67, 0.3), 0px 1px 3px 1px rgba(60, 64, 67, 0.15);\n",
              "      fill: #174EA6;\n",
              "    }\n",
              "\n",
              "    .colab-df-buttons div {\n",
              "      margin-bottom: 4px;\n",
              "    }\n",
              "\n",
              "    [theme=dark] .colab-df-convert {\n",
              "      background-color: #3B4455;\n",
              "      fill: #D2E3FC;\n",
              "    }\n",
              "\n",
              "    [theme=dark] .colab-df-convert:hover {\n",
              "      background-color: #434B5C;\n",
              "      box-shadow: 0px 1px 3px 1px rgba(0, 0, 0, 0.15);\n",
              "      filter: drop-shadow(0px 1px 2px rgba(0, 0, 0, 0.3));\n",
              "      fill: #FFFFFF;\n",
              "    }\n",
              "  </style>\n",
              "\n",
              "    <script>\n",
              "      const buttonEl =\n",
              "        document.querySelector('#df-cfae6c68-b081-4cc2-a5dc-22535a06237e button.colab-df-convert');\n",
              "      buttonEl.style.display =\n",
              "        google.colab.kernel.accessAllowed ? 'block' : 'none';\n",
              "\n",
              "      async function convertToInteractive(key) {\n",
              "        const element = document.querySelector('#df-cfae6c68-b081-4cc2-a5dc-22535a06237e');\n",
              "        const dataTable =\n",
              "          await google.colab.kernel.invokeFunction('convertToInteractive',\n",
              "                                                    [key], {});\n",
              "        if (!dataTable) return;\n",
              "\n",
              "        const docLinkHtml = 'Like what you see? Visit the ' +\n",
              "          '<a target=\"_blank\" href=https://colab.research.google.com/notebooks/data_table.ipynb>data table notebook</a>'\n",
              "          + ' to learn more about interactive tables.';\n",
              "        element.innerHTML = '';\n",
              "        dataTable['output_type'] = 'display_data';\n",
              "        await google.colab.output.renderOutput(dataTable, element);\n",
              "        const docLink = document.createElement('div');\n",
              "        docLink.innerHTML = docLinkHtml;\n",
              "        element.appendChild(docLink);\n",
              "      }\n",
              "    </script>\n",
              "  </div>\n",
              "\n",
              "\n",
              "<div id=\"df-0241310b-8f10-493d-9f95-9c6e5a8c875d\">\n",
              "  <button class=\"colab-df-quickchart\" onclick=\"quickchart('df-0241310b-8f10-493d-9f95-9c6e5a8c875d')\"\n",
              "            title=\"Suggest charts\"\n",
              "            style=\"display:none;\">\n",
              "\n",
              "<svg xmlns=\"http://www.w3.org/2000/svg\" height=\"24px\"viewBox=\"0 0 24 24\"\n",
              "     width=\"24px\">\n",
              "    <g>\n",
              "        <path d=\"M19 3H5c-1.1 0-2 .9-2 2v14c0 1.1.9 2 2 2h14c1.1 0 2-.9 2-2V5c0-1.1-.9-2-2-2zM9 17H7v-7h2v7zm4 0h-2V7h2v10zm4 0h-2v-4h2v4z\"/>\n",
              "    </g>\n",
              "</svg>\n",
              "  </button>\n",
              "\n",
              "<style>\n",
              "  .colab-df-quickchart {\n",
              "      --bg-color: #E8F0FE;\n",
              "      --fill-color: #1967D2;\n",
              "      --hover-bg-color: #E2EBFA;\n",
              "      --hover-fill-color: #174EA6;\n",
              "      --disabled-fill-color: #AAA;\n",
              "      --disabled-bg-color: #DDD;\n",
              "  }\n",
              "\n",
              "  [theme=dark] .colab-df-quickchart {\n",
              "      --bg-color: #3B4455;\n",
              "      --fill-color: #D2E3FC;\n",
              "      --hover-bg-color: #434B5C;\n",
              "      --hover-fill-color: #FFFFFF;\n",
              "      --disabled-bg-color: #3B4455;\n",
              "      --disabled-fill-color: #666;\n",
              "  }\n",
              "\n",
              "  .colab-df-quickchart {\n",
              "    background-color: var(--bg-color);\n",
              "    border: none;\n",
              "    border-radius: 50%;\n",
              "    cursor: pointer;\n",
              "    display: none;\n",
              "    fill: var(--fill-color);\n",
              "    height: 32px;\n",
              "    padding: 0;\n",
              "    width: 32px;\n",
              "  }\n",
              "\n",
              "  .colab-df-quickchart:hover {\n",
              "    background-color: var(--hover-bg-color);\n",
              "    box-shadow: 0 1px 2px rgba(60, 64, 67, 0.3), 0 1px 3px 1px rgba(60, 64, 67, 0.15);\n",
              "    fill: var(--button-hover-fill-color);\n",
              "  }\n",
              "\n",
              "  .colab-df-quickchart-complete:disabled,\n",
              "  .colab-df-quickchart-complete:disabled:hover {\n",
              "    background-color: var(--disabled-bg-color);\n",
              "    fill: var(--disabled-fill-color);\n",
              "    box-shadow: none;\n",
              "  }\n",
              "\n",
              "  .colab-df-spinner {\n",
              "    border: 2px solid var(--fill-color);\n",
              "    border-color: transparent;\n",
              "    border-bottom-color: var(--fill-color);\n",
              "    animation:\n",
              "      spin 1s steps(1) infinite;\n",
              "  }\n",
              "\n",
              "  @keyframes spin {\n",
              "    0% {\n",
              "      border-color: transparent;\n",
              "      border-bottom-color: var(--fill-color);\n",
              "      border-left-color: var(--fill-color);\n",
              "    }\n",
              "    20% {\n",
              "      border-color: transparent;\n",
              "      border-left-color: var(--fill-color);\n",
              "      border-top-color: var(--fill-color);\n",
              "    }\n",
              "    30% {\n",
              "      border-color: transparent;\n",
              "      border-left-color: var(--fill-color);\n",
              "      border-top-color: var(--fill-color);\n",
              "      border-right-color: var(--fill-color);\n",
              "    }\n",
              "    40% {\n",
              "      border-color: transparent;\n",
              "      border-right-color: var(--fill-color);\n",
              "      border-top-color: var(--fill-color);\n",
              "    }\n",
              "    60% {\n",
              "      border-color: transparent;\n",
              "      border-right-color: var(--fill-color);\n",
              "    }\n",
              "    80% {\n",
              "      border-color: transparent;\n",
              "      border-right-color: var(--fill-color);\n",
              "      border-bottom-color: var(--fill-color);\n",
              "    }\n",
              "    90% {\n",
              "      border-color: transparent;\n",
              "      border-bottom-color: var(--fill-color);\n",
              "    }\n",
              "  }\n",
              "</style>\n",
              "\n",
              "  <script>\n",
              "    async function quickchart(key) {\n",
              "      const quickchartButtonEl =\n",
              "        document.querySelector('#' + key + ' button');\n",
              "      quickchartButtonEl.disabled = true;  // To prevent multiple clicks.\n",
              "      quickchartButtonEl.classList.add('colab-df-spinner');\n",
              "      try {\n",
              "        const charts = await google.colab.kernel.invokeFunction(\n",
              "            'suggestCharts', [key], {});\n",
              "      } catch (error) {\n",
              "        console.error('Error during call to suggestCharts:', error);\n",
              "      }\n",
              "      quickchartButtonEl.classList.remove('colab-df-spinner');\n",
              "      quickchartButtonEl.classList.add('colab-df-quickchart-complete');\n",
              "    }\n",
              "    (() => {\n",
              "      let quickchartButtonEl =\n",
              "        document.querySelector('#df-0241310b-8f10-493d-9f95-9c6e5a8c875d button');\n",
              "      quickchartButtonEl.style.display =\n",
              "        google.colab.kernel.accessAllowed ? 'block' : 'none';\n",
              "    })();\n",
              "  </script>\n",
              "</div>\n",
              "\n",
              "    </div>\n",
              "  </div>\n"
            ],
            "application/vnd.google.colaboratory.intrinsic+json": {
              "type": "dataframe",
              "variable_name": "df"
            }
          },
          "metadata": {},
          "execution_count": 49
        }
      ]
    },
    {
      "cell_type": "code",
      "source": [
        "# Step 5: Preprocess the time column to convert from HHMMSS format to hours, and convert the date column to datetime format\n",
        "df['time'] = df['time'].apply(lambda x: int(str(x).zfill(6)[:2]))  # Extract hours from the time column\n",
        "df['date'] = pd.to_datetime(df['date'], format='%Y%m%d')  # Convert date to datetime format\n",
        "df"
      ],
      "metadata": {
        "id": "36eV1u2tCCgD",
        "outputId": "f727f420-4965-48dc-e106-346d9c253178",
        "colab": {
          "base_uri": "https://localhost:8080/",
          "height": 423
        }
      },
      "execution_count": null,
      "outputs": [
        {
          "output_type": "execute_result",
          "data": {
            "text/plain": [
              "       owner-id network-id       date  time  utc-offset  start-ime  end-time  \\\n",
              "0        Q-Free     Q-Free 2021-11-10     8           0      80800     80900   \n",
              "1        Q-Free     Q-Free 2021-11-10     8           0      80800     80900   \n",
              "2        Q-Free     Q-Free 2021-11-10     8           0      80800     80900   \n",
              "3        Q-Free     Q-Free 2021-11-10     8           0      80800     80900   \n",
              "4        Q-Free     Q-Free 2021-11-10     8           0      80800     80900   \n",
              "...         ...        ...        ...   ...         ...        ...       ...   \n",
              "128775   Q-Free     Q-Free 2021-11-09     5           0      50400     50500   \n",
              "128776   Q-Free     Q-Free 2021-11-09     5           0      50400     50500   \n",
              "128777   Q-Free     Q-Free 2021-11-09     5           0      50400     50500   \n",
              "128778   Q-Free     Q-Free 2021-11-09     5           0      50400     50500   \n",
              "128779   Q-Free     Q-Free 2021-11-09     5           0      50400     50500   \n",
              "\n",
              "          detector-id status  lane-id  ...  small-class-count  \\\n",
              "0        DMDS20-WB EN     OK        1  ...                  0   \n",
              "1        DMDS20-WB RL     OK        4  ...                  0   \n",
              "2       DMDS20-WB RCL     OK        3  ...                  0   \n",
              "3       DMDS20-WB LCL     OK        2  ...                  0   \n",
              "4        DMDS20-WB LL     OK        1  ...                  0   \n",
              "...               ...    ...      ...  ...                ...   \n",
              "128775   DMDS20-EB LL     OK        1  ...                  0   \n",
              "128776  DMDS20-EB LCL     OK        2  ...                  0   \n",
              "128777  DMDS20-EB RCL     OK        3  ...                  1   \n",
              "128778   DMDS20-EB RL     OK        4  ...                  0   \n",
              "128779   DMDS20-EB EX     OK        1  ...                  0   \n",
              "\n",
              "        medium-class-count  large-class-count                device-id  \\\n",
              "0                        0                  0  OpenTMS-Detector46573-0   \n",
              "1                        1                  0  OpenTMS-Detector46573-1   \n",
              "2                        0                  0  OpenTMS-Detector46573-2   \n",
              "3                        0                  0  OpenTMS-Detector46573-3   \n",
              "4                        0                  0  OpenTMS-Detector46573-4   \n",
              "...                    ...                ...                      ...   \n",
              "128775                   2                  0  OpenTMS-Detector46573-5   \n",
              "128776                   2                  0  OpenTMS-Detector46573-6   \n",
              "128777                   4                  1  OpenTMS-Detector46573-7   \n",
              "128778                   2                  0  OpenTMS-Detector46573-8   \n",
              "128779                   0                  0  OpenTMS-Detector46573-9   \n",
              "\n",
              "        link-direction  detector-type sample-period device-description month  \\\n",
              "0                    w        unknown            60            ON_RAMP    11   \n",
              "1                    w        unknown            60             NORMAL    11   \n",
              "2                    w        unknown            60             NORMAL    11   \n",
              "3                    w        unknown            60             NORMAL    11   \n",
              "4                    w        unknown            60             NORMAL    11   \n",
              "...                ...            ...           ...                ...   ...   \n",
              "128775               e        unknown            60             NORMAL    11   \n",
              "128776               e        unknown            60             NORMAL    11   \n",
              "128777               e        unknown            60             NORMAL    11   \n",
              "128778               e        unknown            60             NORMAL    11   \n",
              "128779               e        unknown            60           OFF_RAMP    11   \n",
              "\n",
              "        day  \n",
              "0        10  \n",
              "1        10  \n",
              "2        10  \n",
              "3        10  \n",
              "4        10  \n",
              "...     ...  \n",
              "128775    8  \n",
              "128776    8  \n",
              "128777    8  \n",
              "128778    8  \n",
              "128779    8  \n",
              "\n",
              "[128780 rows x 23 columns]"
            ],
            "text/html": [
              "\n",
              "  <div id=\"df-0195c701-e2d9-42ff-88b9-bf5bf441c580\" class=\"colab-df-container\">\n",
              "    <div>\n",
              "<style scoped>\n",
              "    .dataframe tbody tr th:only-of-type {\n",
              "        vertical-align: middle;\n",
              "    }\n",
              "\n",
              "    .dataframe tbody tr th {\n",
              "        vertical-align: top;\n",
              "    }\n",
              "\n",
              "    .dataframe thead th {\n",
              "        text-align: right;\n",
              "    }\n",
              "</style>\n",
              "<table border=\"1\" class=\"dataframe\">\n",
              "  <thead>\n",
              "    <tr style=\"text-align: right;\">\n",
              "      <th></th>\n",
              "      <th>owner-id</th>\n",
              "      <th>network-id</th>\n",
              "      <th>date</th>\n",
              "      <th>time</th>\n",
              "      <th>utc-offset</th>\n",
              "      <th>start-ime</th>\n",
              "      <th>end-time</th>\n",
              "      <th>detector-id</th>\n",
              "      <th>status</th>\n",
              "      <th>lane-id</th>\n",
              "      <th>...</th>\n",
              "      <th>small-class-count</th>\n",
              "      <th>medium-class-count</th>\n",
              "      <th>large-class-count</th>\n",
              "      <th>device-id</th>\n",
              "      <th>link-direction</th>\n",
              "      <th>detector-type</th>\n",
              "      <th>sample-period</th>\n",
              "      <th>device-description</th>\n",
              "      <th>month</th>\n",
              "      <th>day</th>\n",
              "    </tr>\n",
              "  </thead>\n",
              "  <tbody>\n",
              "    <tr>\n",
              "      <th>0</th>\n",
              "      <td>Q-Free</td>\n",
              "      <td>Q-Free</td>\n",
              "      <td>2021-11-10</td>\n",
              "      <td>8</td>\n",
              "      <td>0</td>\n",
              "      <td>80800</td>\n",
              "      <td>80900</td>\n",
              "      <td>DMDS20-WB EN</td>\n",
              "      <td>OK</td>\n",
              "      <td>1</td>\n",
              "      <td>...</td>\n",
              "      <td>0</td>\n",
              "      <td>0</td>\n",
              "      <td>0</td>\n",
              "      <td>OpenTMS-Detector46573-0</td>\n",
              "      <td>w</td>\n",
              "      <td>unknown</td>\n",
              "      <td>60</td>\n",
              "      <td>ON_RAMP</td>\n",
              "      <td>11</td>\n",
              "      <td>10</td>\n",
              "    </tr>\n",
              "    <tr>\n",
              "      <th>1</th>\n",
              "      <td>Q-Free</td>\n",
              "      <td>Q-Free</td>\n",
              "      <td>2021-11-10</td>\n",
              "      <td>8</td>\n",
              "      <td>0</td>\n",
              "      <td>80800</td>\n",
              "      <td>80900</td>\n",
              "      <td>DMDS20-WB RL</td>\n",
              "      <td>OK</td>\n",
              "      <td>4</td>\n",
              "      <td>...</td>\n",
              "      <td>0</td>\n",
              "      <td>1</td>\n",
              "      <td>0</td>\n",
              "      <td>OpenTMS-Detector46573-1</td>\n",
              "      <td>w</td>\n",
              "      <td>unknown</td>\n",
              "      <td>60</td>\n",
              "      <td>NORMAL</td>\n",
              "      <td>11</td>\n",
              "      <td>10</td>\n",
              "    </tr>\n",
              "    <tr>\n",
              "      <th>2</th>\n",
              "      <td>Q-Free</td>\n",
              "      <td>Q-Free</td>\n",
              "      <td>2021-11-10</td>\n",
              "      <td>8</td>\n",
              "      <td>0</td>\n",
              "      <td>80800</td>\n",
              "      <td>80900</td>\n",
              "      <td>DMDS20-WB RCL</td>\n",
              "      <td>OK</td>\n",
              "      <td>3</td>\n",
              "      <td>...</td>\n",
              "      <td>0</td>\n",
              "      <td>0</td>\n",
              "      <td>0</td>\n",
              "      <td>OpenTMS-Detector46573-2</td>\n",
              "      <td>w</td>\n",
              "      <td>unknown</td>\n",
              "      <td>60</td>\n",
              "      <td>NORMAL</td>\n",
              "      <td>11</td>\n",
              "      <td>10</td>\n",
              "    </tr>\n",
              "    <tr>\n",
              "      <th>3</th>\n",
              "      <td>Q-Free</td>\n",
              "      <td>Q-Free</td>\n",
              "      <td>2021-11-10</td>\n",
              "      <td>8</td>\n",
              "      <td>0</td>\n",
              "      <td>80800</td>\n",
              "      <td>80900</td>\n",
              "      <td>DMDS20-WB LCL</td>\n",
              "      <td>OK</td>\n",
              "      <td>2</td>\n",
              "      <td>...</td>\n",
              "      <td>0</td>\n",
              "      <td>0</td>\n",
              "      <td>0</td>\n",
              "      <td>OpenTMS-Detector46573-3</td>\n",
              "      <td>w</td>\n",
              "      <td>unknown</td>\n",
              "      <td>60</td>\n",
              "      <td>NORMAL</td>\n",
              "      <td>11</td>\n",
              "      <td>10</td>\n",
              "    </tr>\n",
              "    <tr>\n",
              "      <th>4</th>\n",
              "      <td>Q-Free</td>\n",
              "      <td>Q-Free</td>\n",
              "      <td>2021-11-10</td>\n",
              "      <td>8</td>\n",
              "      <td>0</td>\n",
              "      <td>80800</td>\n",
              "      <td>80900</td>\n",
              "      <td>DMDS20-WB LL</td>\n",
              "      <td>OK</td>\n",
              "      <td>1</td>\n",
              "      <td>...</td>\n",
              "      <td>0</td>\n",
              "      <td>0</td>\n",
              "      <td>0</td>\n",
              "      <td>OpenTMS-Detector46573-4</td>\n",
              "      <td>w</td>\n",
              "      <td>unknown</td>\n",
              "      <td>60</td>\n",
              "      <td>NORMAL</td>\n",
              "      <td>11</td>\n",
              "      <td>10</td>\n",
              "    </tr>\n",
              "    <tr>\n",
              "      <th>...</th>\n",
              "      <td>...</td>\n",
              "      <td>...</td>\n",
              "      <td>...</td>\n",
              "      <td>...</td>\n",
              "      <td>...</td>\n",
              "      <td>...</td>\n",
              "      <td>...</td>\n",
              "      <td>...</td>\n",
              "      <td>...</td>\n",
              "      <td>...</td>\n",
              "      <td>...</td>\n",
              "      <td>...</td>\n",
              "      <td>...</td>\n",
              "      <td>...</td>\n",
              "      <td>...</td>\n",
              "      <td>...</td>\n",
              "      <td>...</td>\n",
              "      <td>...</td>\n",
              "      <td>...</td>\n",
              "      <td>...</td>\n",
              "      <td>...</td>\n",
              "    </tr>\n",
              "    <tr>\n",
              "      <th>128775</th>\n",
              "      <td>Q-Free</td>\n",
              "      <td>Q-Free</td>\n",
              "      <td>2021-11-09</td>\n",
              "      <td>5</td>\n",
              "      <td>0</td>\n",
              "      <td>50400</td>\n",
              "      <td>50500</td>\n",
              "      <td>DMDS20-EB LL</td>\n",
              "      <td>OK</td>\n",
              "      <td>1</td>\n",
              "      <td>...</td>\n",
              "      <td>0</td>\n",
              "      <td>2</td>\n",
              "      <td>0</td>\n",
              "      <td>OpenTMS-Detector46573-5</td>\n",
              "      <td>e</td>\n",
              "      <td>unknown</td>\n",
              "      <td>60</td>\n",
              "      <td>NORMAL</td>\n",
              "      <td>11</td>\n",
              "      <td>8</td>\n",
              "    </tr>\n",
              "    <tr>\n",
              "      <th>128776</th>\n",
              "      <td>Q-Free</td>\n",
              "      <td>Q-Free</td>\n",
              "      <td>2021-11-09</td>\n",
              "      <td>5</td>\n",
              "      <td>0</td>\n",
              "      <td>50400</td>\n",
              "      <td>50500</td>\n",
              "      <td>DMDS20-EB LCL</td>\n",
              "      <td>OK</td>\n",
              "      <td>2</td>\n",
              "      <td>...</td>\n",
              "      <td>0</td>\n",
              "      <td>2</td>\n",
              "      <td>0</td>\n",
              "      <td>OpenTMS-Detector46573-6</td>\n",
              "      <td>e</td>\n",
              "      <td>unknown</td>\n",
              "      <td>60</td>\n",
              "      <td>NORMAL</td>\n",
              "      <td>11</td>\n",
              "      <td>8</td>\n",
              "    </tr>\n",
              "    <tr>\n",
              "      <th>128777</th>\n",
              "      <td>Q-Free</td>\n",
              "      <td>Q-Free</td>\n",
              "      <td>2021-11-09</td>\n",
              "      <td>5</td>\n",
              "      <td>0</td>\n",
              "      <td>50400</td>\n",
              "      <td>50500</td>\n",
              "      <td>DMDS20-EB RCL</td>\n",
              "      <td>OK</td>\n",
              "      <td>3</td>\n",
              "      <td>...</td>\n",
              "      <td>1</td>\n",
              "      <td>4</td>\n",
              "      <td>1</td>\n",
              "      <td>OpenTMS-Detector46573-7</td>\n",
              "      <td>e</td>\n",
              "      <td>unknown</td>\n",
              "      <td>60</td>\n",
              "      <td>NORMAL</td>\n",
              "      <td>11</td>\n",
              "      <td>8</td>\n",
              "    </tr>\n",
              "    <tr>\n",
              "      <th>128778</th>\n",
              "      <td>Q-Free</td>\n",
              "      <td>Q-Free</td>\n",
              "      <td>2021-11-09</td>\n",
              "      <td>5</td>\n",
              "      <td>0</td>\n",
              "      <td>50400</td>\n",
              "      <td>50500</td>\n",
              "      <td>DMDS20-EB RL</td>\n",
              "      <td>OK</td>\n",
              "      <td>4</td>\n",
              "      <td>...</td>\n",
              "      <td>0</td>\n",
              "      <td>2</td>\n",
              "      <td>0</td>\n",
              "      <td>OpenTMS-Detector46573-8</td>\n",
              "      <td>e</td>\n",
              "      <td>unknown</td>\n",
              "      <td>60</td>\n",
              "      <td>NORMAL</td>\n",
              "      <td>11</td>\n",
              "      <td>8</td>\n",
              "    </tr>\n",
              "    <tr>\n",
              "      <th>128779</th>\n",
              "      <td>Q-Free</td>\n",
              "      <td>Q-Free</td>\n",
              "      <td>2021-11-09</td>\n",
              "      <td>5</td>\n",
              "      <td>0</td>\n",
              "      <td>50400</td>\n",
              "      <td>50500</td>\n",
              "      <td>DMDS20-EB EX</td>\n",
              "      <td>OK</td>\n",
              "      <td>1</td>\n",
              "      <td>...</td>\n",
              "      <td>0</td>\n",
              "      <td>0</td>\n",
              "      <td>0</td>\n",
              "      <td>OpenTMS-Detector46573-9</td>\n",
              "      <td>e</td>\n",
              "      <td>unknown</td>\n",
              "      <td>60</td>\n",
              "      <td>OFF_RAMP</td>\n",
              "      <td>11</td>\n",
              "      <td>8</td>\n",
              "    </tr>\n",
              "  </tbody>\n",
              "</table>\n",
              "<p>128780 rows × 23 columns</p>\n",
              "</div>\n",
              "    <div class=\"colab-df-buttons\">\n",
              "\n",
              "  <div class=\"colab-df-container\">\n",
              "    <button class=\"colab-df-convert\" onclick=\"convertToInteractive('df-0195c701-e2d9-42ff-88b9-bf5bf441c580')\"\n",
              "            title=\"Convert this dataframe to an interactive table.\"\n",
              "            style=\"display:none;\">\n",
              "\n",
              "  <svg xmlns=\"http://www.w3.org/2000/svg\" height=\"24px\" viewBox=\"0 -960 960 960\">\n",
              "    <path d=\"M120-120v-720h720v720H120Zm60-500h600v-160H180v160Zm220 220h160v-160H400v160Zm0 220h160v-160H400v160ZM180-400h160v-160H180v160Zm440 0h160v-160H620v160ZM180-180h160v-160H180v160Zm440 0h160v-160H620v160Z\"/>\n",
              "  </svg>\n",
              "    </button>\n",
              "\n",
              "  <style>\n",
              "    .colab-df-container {\n",
              "      display:flex;\n",
              "      gap: 12px;\n",
              "    }\n",
              "\n",
              "    .colab-df-convert {\n",
              "      background-color: #E8F0FE;\n",
              "      border: none;\n",
              "      border-radius: 50%;\n",
              "      cursor: pointer;\n",
              "      display: none;\n",
              "      fill: #1967D2;\n",
              "      height: 32px;\n",
              "      padding: 0 0 0 0;\n",
              "      width: 32px;\n",
              "    }\n",
              "\n",
              "    .colab-df-convert:hover {\n",
              "      background-color: #E2EBFA;\n",
              "      box-shadow: 0px 1px 2px rgba(60, 64, 67, 0.3), 0px 1px 3px 1px rgba(60, 64, 67, 0.15);\n",
              "      fill: #174EA6;\n",
              "    }\n",
              "\n",
              "    .colab-df-buttons div {\n",
              "      margin-bottom: 4px;\n",
              "    }\n",
              "\n",
              "    [theme=dark] .colab-df-convert {\n",
              "      background-color: #3B4455;\n",
              "      fill: #D2E3FC;\n",
              "    }\n",
              "\n",
              "    [theme=dark] .colab-df-convert:hover {\n",
              "      background-color: #434B5C;\n",
              "      box-shadow: 0px 1px 3px 1px rgba(0, 0, 0, 0.15);\n",
              "      filter: drop-shadow(0px 1px 2px rgba(0, 0, 0, 0.3));\n",
              "      fill: #FFFFFF;\n",
              "    }\n",
              "  </style>\n",
              "\n",
              "    <script>\n",
              "      const buttonEl =\n",
              "        document.querySelector('#df-0195c701-e2d9-42ff-88b9-bf5bf441c580 button.colab-df-convert');\n",
              "      buttonEl.style.display =\n",
              "        google.colab.kernel.accessAllowed ? 'block' : 'none';\n",
              "\n",
              "      async function convertToInteractive(key) {\n",
              "        const element = document.querySelector('#df-0195c701-e2d9-42ff-88b9-bf5bf441c580');\n",
              "        const dataTable =\n",
              "          await google.colab.kernel.invokeFunction('convertToInteractive',\n",
              "                                                    [key], {});\n",
              "        if (!dataTable) return;\n",
              "\n",
              "        const docLinkHtml = 'Like what you see? Visit the ' +\n",
              "          '<a target=\"_blank\" href=https://colab.research.google.com/notebooks/data_table.ipynb>data table notebook</a>'\n",
              "          + ' to learn more about interactive tables.';\n",
              "        element.innerHTML = '';\n",
              "        dataTable['output_type'] = 'display_data';\n",
              "        await google.colab.output.renderOutput(dataTable, element);\n",
              "        const docLink = document.createElement('div');\n",
              "        docLink.innerHTML = docLinkHtml;\n",
              "        element.appendChild(docLink);\n",
              "      }\n",
              "    </script>\n",
              "  </div>\n",
              "\n",
              "\n",
              "<div id=\"df-6d928334-2b1c-490d-b0cd-d3c3136e8a34\">\n",
              "  <button class=\"colab-df-quickchart\" onclick=\"quickchart('df-6d928334-2b1c-490d-b0cd-d3c3136e8a34')\"\n",
              "            title=\"Suggest charts\"\n",
              "            style=\"display:none;\">\n",
              "\n",
              "<svg xmlns=\"http://www.w3.org/2000/svg\" height=\"24px\"viewBox=\"0 0 24 24\"\n",
              "     width=\"24px\">\n",
              "    <g>\n",
              "        <path d=\"M19 3H5c-1.1 0-2 .9-2 2v14c0 1.1.9 2 2 2h14c1.1 0 2-.9 2-2V5c0-1.1-.9-2-2-2zM9 17H7v-7h2v7zm4 0h-2V7h2v10zm4 0h-2v-4h2v4z\"/>\n",
              "    </g>\n",
              "</svg>\n",
              "  </button>\n",
              "\n",
              "<style>\n",
              "  .colab-df-quickchart {\n",
              "      --bg-color: #E8F0FE;\n",
              "      --fill-color: #1967D2;\n",
              "      --hover-bg-color: #E2EBFA;\n",
              "      --hover-fill-color: #174EA6;\n",
              "      --disabled-fill-color: #AAA;\n",
              "      --disabled-bg-color: #DDD;\n",
              "  }\n",
              "\n",
              "  [theme=dark] .colab-df-quickchart {\n",
              "      --bg-color: #3B4455;\n",
              "      --fill-color: #D2E3FC;\n",
              "      --hover-bg-color: #434B5C;\n",
              "      --hover-fill-color: #FFFFFF;\n",
              "      --disabled-bg-color: #3B4455;\n",
              "      --disabled-fill-color: #666;\n",
              "  }\n",
              "\n",
              "  .colab-df-quickchart {\n",
              "    background-color: var(--bg-color);\n",
              "    border: none;\n",
              "    border-radius: 50%;\n",
              "    cursor: pointer;\n",
              "    display: none;\n",
              "    fill: var(--fill-color);\n",
              "    height: 32px;\n",
              "    padding: 0;\n",
              "    width: 32px;\n",
              "  }\n",
              "\n",
              "  .colab-df-quickchart:hover {\n",
              "    background-color: var(--hover-bg-color);\n",
              "    box-shadow: 0 1px 2px rgba(60, 64, 67, 0.3), 0 1px 3px 1px rgba(60, 64, 67, 0.15);\n",
              "    fill: var(--button-hover-fill-color);\n",
              "  }\n",
              "\n",
              "  .colab-df-quickchart-complete:disabled,\n",
              "  .colab-df-quickchart-complete:disabled:hover {\n",
              "    background-color: var(--disabled-bg-color);\n",
              "    fill: var(--disabled-fill-color);\n",
              "    box-shadow: none;\n",
              "  }\n",
              "\n",
              "  .colab-df-spinner {\n",
              "    border: 2px solid var(--fill-color);\n",
              "    border-color: transparent;\n",
              "    border-bottom-color: var(--fill-color);\n",
              "    animation:\n",
              "      spin 1s steps(1) infinite;\n",
              "  }\n",
              "\n",
              "  @keyframes spin {\n",
              "    0% {\n",
              "      border-color: transparent;\n",
              "      border-bottom-color: var(--fill-color);\n",
              "      border-left-color: var(--fill-color);\n",
              "    }\n",
              "    20% {\n",
              "      border-color: transparent;\n",
              "      border-left-color: var(--fill-color);\n",
              "      border-top-color: var(--fill-color);\n",
              "    }\n",
              "    30% {\n",
              "      border-color: transparent;\n",
              "      border-left-color: var(--fill-color);\n",
              "      border-top-color: var(--fill-color);\n",
              "      border-right-color: var(--fill-color);\n",
              "    }\n",
              "    40% {\n",
              "      border-color: transparent;\n",
              "      border-right-color: var(--fill-color);\n",
              "      border-top-color: var(--fill-color);\n",
              "    }\n",
              "    60% {\n",
              "      border-color: transparent;\n",
              "      border-right-color: var(--fill-color);\n",
              "    }\n",
              "    80% {\n",
              "      border-color: transparent;\n",
              "      border-right-color: var(--fill-color);\n",
              "      border-bottom-color: var(--fill-color);\n",
              "    }\n",
              "    90% {\n",
              "      border-color: transparent;\n",
              "      border-bottom-color: var(--fill-color);\n",
              "    }\n",
              "  }\n",
              "</style>\n",
              "\n",
              "  <script>\n",
              "    async function quickchart(key) {\n",
              "      const quickchartButtonEl =\n",
              "        document.querySelector('#' + key + ' button');\n",
              "      quickchartButtonEl.disabled = true;  // To prevent multiple clicks.\n",
              "      quickchartButtonEl.classList.add('colab-df-spinner');\n",
              "      try {\n",
              "        const charts = await google.colab.kernel.invokeFunction(\n",
              "            'suggestCharts', [key], {});\n",
              "      } catch (error) {\n",
              "        console.error('Error during call to suggestCharts:', error);\n",
              "      }\n",
              "      quickchartButtonEl.classList.remove('colab-df-spinner');\n",
              "      quickchartButtonEl.classList.add('colab-df-quickchart-complete');\n",
              "    }\n",
              "    (() => {\n",
              "      let quickchartButtonEl =\n",
              "        document.querySelector('#df-6d928334-2b1c-490d-b0cd-d3c3136e8a34 button');\n",
              "      quickchartButtonEl.style.display =\n",
              "        google.colab.kernel.accessAllowed ? 'block' : 'none';\n",
              "    })();\n",
              "  </script>\n",
              "</div>\n",
              "\n",
              "  <div id=\"id_69837f50-be23-403f-ae3c-2893c099690a\">\n",
              "    <style>\n",
              "      .colab-df-generate {\n",
              "        background-color: #E8F0FE;\n",
              "        border: none;\n",
              "        border-radius: 50%;\n",
              "        cursor: pointer;\n",
              "        display: none;\n",
              "        fill: #1967D2;\n",
              "        height: 32px;\n",
              "        padding: 0 0 0 0;\n",
              "        width: 32px;\n",
              "      }\n",
              "\n",
              "      .colab-df-generate:hover {\n",
              "        background-color: #E2EBFA;\n",
              "        box-shadow: 0px 1px 2px rgba(60, 64, 67, 0.3), 0px 1px 3px 1px rgba(60, 64, 67, 0.15);\n",
              "        fill: #174EA6;\n",
              "      }\n",
              "\n",
              "      [theme=dark] .colab-df-generate {\n",
              "        background-color: #3B4455;\n",
              "        fill: #D2E3FC;\n",
              "      }\n",
              "\n",
              "      [theme=dark] .colab-df-generate:hover {\n",
              "        background-color: #434B5C;\n",
              "        box-shadow: 0px 1px 3px 1px rgba(0, 0, 0, 0.15);\n",
              "        filter: drop-shadow(0px 1px 2px rgba(0, 0, 0, 0.3));\n",
              "        fill: #FFFFFF;\n",
              "      }\n",
              "    </style>\n",
              "    <button class=\"colab-df-generate\" onclick=\"generateWithVariable('df')\"\n",
              "            title=\"Generate code using this dataframe.\"\n",
              "            style=\"display:none;\">\n",
              "\n",
              "  <svg xmlns=\"http://www.w3.org/2000/svg\" height=\"24px\"viewBox=\"0 0 24 24\"\n",
              "       width=\"24px\">\n",
              "    <path d=\"M7,19H8.4L18.45,9,17,7.55,7,17.6ZM5,21V16.75L18.45,3.32a2,2,0,0,1,2.83,0l1.4,1.43a1.91,1.91,0,0,1,.58,1.4,1.91,1.91,0,0,1-.58,1.4L9.25,21ZM18.45,9,17,7.55Zm-12,3A5.31,5.31,0,0,0,4.9,8.1,5.31,5.31,0,0,0,1,6.5,5.31,5.31,0,0,0,4.9,4.9,5.31,5.31,0,0,0,6.5,1,5.31,5.31,0,0,0,8.1,4.9,5.31,5.31,0,0,0,12,6.5,5.46,5.46,0,0,0,6.5,12Z\"/>\n",
              "  </svg>\n",
              "    </button>\n",
              "    <script>\n",
              "      (() => {\n",
              "      const buttonEl =\n",
              "        document.querySelector('#id_69837f50-be23-403f-ae3c-2893c099690a button.colab-df-generate');\n",
              "      buttonEl.style.display =\n",
              "        google.colab.kernel.accessAllowed ? 'block' : 'none';\n",
              "\n",
              "      buttonEl.onclick = () => {\n",
              "        google.colab.notebook.generateWithVariable('df');\n",
              "      }\n",
              "      })();\n",
              "    </script>\n",
              "  </div>\n",
              "\n",
              "    </div>\n",
              "  </div>\n"
            ],
            "application/vnd.google.colaboratory.intrinsic+json": {
              "type": "dataframe",
              "variable_name": "df"
            }
          },
          "metadata": {},
          "execution_count": 50
        }
      ]
    },
    {
      "cell_type": "code",
      "source": [
        "# Step 6: Calculate and print the average lane occupancy for each unique date\n",
        "unique_dates = df['date'].unique()\n",
        "for date in unique_dates:\n",
        "    avg_lane_occupancy = df[df['date'] == date]['lane-id'].mean()\n",
        "    print(f\"Average lane occupancy for {pd.Timestamp(date).date()}: {avg_lane_occupancy}\")\n",
        "\n",
        "# Step 7: Visualize the total lane counts based on status, create a pie chart\n",
        "status_counts = df['status'].value_counts()\n",
        "status_counts\n",
        "plt.figure(figsize=(6,6))\n",
        "plt.pie(status_counts, labels=status_counts.index, autopct='%1.1f%%', startangle=140)\n",
        "plt.title('Lane Counts Based on Status')\n",
        "plt.show()"
      ],
      "metadata": {
        "id": "kKCl1auUCHPl",
        "outputId": "130e5c3c-94d8-4770-c8dc-0f0aada68131",
        "colab": {
          "base_uri": "https://localhost:8080/",
          "height": 631
        }
      },
      "execution_count": null,
      "outputs": [
        {
          "output_type": "stream",
          "name": "stdout",
          "text": [
            "Average lane occupancy for 2021-11-10: 2.2\n",
            "Average lane occupancy for 2021-11-02: 2.2\n",
            "Average lane occupancy for 2021-11-08: 2.2\n",
            "Average lane occupancy for 2021-11-11: 2.2\n",
            "Average lane occupancy for 2021-11-03: 2.2\n",
            "Average lane occupancy for 2021-11-09: 2.2\n"
          ]
        },
        {
          "output_type": "display_data",
          "data": {
            "text/plain": [
              "<Figure size 600x600 with 1 Axes>"
            ],
            "image/png": "[encoded data removed]"
          },
          "metadata": {}
        }
      ]
    },
    {
      "cell_type": "code",
      "source": [
        "# Step 8: Create Scatter Plot of Lane Occupancy vs. Lane Count\n",
        "\n",
        "import pandas as pd\n",
        "import matplotlib.pyplot as plt\n",
        "df = df\n",
        "plt.figure(figsize=(10,6))\n",
        "plt.scatter(df['lane-count'],df['lane-occupancy'],alpha=0.5)\n",
        "plt.xlabel('Lane Count')\n",
        "plt.ylabel('Lane Occupancy')\n",
        "plt.title('Lane Count vs Lane Occupancy')\n",
        "plt.grid(True)\n",
        "plt.show()"
      ],
      "metadata": {
        "id": "etqYTkGKCxtX",
        "outputId": "d5461a6c-8350-4b94-b80e-2570117222e3",
        "colab": {
          "base_uri": "https://localhost:8080/",
          "height": 564
        }
      },
      "execution_count": 124,
      "outputs": [
        {
          "output_type": "display_data",
          "data": {
            "text/plain": [
              "<Figure size 1000x600 with 1 Axes>"
            ],
            "image/png": "[encoded data removed]"
          },
          "metadata": {}
        }
      ]
    },
    {
      "cell_type": "code",
      "source": [
        "cd lecture3\n"
      ],
      "metadata": {
        "id": "SoHq_CuXCz3X",
        "colab": {
          "base_uri": "https://localhost:8080/"
        },
        "outputId": "140de151-26f9-4146-ed3a-20ba06f25050"
      },
      "execution_count": null,
      "outputs": [
        {
          "output_type": "stream",
          "name": "stdout",
          "text": [
            "[Errno 2] No such file or directory: 'lecture3/Submissions'\n",
            "/mnt/AI4CCEE_Fall_2024/in_class_activity/lecture3\n"
          ]
        }
      ]
    },
    {
      "cell_type": "code",
      "source": [
        "cd Submissions"
      ],
      "metadata": {
        "colab": {
          "base_uri": "https://localhost:8080/"
        },
        "id": "n1dFYbAkEnV4",
        "outputId": "630ef0ba-5c50-4bde-c40d-32d59c90d104"
      },
      "execution_count": null,
      "outputs": [
        {
          "output_type": "stream",
          "name": "stdout",
          "text": [
            "/mnt/AI4CCEE_Fall_2024/in_class_activity/lecture3/Submissions\n"
          ]
        }
      ]
    },
    {
      "cell_type": "code",
      "source": [
        "ls"
      ],
      "metadata": {
        "colab": {
          "base_uri": "https://localhost:8080/"
        },
        "id": "aKqb4CkVErTG",
        "outputId": "3026d251-e3bb-4517-ed4a-dc231aba7cc9"
      },
      "execution_count": null,
      "outputs": [
        {
          "output_type": "stream",
          "name": "stdout",
          "text": [
            "Act_1_Ahmad_Yaseen.ipynb  Act_3_Ahmad_Yaseen.ipynb  Homework_1.ipynb        lecture_3_siva.py\n",
            "ACt_2_Ahmad_Yaseen.ipynb  ACT4_ahmadYaseen.ipynb    HW6_Ahmad_Yaseen.ipynb  README.md\n"
          ]
        }
      ]
    },
    {
      "cell_type": "code",
      "source": [
        "ls"
      ],
      "metadata": {
        "colab": {
          "base_uri": "https://localhost:8080/"
        },
        "id": "PSm42TvGGDYe",
        "outputId": "bbdf5a79-ba33-47ce-e907-71eda95f3ed9"
      },
      "execution_count": 89,
      "outputs": [
        {
          "output_type": "stream",
          "name": "stdout",
          "text": [
            "\u001b[0m\u001b[01;36mbin\u001b[0m@                        \u001b[01;34mdatalab\u001b[0m/  \u001b[01;36mlib\u001b[0m@     \u001b[01;34mmedia\u001b[0m/                    \u001b[01;34mproc\u001b[0m/        \u001b[01;36msbin\u001b[0m@  \u001b[01;34mtools\u001b[0m/\n",
            "\u001b[01;34mboot\u001b[0m/                       \u001b[01;34mdev\u001b[0m/      \u001b[01;36mlib32\u001b[0m@   \u001b[01;34mmnt\u001b[0m/                      \u001b[01;34mpython-apt\u001b[0m/  \u001b[01;34msrv\u001b[0m/   \u001b[01;34musr\u001b[0m/\n",
            "\u001b[01;34mcontent\u001b[0m/                    \u001b[01;34metc\u001b[0m/      \u001b[01;36mlib64\u001b[0m@   NGC-DL-CONTAINER-LICENSE  \u001b[01;34mroot\u001b[0m/        \u001b[01;34msys\u001b[0m/   \u001b[01;34mvar\u001b[0m/\n",
            "cuda-keyring_1.0-1_all.deb  \u001b[01;34mhome\u001b[0m/     \u001b[01;36mlibx32\u001b[0m@  \u001b[01;34mopt\u001b[0m/                      \u001b[01;34mrun\u001b[0m/         \u001b[30;42mtmp\u001b[0m/\n"
          ]
        }
      ]
    },
    {
      "cell_type": "code",
      "source": [
        "!git clone https://github.com/miguel-source/AI4CCEE_Fall_2024"
      ],
      "metadata": {
        "id": "ize64ytrEzzG",
        "colab": {
          "base_uri": "https://localhost:8080/"
        },
        "outputId": "b9927fc5-6692-4b9e-fe18-25b700031edf"
      },
      "execution_count": 100,
      "outputs": [
        {
          "output_type": "stream",
          "name": "stdout",
          "text": [
            "Cloning into 'AI4CCEE_Fall_2024'...\n",
            "remote: Enumerating objects: 30, done.\u001b[K\n",
            "remote: Counting objects: 100% (7/7), done.\u001b[K\n",
            "remote: Compressing objects: 100% (7/7), done.\u001b[K\n",
            "remote: Total 30 (delta 2), reused 0 (delta 0), pack-reused 23 (from 1)\u001b[K\n",
            "Receiving objects: 100% (30/30), 1013.65 KiB | 5.02 MiB/s, done.\n",
            "Resolving deltas: 100% (5/5), done.\n"
          ]
        }
      ]
    },
    {
      "cell_type": "code",
      "source": [
        "cd Submissions"
      ],
      "metadata": {
        "colab": {
          "base_uri": "https://localhost:8080/"
        },
        "id": "LrZsfofLI32Q",
        "outputId": "c176494a-2c54-4026-c80e-17293469d992"
      },
      "execution_count": 114,
      "outputs": [
        {
          "output_type": "stream",
          "name": "stdout",
          "text": [
            "/mnt/AI4CCEE_Fall_2024/in_class_activity/lecture3/Submissions\n"
          ]
        }
      ]
    },
    {
      "cell_type": "code",
      "source": [
        "cp //mnt/AI4CCEE_Fall_2024/AI4CCEE_Fall_2024/HW6_Miguel_Diaz.ipynb .\n"
      ],
      "metadata": {
        "id": "OzsBAnQyJiiJ"
      },
      "execution_count": 115,
      "outputs": []
    },
    {
      "cell_type": "code",
      "source": [
        "!git config --global user.email \"adi10136@iastate.edu\"\n",
        "!git config --global user.name \"Miguel Diaz\"\n",
        "!git add HW6_Miguel_Diaz.ipynb\n",
        "!git commit -m \"Added my submission\"\n"
      ],
      "metadata": {
        "id": "b3S_ak8ZF1e9",
        "colab": {
          "base_uri": "https://localhost:8080/"
        },
        "outputId": "124251dc-a725-41ad-808a-023ead725880"
      },
      "execution_count": 121,
      "outputs": [
        {
          "output_type": "stream",
          "name": "stdout",
          "text": [
            "[main 37ad876] Added my submission\n",
            " 1 file changed, 1685 insertions(+)\n",
            " create mode 100644 in_class_activity/lecture3/Submissions/HW6_Miguel_Diaz.ipynb\n"
          ]
        }
      ]
    },
    {
      "cell_type": "code",
      "source": [
        "!git push origin main"
      ],
      "metadata": {
        "id": "khy5eViUF3AF",
        "colab": {
          "base_uri": "https://localhost:8080/"
        },
        "outputId": "c65def10-4263-4a77-a48a-a92924fe4f56"
      },
      "execution_count": 122,
      "outputs": [
        {
          "output_type": "stream",
          "name": "stdout",
          "text": [
            "fatal: could not read Username for 'https://github.com': No such device or address\n"
          ]
        }
      ]
    },
    {
      "cell_type": "code",
      "source": [],
      "metadata": {
        "id": "1hN0MjwyJ0j3"
      },
      "execution_count": null,
      "outputs": []
    }
  ],
  "metadata": {
    "colab": {
      "provenance": [],
      "include_colab_link": true
    },
    "kernelspec": {
      "display_name": "Python 3",
      "name": "python3"
    }
  },
  "nbformat": 4,
  "nbformat_minor": 0
}