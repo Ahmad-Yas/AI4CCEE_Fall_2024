{
  "nbformat": 4,
  "nbformat_minor": 0,
  "metadata": {
    "colab": {
      "provenance": []
    },
    "kernelspec": {
      "name": "python3",
      "display_name": "Python 3"
    },
    "language_info": {
      "name": "python"
    }
  },
  "cells": [
    {
      "cell_type": "code",
      "source": [
        "asphalt_unit_cost = 0\n",
        "asphalt_quantity = 0\n",
        "concrete_unit_cost = 0\n",
        "concrete_quantity = 0\n",
        "labor_unit_cost = 0\n",
        "labor_hours = 0"
      ],
      "metadata": {
        "id": "f9ha5c3rdcte"
      },
      "execution_count": null,
      "outputs": []
    },
    {
      "cell_type": "code",
      "source": [
        "asphalt_total_cost = asphalt_unit_cost * asphalt_quantity\n",
        "concrete_total_cost = concrete_unit_cost * concrete_quantity\n",
        "labor_total_cost = labor_unit_cost * labor_hours"
      ],
      "metadata": {
        "id": "nIbY3Zp8eavh"
      },
      "execution_count": null,
      "outputs": []
    },
    {
      "cell_type": "code",
      "source": [
        "total_project_cost = asphalt_total_cost + concrete_total_cost + labor_total_cost"
      ],
      "metadata": {
        "id": "-0PEp8S9ecBZ"
      },
      "execution_count": null,
      "outputs": []
    },
    {
      "cell_type": "code",
      "source": [
        "print(\"\\n---- Project Cost Breakdown ----\")\n",
        "print(f\"Asphalt Total Cost: ${asphalt_total_cost:.2f}\")\n",
        "print(f\"Concrete Total Cost: ${concrete_total_cost:.2f}\")\n",
        "print(f\"Labor Total Cost: ${labor_total_cost:.2f}\")\n",
        "print(f\"Total Project Cost: ${total_project_cost:.2f}\")"
      ],
      "metadata": {
        "colab": {
          "base_uri": "https://localhost:8080/"
        },
        "id": "XZtV-uLeefbb",
        "outputId": "a337862b-89ae-4cc4-c5c1-8b191caf7784"
      },
      "execution_count": null,
      "outputs": [
        {
          "output_type": "stream",
          "name": "stdout",
          "text": [
            "\n",
            "---- Project Cost Breakdown ----\n",
            "Asphalt Total Cost: $0.00\n",
            "Concrete Total Cost: $0.00\n",
            "Labor Total Cost: $0.00\n",
            "Total Project Cost: $0.00\n"
          ]
        }
      ]
    },
    {
      "cell_type": "code",
      "source": [
        "budget = 50000\n",
        "if total_project_cost <= budget:\n",
        "    print(\"\\nThe project is under budget.\")\n",
        "else:\n",
        "    print(\"\\nThe project is over budget.\")"
      ],
      "metadata": {
        "colab": {
          "base_uri": "https://localhost:8080/"
        },
        "id": "XT0x6iB2enyc",
        "outputId": "a090f48b-4ebd-4f74-9e26-e1093c58195c"
      },
      "execution_count": null,
      "outputs": [
        {
          "output_type": "stream",
          "name": "stdout",
          "text": [
            "\n",
            "The project is under budget.\n"
          ]
        }
      ]
    }
  ]
}