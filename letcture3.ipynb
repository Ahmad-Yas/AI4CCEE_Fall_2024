{
  "nbformat": 4,
  "nbformat_minor": 0,
  "metadata": {
    "colab": {
      "provenance": [],
      "authorship_tag": "ABX9TyNOvo7we4N7V0M8crb325Fu",
      "include_colab_link": true
    },
    "kernelspec": {
      "name": "python3",
      "display_name": "Python 3"
    },
    "language_info": {
      "name": "python"
    }
  },
  "cells": [
    {
      "cell_type": "markdown",
      "metadata": {
        "id": "view-in-github",
        "colab_type": "text"
      },
      "source": [
        "<a href=\"https://colab.research.google.com/github/pingisu/AI4CCEE_Fall_2024/blob/main/letcture3.ipynb\" target=\"_parent\"><img src=\"https://colab.research.google.com/assets/colab-badge.svg\" alt=\"Open In Colab\"/></a>"
      ]
    },
    {
      "cell_type": "code",
      "execution_count": 6,
      "metadata": {
        "colab": {
          "base_uri": "https://localhost:8080/"
        },
        "id": "Pda7pOoGmJON",
        "outputId": "6ac14ecb-3455-4c19-e247-351dced5cbef"
      },
      "outputs": [
        {
          "output_type": "stream",
          "name": "stdout",
          "text": [
            "     Name  Age         City  Gender\n",
            "0    John   26     New York    Male\n",
            "1    Jane   31  Los Angeles  Female\n",
            "2   Alice   22      Chicago  Female\n",
            "3     Bob   45      Houston    Male\n",
            "4   Carol   37      Phoenix  Female\n",
            "5    John   26     New York  Female\n",
            "6    Jane   29  Los Angeles  Female\n",
            "7   Alice   24      Chicago    Male\n",
            "8     Bob   40      Houston  Female\n",
            "9   Carol   33      Phoenix    Male\n",
            "10   John   26     New York  Female\n",
            "11   Jane   28  Los Angeles    Male\n",
            "12  Alice   30      Chicago  Female\n",
            "13    Bob   39      Houston    Male\n",
            "14  Carol   26      Phoenix  Female\n",
            "15   John   26     New York  Female\n",
            "16   Jane   35  Los Angeles  Female\n",
            "17  Alice   25      Chicago    Male\n",
            "18    Bob   41      Houston  Female\n",
            "19  Carol   38      Phoenix  Female\n",
            "20   John   26     New York    Male\n",
            "21   Jane   27  Los Angeles  Female\n",
            "22  Alice   21      Chicago  Female\n",
            "23    Bob   44      Houston    Male\n",
            "24  Carol   32      Phoenix  Female\n",
            "25   John   26     New York  Female\n",
            "26   Jane   30  Los Angeles    Male\n",
            "27  Alice   23      Chicago  Female\n",
            "28    Bob   46      Houston  Female\n",
            "29  Carol   34      Phoenix    Male\n",
            "30   John   26     New York  Female\n",
            "31   Jane   32  Los Angeles  Female\n",
            "32  Alice   26      Chicago    Male\n",
            "33    Bob   43      Houston  Female\n",
            "34  Carol   30      Phoenix  Female\n",
            "35   John   26     New York    Male\n",
            "36   Jane   28  Los Angeles  Female\n",
            "37  Alice   27      Chicago  Female\n",
            "38    Bob   42      Houston    Male\n",
            "39  Carol   29      Phoenix  Female\n",
            "40   John   26     New York  Female\n",
            "41   Jane   34  Los Angeles    Male\n",
            "42  Alice   22      Chicago  Female\n",
            "43    Bob   40      Houston  Female\n",
            "44  Carol   35      Phoenix    Male\n",
            "45   John   26     New York  Female\n",
            "46   Jane   31  Los Angeles  Female\n",
            "47  Alice   24      Chicago    Male\n",
            "48    Bob   38      Houston  Female\n",
            "49  Carol   36      Phoenix  Female\n",
            "50   John   26     New York    Male\n",
            "51   Jane   29  Los Angeles  Female\n",
            "52  Alice   25      Chicago  Female\n",
            "53    Bob   42      Houston    Male\n",
            "54  Carol   33      Phoenix  Female\n"
          ]
        }
      ],
      "source": [
        "import pandas as pd\n",
        "df = pd.read_csv('/content/lecture 4/example.csv')\n",
        "print(df)"
      ]
    },
    {
      "cell_type": "code",
      "source": [
        "print(df.head())"
      ],
      "metadata": {
        "colab": {
          "base_uri": "https://localhost:8080/"
        },
        "id": "pJVdFK7qoSts",
        "outputId": "e9db8dd2-b550-4cab-faa1-1226323a8df7"
      },
      "execution_count": 7,
      "outputs": [
        {
          "output_type": "stream",
          "name": "stdout",
          "text": [
            "    Name  Age         City  Gender\n",
            "0   John   26     New York    Male\n",
            "1   Jane   31  Los Angeles  Female\n",
            "2  Alice   22      Chicago  Female\n",
            "3    Bob   45      Houston    Male\n",
            "4  Carol   37      Phoenix  Female\n"
          ]
        }
      ]
    },
    {
      "cell_type": "code",
      "source": [
        "print(df.describe())"
      ],
      "metadata": {
        "colab": {
          "base_uri": "https://localhost:8080/"
        },
        "id": "utye9Z1-opRc",
        "outputId": "16cb5c88-f517-4dac-867d-645a140a85c3"
      },
      "execution_count": 8,
      "outputs": [
        {
          "output_type": "stream",
          "name": "stdout",
          "text": [
            "             Age\n",
            "count  55.000000\n",
            "mean   31.127273\n",
            "std     6.675146\n",
            "min    21.000000\n",
            "25%    26.000000\n",
            "50%    29.000000\n",
            "75%    35.500000\n",
            "max    46.000000\n"
          ]
        }
      ]
    },
    {
      "cell_type": "code",
      "source": [
        "print(df.info())"
      ],
      "metadata": {
        "colab": {
          "base_uri": "https://localhost:8080/"
        },
        "id": "buweK7txouiL",
        "outputId": "2466a1dd-a1fb-42cf-9581-7f87d404be62"
      },
      "execution_count": 9,
      "outputs": [
        {
          "output_type": "stream",
          "name": "stdout",
          "text": [
            "<class 'pandas.core.frame.DataFrame'>\n",
            "RangeIndex: 55 entries, 0 to 54\n",
            "Data columns (total 4 columns):\n",
            " #   Column  Non-Null Count  Dtype \n",
            "---  ------  --------------  ----- \n",
            " 0   Name    55 non-null     object\n",
            " 1   Age     55 non-null     int64 \n",
            " 2   City    55 non-null     object\n",
            " 3   Gender  55 non-null     object\n",
            "dtypes: int64(1), object(3)\n",
            "memory usage: 1.8+ KB\n",
            "None\n"
          ]
        }
      ]
    },
    {
      "cell_type": "code",
      "source": [
        "ages = df['Age']"
      ],
      "metadata": {
        "id": "HKMBotFeo_XS"
      },
      "execution_count": 10,
      "outputs": []
    },
    {
      "cell_type": "code",
      "source": [
        "subset = df[['Name', 'City']]"
      ],
      "metadata": {
        "id": "A0vdcMf7pVCj"
      },
      "execution_count": 11,
      "outputs": []
    },
    {
      "cell_type": "code",
      "source": [
        "young_people = df[df['Age'] < 30]"
      ],
      "metadata": {
        "id": "eaptCjzwqPQn"
      },
      "execution_count": 12,
      "outputs": []
    }
  ]
}