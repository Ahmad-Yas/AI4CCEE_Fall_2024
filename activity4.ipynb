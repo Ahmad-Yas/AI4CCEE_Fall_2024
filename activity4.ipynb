{
  "nbformat": 4,
  "nbformat_minor": 0,
  "metadata": {
    "colab": {
      "provenance": [],
      "authorship_tag": "ABX9TyOsSqoJLCVBowH08N48lWhO",
      "include_colab_link": true
    },
    "kernelspec": {
      "name": "python3",
      "display_name": "Python 3"
    },
    "language_info": {
      "name": "python"
    }
  },
  "cells": [
    {
      "cell_type": "markdown",
      "metadata": {
        "id": "view-in-github",
        "colab_type": "text"
      },
      "source": [
        "<a href=\"https://colab.research.google.com/github/pingisu/AI4CCEE_Fall_2024/blob/main/activity4.ipynb\" target=\"_parent\"><img src=\"https://colab.research.google.com/assets/colab-badge.svg\" alt=\"Open In Colab\"/></a>"
      ]
    },
    {
      "cell_type": "code",
      "execution_count": null,
      "metadata": {
        "colab": {
          "base_uri": "https://localhost:8080/"
        },
        "id": "NI-c8nFEquu0",
        "outputId": "c0ae47f5-2e47-4afd-be1a-bf2cbe3341a1"
      },
      "outputs": [
        {
          "output_type": "stream",
          "name": "stdout",
          "text": [
            "       owner-id network-id      date   time  utc-offset  start-ime  end-time  \\\n",
            "0        Q-Free     Q-Free  20211110  80900           0      80800     80900   \n",
            "1        Q-Free     Q-Free  20211110  80900           0      80800     80900   \n",
            "2        Q-Free     Q-Free  20211110  80900           0      80800     80900   \n",
            "3        Q-Free     Q-Free  20211110  80900           0      80800     80900   \n",
            "4        Q-Free     Q-Free  20211110  80900           0      80800     80900   \n",
            "...         ...        ...       ...    ...         ...        ...       ...   \n",
            "128775   Q-Free     Q-Free  20211109  50500           0      50400     50500   \n",
            "128776   Q-Free     Q-Free  20211109  50500           0      50400     50500   \n",
            "128777   Q-Free     Q-Free  20211109  50500           0      50400     50500   \n",
            "128778   Q-Free     Q-Free  20211109  50500           0      50400     50500   \n",
            "128779   Q-Free     Q-Free  20211109  50500           0      50400     50500   \n",
            "\n",
            "          detector-id status  lane-id  ...  small-class-count  \\\n",
            "0        DMDS20-WB EN     OK        1  ...                  0   \n",
            "1        DMDS20-WB RL     OK        4  ...                  0   \n",
            "2       DMDS20-WB RCL     OK        3  ...                  0   \n",
            "3       DMDS20-WB LCL     OK        2  ...                  0   \n",
            "4        DMDS20-WB LL     OK        1  ...                  0   \n",
            "...               ...    ...      ...  ...                ...   \n",
            "128775   DMDS20-EB LL     OK        1  ...                  0   \n",
            "128776  DMDS20-EB LCL     OK        2  ...                  0   \n",
            "128777  DMDS20-EB RCL     OK        3  ...                  1   \n",
            "128778   DMDS20-EB RL     OK        4  ...                  0   \n",
            "128779   DMDS20-EB EX     OK        1  ...                  0   \n",
            "\n",
            "        medium-class-count  large-class-count                device-id  \\\n",
            "0                        0                  0  OpenTMS-Detector46573-0   \n",
            "1                        1                  0  OpenTMS-Detector46573-1   \n",
            "2                        0                  0  OpenTMS-Detector46573-2   \n",
            "3                        0                  0  OpenTMS-Detector46573-3   \n",
            "4                        0                  0  OpenTMS-Detector46573-4   \n",
            "...                    ...                ...                      ...   \n",
            "128775                   2                  0  OpenTMS-Detector46573-5   \n",
            "128776                   2                  0  OpenTMS-Detector46573-6   \n",
            "128777                   4                  1  OpenTMS-Detector46573-7   \n",
            "128778                   2                  0  OpenTMS-Detector46573-8   \n",
            "128779                   0                  0  OpenTMS-Detector46573-9   \n",
            "\n",
            "        link-direction  detector-type sample-period device-description month  \\\n",
            "0                    w        unknown            60            ON_RAMP    11   \n",
            "1                    w        unknown            60             NORMAL    11   \n",
            "2                    w        unknown            60             NORMAL    11   \n",
            "3                    w        unknown            60             NORMAL    11   \n",
            "4                    w        unknown            60             NORMAL    11   \n",
            "...                ...            ...           ...                ...   ...   \n",
            "128775               e        unknown            60             NORMAL    11   \n",
            "128776               e        unknown            60             NORMAL    11   \n",
            "128777               e        unknown            60             NORMAL    11   \n",
            "128778               e        unknown            60             NORMAL    11   \n",
            "128779               e        unknown            60           OFF_RAMP    11   \n",
            "\n",
            "        day  \n",
            "0        10  \n",
            "1        10  \n",
            "2        10  \n",
            "3        10  \n",
            "4        10  \n",
            "...     ...  \n",
            "128775    8  \n",
            "128776    8  \n",
            "128777    8  \n",
            "128778    8  \n",
            "128779    8  \n",
            "\n",
            "[128780 rows x 23 columns]\n"
          ]
        }
      ],
      "source": [
        "import pandas as pd\n",
        "df = pd.read_csv('/content/235-Nov.csv')\n",
        "print(df)"
      ]
    },
    {
      "cell_type": "code",
      "source": [
        "print(df.head())"
      ],
      "metadata": {
        "colab": {
          "base_uri": "https://localhost:8080/"
        },
        "id": "Z6mTuvYGro-8",
        "outputId": "376ee6ab-86f3-4961-a84f-f58260f22ead"
      },
      "execution_count": null,
      "outputs": [
        {
          "output_type": "stream",
          "name": "stdout",
          "text": [
            "  owner-id network-id      date   time  utc-offset  start-ime  end-time  \\\n",
            "0   Q-Free     Q-Free  20211110  80900           0      80800     80900   \n",
            "1   Q-Free     Q-Free  20211110  80900           0      80800     80900   \n",
            "2   Q-Free     Q-Free  20211110  80900           0      80800     80900   \n",
            "3   Q-Free     Q-Free  20211110  80900           0      80800     80900   \n",
            "4   Q-Free     Q-Free  20211110  80900           0      80800     80900   \n",
            "\n",
            "     detector-id status  lane-id  ...  small-class-count  medium-class-count  \\\n",
            "0   DMDS20-WB EN     OK        1  ...                  0                   0   \n",
            "1   DMDS20-WB RL     OK        4  ...                  0                   1   \n",
            "2  DMDS20-WB RCL     OK        3  ...                  0                   0   \n",
            "3  DMDS20-WB LCL     OK        2  ...                  0                   0   \n",
            "4   DMDS20-WB LL     OK        1  ...                  0                   0   \n",
            "\n",
            "   large-class-count                device-id  link-direction  detector-type  \\\n",
            "0                  0  OpenTMS-Detector46573-0               w        unknown   \n",
            "1                  0  OpenTMS-Detector46573-1               w        unknown   \n",
            "2                  0  OpenTMS-Detector46573-2               w        unknown   \n",
            "3                  0  OpenTMS-Detector46573-3               w        unknown   \n",
            "4                  0  OpenTMS-Detector46573-4               w        unknown   \n",
            "\n",
            "  sample-period device-description month  day  \n",
            "0            60            ON_RAMP    11   10  \n",
            "1            60             NORMAL    11   10  \n",
            "2            60             NORMAL    11   10  \n",
            "3            60             NORMAL    11   10  \n",
            "4            60             NORMAL    11   10  \n",
            "\n",
            "[5 rows x 23 columns]\n"
          ]
        }
      ]
    },
    {
      "cell_type": "code",
      "source": [
        "print(df.info())"
      ],
      "metadata": {
        "colab": {
          "base_uri": "https://localhost:8080/"
        },
        "id": "YNsF58ZHrwHT",
        "outputId": "1b396d4a-ea70-4708-9399-c1b85f2d2657"
      },
      "execution_count": null,
      "outputs": [
        {
          "output_type": "stream",
          "name": "stdout",
          "text": [
            "<class 'pandas.core.frame.DataFrame'>\n",
            "RangeIndex: 128780 entries, 0 to 128779\n",
            "Data columns (total 23 columns):\n",
            " #   Column              Non-Null Count   Dtype \n",
            "---  ------              --------------   ----- \n",
            " 0   owner-id            128780 non-null  object\n",
            " 1   network-id          128780 non-null  object\n",
            " 2   date                128780 non-null  int64 \n",
            " 3   time                128780 non-null  int64 \n",
            " 4   utc-offset          128780 non-null  int64 \n",
            " 5   start-ime           128780 non-null  int64 \n",
            " 6   end-time            128780 non-null  int64 \n",
            " 7   detector-id         128780 non-null  object\n",
            " 8   status              128780 non-null  object\n",
            " 9   lane-id             128780 non-null  int64 \n",
            " 10  lane-count          128780 non-null  int64 \n",
            " 11  lane-occupancy      128780 non-null  int64 \n",
            " 12  lane-speed          128780 non-null  int64 \n",
            " 13  small-class-count   128780 non-null  int64 \n",
            " 14  medium-class-count  128780 non-null  int64 \n",
            " 15  large-class-count   128780 non-null  int64 \n",
            " 16  device-id           128780 non-null  object\n",
            " 17  link-direction      128780 non-null  object\n",
            " 18  detector-type       128780 non-null  object\n",
            " 19  sample-period       128780 non-null  int64 \n",
            " 20  device-description  128780 non-null  object\n",
            " 21  month               128780 non-null  int64 \n",
            " 22  day                 128780 non-null  int64 \n",
            "dtypes: int64(15), object(8)\n",
            "memory usage: 22.6+ MB\n",
            "None\n"
          ]
        }
      ]
    },
    {
      "cell_type": "code",
      "source": [
        "# prompt: convert units of specific column in database\n",
        "\n",
        "# Assuming 'df' is your DataFrame and 'column_name' is the name of the column you want to convert\n",
        "column_name = 'time'  # Replace with the actual column name\n",
        "new_unit_column_name = 'time_in_hours'\n",
        "\n",
        "# Define the conversion factor (e.g., convert from minutes to seconds)\n",
        "conversion_factor = 60\n",
        "\n",
        "if column_name in df.columns:\n",
        "  # Create a new column with the converted values\n",
        "  df[new_unit_column_name] = df[column_name] / conversion_factor\n",
        "  print(df.head())  # Print the first few rows of the DataFrame with the new column\n",
        "else:\n",
        "  print(f\"The column '{column_name}' does not exist in the DataFrame.\")"
      ],
      "metadata": {
        "colab": {
          "base_uri": "https://localhost:8080/"
        },
        "id": "3radN2fgzwGQ",
        "outputId": "0d85b3b8-e642-4830-8e0d-b3cd0e92c88f"
      },
      "execution_count": null,
      "outputs": [
        {
          "output_type": "stream",
          "name": "stdout",
          "text": [
            "  owner-id network-id      date   time  utc-offset  start-ime  end-time  \\\n",
            "0   Q-Free     Q-Free  20211110  80900           0      80800     80900   \n",
            "1   Q-Free     Q-Free  20211110  80900           0      80800     80900   \n",
            "2   Q-Free     Q-Free  20211110  80900           0      80800     80900   \n",
            "3   Q-Free     Q-Free  20211110  80900           0      80800     80900   \n",
            "4   Q-Free     Q-Free  20211110  80900           0      80800     80900   \n",
            "\n",
            "     detector-id status  lane-id  ...  medium-class-count  large-class-count  \\\n",
            "0   DMDS20-WB EN     OK        1  ...                   0                  0   \n",
            "1   DMDS20-WB RL     OK        4  ...                   1                  0   \n",
            "2  DMDS20-WB RCL     OK        3  ...                   0                  0   \n",
            "3  DMDS20-WB LCL     OK        2  ...                   0                  0   \n",
            "4   DMDS20-WB LL     OK        1  ...                   0                  0   \n",
            "\n",
            "                 device-id  link-direction  detector-type  sample-period  \\\n",
            "0  OpenTMS-Detector46573-0               w        unknown             60   \n",
            "1  OpenTMS-Detector46573-1               w        unknown             60   \n",
            "2  OpenTMS-Detector46573-2               w        unknown             60   \n",
            "3  OpenTMS-Detector46573-3               w        unknown             60   \n",
            "4  OpenTMS-Detector46573-4               w        unknown             60   \n",
            "\n",
            "  device-description month day  time_in_hours  \n",
            "0            ON_RAMP    11  10    1348.333333  \n",
            "1             NORMAL    11  10    1348.333333  \n",
            "2             NORMAL    11  10    1348.333333  \n",
            "3             NORMAL    11  10    1348.333333  \n",
            "4             NORMAL    11  10    1348.333333  \n",
            "\n",
            "[5 rows x 24 columns]\n"
          ]
        }
      ]
    }
  ]
}